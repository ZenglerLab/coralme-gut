{
 "cells": [
  {
   "cell_type": "code",
   "execution_count": 4,
   "metadata": {
    "ExecuteTime": {
     "end_time": "2023-01-23T02:32:11.189506Z",
     "start_time": "2023-01-23T02:32:10.314605Z"
    }
   },
   "outputs": [],
   "source": [
    "import glob\n",
    "import numpy\n",
    "import pandas\n",
    "import seaborn\n",
    "import matplotlib.pyplot as plt\n",
    "from tqdm import tqdm\n",
    "import multiprocessing as mp\n",
    "import os\n",
    "from build import build_model\n",
    "import coralme\n",
    "from tqdm import tqdm"
   ]
  },
  {
   "cell_type": "code",
   "execution_count": 5,
   "metadata": {},
   "outputs": [
    {
     "data": {
      "text/html": [
       "<style>.container { width:95% !important; }</style>"
      ],
      "text/plain": [
       "<IPython.core.display.HTML object>"
      ]
     },
     "metadata": {},
     "output_type": "display_data"
    },
    {
     "name": "stdout",
     "output_type": "stream",
     "text": [
      "The autoreload extension is already loaded. To reload it, use:\n",
      "  %reload_ext autoreload\n"
     ]
    }
   ],
   "source": [
    "from IPython.display import display, HTML, Math, Markdown\n",
    "display(HTML(\"<style>.container { width:95% !important; }</style>\"))\n",
    "\n",
    "%load_ext autoreload\n",
    "%autoreload 2"
   ]
  },
  {
   "cell_type": "code",
   "execution_count": 6,
   "metadata": {},
   "outputs": [
    {
     "data": {
      "text/plain": [
       "495"
      ]
     },
     "execution_count": 6,
     "metadata": {},
     "output_type": "execute_result"
    }
   ],
   "source": [
    "survivors = set(pandas.read_csv(\"survivors.txt\",index_col=0,header=None).index.to_list())\n",
    "len(survivors)"
   ]
  },
  {
   "cell_type": "code",
   "execution_count": 7,
   "metadata": {},
   "outputs": [],
   "source": [
    "dct = {}\n",
    "condition = \"IBD\"\n",
    "for org in survivors:\n",
    "    try:\n",
    "        dct[org] = {\n",
    "            \"targets_IBD\" : len(pandas.read_csv(\"./ibdmdb/integration_targets/{}/{}_targets.txt\".format(\"IBD\",org),header=None,index_col=0).index.to_list()),\n",
    "            \"targets_nonIBD\" : len(pandas.read_csv(\"./ibdmdb/integration_targets/{}/{}_targets.txt\".format(\"nonIBD\",org),header=None,index_col=0).index.to_list()),\n",
    "            \"killable_IBD\" : len(pandas.read_csv(\"./ibdmdb/integration/{}/{}_killable.txt\".format(\"IBD\",org),header=None,index_col=0).index.to_list()),\n",
    "            \"killable_nonIBD\" : len(pandas.read_csv(\"./ibdmdb/integration/{}/{}_killable.txt\".format(\"nonIBD\",org),header=None,index_col=0).index.to_list())\n",
    "        }\n",
    "        # break\n",
    "    except:\n",
    "        pass\n",
    "Fraction = pandas.DataFrame.from_dict(dct).T\n"
   ]
  },
  {
   "cell_type": "code",
   "execution_count": 8,
   "metadata": {},
   "outputs": [],
   "source": [
    "Fraction[\"fraction_IBD\"] = Fraction[\"killable_IBD\"] / Fraction[\"targets_IBD\"]\n",
    "Fraction[\"fraction_nonIBD\"] = Fraction[\"killable_nonIBD\"] / Fraction[\"targets_nonIBD\"]\n",
    "Fraction.to_csv(\"killable_fraction.csv\")"
   ]
  },
  {
   "cell_type": "code",
   "execution_count": 9,
   "metadata": {},
   "outputs": [
    {
     "data": {
      "text/plain": [
       "<Axes: ylabel='Frequency'>"
      ]
     },
     "execution_count": 9,
     "metadata": {},
     "output_type": "execute_result"
    },
    {
     "data": {
      "image/png": "[encoded data removed]",
      "text/plain": [
       "<Figure size 640x480 with 1 Axes>"
      ]
     },
     "metadata": {},
     "output_type": "display_data"
    }
   ],
   "source": [
    "Fraction[\"fraction_IBD\"].plot.hist(alpha=0.5,bins=20)\n",
    "Fraction[\"fraction_nonIBD\"].plot.hist(alpha=0.5,bins=20)"
   ]
  },
  {
   "cell_type": "code",
   "execution_count": null,
   "metadata": {},
   "outputs": [],
   "source": []
  }
 ],
 "metadata": {
  "kernelspec": {
   "display_name": "coralme",
   "language": "python",
   "name": "coralme"
  },
  "language_info": {
   "codemirror_mode": {
    "name": "ipython",
    "version": 3
   },
   "file_extension": ".py",
   "mimetype": "text/x-python",
   "name": "python",
   "nbconvert_exporter": "python",
   "pygments_lexer": "ipython3",
   "version": "3.10.12"
  }
 },
 "nbformat": 4,
 "nbformat_minor": 4
}
