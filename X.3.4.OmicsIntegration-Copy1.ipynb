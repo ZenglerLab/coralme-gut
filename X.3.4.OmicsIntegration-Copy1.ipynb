{
 "cells": [
  {
   "cell_type": "code",
   "execution_count": 1,
   "metadata": {
    "ExecuteTime": {
     "end_time": "2023-01-23T02:32:11.189506Z",
     "start_time": "2023-01-23T02:32:10.314605Z"
    }
   },
   "outputs": [],
   "source": [
    "import glob\n",
    "import numpy\n",
    "import pandas\n",
    "import seaborn\n",
    "import matplotlib.pyplot as plt\n",
    "from tqdm import tqdm\n",
    "import multiprocessing as mp\n",
    "import os\n",
    "from build import build_model\n",
    "import coralme\n",
    "from tqdm import tqdm"
   ]
  },
  {
   "cell_type": "code",
   "execution_count": 2,
   "metadata": {},
   "outputs": [
    {
     "data": {
      "text/html": [
       "<style>.container { width:95% !important; }</style>"
      ],
      "text/plain": [
       "<IPython.core.display.HTML object>"
      ]
     },
     "metadata": {},
     "output_type": "display_data"
    }
   ],
   "source": [
    "from IPython.display import display, HTML, Math, Markdown\n",
    "display(HTML(\"<style>.container { width:95% !important; }</style>\"))\n",
    "\n",
    "%load_ext autoreload\n",
    "%autoreload 2"
   ]
  },
  {
   "cell_type": "code",
   "execution_count": 3,
   "metadata": {},
   "outputs": [],
   "source": [
    "log_format = '%(asctime)s %(message)s' #%(clientip)-15s %(user)-8s\n",
    "import logging\n",
    "from coralme.builder.main import ListHandler\n",
    "log = logging.getLogger()\n",
    "logging.basicConfig(filename = \"./ibdmdb/integration/solving.log\", filemode = 'w', level = logging.WARNING, format = log_format)\n",
    "logging.captureWarnings(True)"
   ]
  },
  {
   "cell_type": "code",
   "execution_count": 4,
   "metadata": {},
   "outputs": [],
   "source": [
    "from coralme.solver.solver import ME_NLP\n",
    "import cobra\n",
    "\n",
    "def get_nlp(model):\n",
    "    Sf, Se, lb, ub, b, c, cs, atoms, lambdas = model.construct_lp_problem(lambdify=True)\n",
    "    me_nlp = ME_NLP(Sf, Se,b, c, lb, ub,  cs, atoms, lambdas)\n",
    "    return me_nlp\n",
    "\n",
    "def knockout(model,met,me_nlp):\n",
    "    # met = \"RNA_592010.4.peg.10\"\n",
    "    rxns = [r.id for r in model.metabolites.get_by_id(met).reactions if \"transcription\" in r.id]\n",
    "    m_idx = model.metabolites.index(met)\n",
    "    r_idxs = [model.reactions.index(r) for r in rxns ]\n",
    "    for ri in r_idxs:\n",
    "        # print(tmp.Sf[(m_idx,ri)])\n",
    "        me_nlp.Sf[(m_idx,ri)] = 0\n",
    "\n",
    "def optimize(model,me_nlp,max_mu = 2.8100561374051836, min_mu = 0., maxIter = 100, lambdify = True,\n",
    "\t\ttolerance = 1e-6, precision = 'quad', verbose = True):\n",
    "    muopt, xopt, yopt, zopt, basis, stat = me_nlp.bisectmu(\n",
    "\t\t\t\tmumax = max_mu,\n",
    "\t\t\t\tmumin = min_mu,\n",
    "\t\t\t\tmaxIter = maxIter,\n",
    "\t\t\t\ttolerance = tolerance,\n",
    "\t\t\t\tprecision = precision,\n",
    "\t\t\t\tverbose = verbose)\n",
    "\n",
    "    if stat == 'optimal':\n",
    "        #f = sum([ rxn.objective_coefficient * xopt[idx] for idx, rxn in enumerate(self.reactions) ])\n",
    "        x_primal = xopt[ 0:len(model.reactions) ]   # The remainder are the slacks\n",
    "        x_dict = { rxn.id : xopt[idx] for idx, rxn in enumerate(model.reactions) }\n",
    "        #y = pi\n",
    "        # J = [S; c]\n",
    "        y_dict = { met.id : yopt[idx] for idx, met in enumerate(model.metabolites) }\n",
    "        z_dict = { rxn.id : zopt[idx] for idx, rxn in enumerate(model.reactions) }\n",
    "        #y_dict['linear_objective'] = y[len(y)-1]\n",
    "\n",
    "        #self.me.solution = Solution(f, x_primal, x_dict, y, y_dict, 'qminos', time_elapsed, status)\n",
    "        model.solution = cobra.core.Solution(\n",
    "            objective_value = muopt,\n",
    "            status = stat,\n",
    "            fluxes = x_dict, # x_primal is a numpy.array with only fluxes info\n",
    "            reduced_costs = z_dict,\n",
    "            shadow_prices = y_dict,\n",
    "            )\n",
    "        return True\n",
    "    else:\n",
    "        if hasattr(model, 'solution'):\n",
    "            del model.solution\n",
    "        return False"
   ]
  },
  {
   "cell_type": "code",
   "execution_count": 5,
   "metadata": {},
   "outputs": [],
   "source": [
    "def restore(model,met,me_nlp):\n",
    "    # met = \"RNA_592010.4.peg.10\"\n",
    "    rxns = [r.id for r in model.metabolites.get_by_id(met).reactions if \"transcription\" in r.id]\n",
    "    m_idx = model.metabolites.index(met)\n",
    "    r_idxs = [model.reactions.index(r) for r in rxns ]\n",
    "    for ri in r_idxs:\n",
    "        # print(tmp.Sf[(m_idx,ri)])\n",
    "        me_nlp.Sf[(m_idx,ri)] = 1\n",
    "\n",
    "def printcoeff(model,met,me_nlp):\n",
    "    # met = \"RNA_592010.4.peg.10\"\n",
    "    rxns = [r.id for r in model.metabolites.get_by_id(met).reactions if \"transcription\" in r.id]\n",
    "    m_idx = model.metabolites.index(met)\n",
    "    r_idxs = [model.reactions.index(r) for r in rxns ]\n",
    "    for ri in r_idxs:\n",
    "        # print(tmp.Sf[(m_idx,ri)])\n",
    "        print(me_nlp.Sf[(m_idx,ri)])\n",
    "        \n",
    "def get_feasibility(me_nlp, basis=None):\n",
    "    x_new,y_new,z_new,stat_new,hs_new = me_nlp.solvelp(0.001,basis,'quad')\n",
    "    return (True,hs_new) if stat_new==\"optimal\" else (False,hs_new)"
   ]
  },
  {
   "cell_type": "code",
   "execution_count": 17,
   "metadata": {},
   "outputs": [],
   "source": [
    "# condition = \"nonIBD\"\n",
    "condition = \"IBD\"\n",
    "# condition = \"UC\"\n",
    "# condition = \"CD\"\n",
    "fluxdir = \"./cases/fluxes/{}\".format(condition)\n",
    "overflowdir = \"./cases/overflow/{}\".format(condition)\n",
    "if not os.path.isdir(fluxdir):\n",
    "    os.makedirs(fluxdir)\n",
    "if not os.path.isdir(overflowdir):\n",
    "    os.makedirs(overflowdir)"
   ]
  },
  {
   "cell_type": "code",
   "execution_count": 18,
   "metadata": {},
   "outputs": [
    {
     "name": "stdout",
     "output_type": "stream",
     "text": [
      "Read LP format model from file /tmp/tmp0f2mhye2.lp\n",
      "Reading time = 0.00 seconds\n",
      ": 0 rows, 0 columns, 0 nonzeros\n",
      "Read LP format model from file /tmp/tmpq6n2s8sn.lp\n",
      "Reading time = 0.00 seconds\n",
      ": 980 rows, 2156 columns, 9364 nonzeros\n",
      "Read LP format model from file /tmp/tmpfsbs3f36.lp\n",
      "Reading time = 0.00 seconds\n",
      ": 1002 rows, 2154 columns, 9194 nonzeros\n"
     ]
    }
   ],
   "source": [
    "org = \"Eikenella_corrodens_ATCC_23834\"\n",
    "model = coralme.io.pickle.load_pickle_me_model(\"./me-models/{}/MEModel-BIO-{}-ME-TS.pkl\".format(org,org))\n",
    "me_nlp = get_nlp(model)"
   ]
  },
  {
   "cell_type": "code",
   "execution_count": 19,
   "metadata": {},
   "outputs": [],
   "source": [
    "f,basis = get_feasibility(me_nlp)"
   ]
  },
  {
   "cell_type": "code",
   "execution_count": 20,
   "metadata": {},
   "outputs": [
    {
     "data": {
      "text/plain": [
       "True"
      ]
     },
     "execution_count": 20,
     "metadata": {},
     "output_type": "execute_result"
    }
   ],
   "source": [
    "f"
   ]
  },
  {
   "cell_type": "code",
   "execution_count": 21,
   "metadata": {},
   "outputs": [
    {
     "data": {
      "text/plain": [
       "(True, array([0, 3, 3, ..., 0, 0, 3], dtype=int32))"
      ]
     },
     "execution_count": 21,
     "metadata": {},
     "output_type": "execute_result"
    }
   ],
   "source": [
    "killable = pandas.read_csv(\"./ibdmdb/integration/{}/{}_killable.txt\".format(condition,org),header=None,index_col=0).index.to_list()\n",
    "for k in killable:\n",
    "    knockout(model,k,me_nlp)\n",
    "get_feasibility(me_nlp,basis=basis)"
   ]
  },
  {
   "cell_type": "code",
   "execution_count": 22,
   "metadata": {},
   "outputs": [],
   "source": [
    "# killable = new_killable"
   ]
  },
  {
   "cell_type": "code",
   "execution_count": 23,
   "metadata": {},
   "outputs": [
    {
     "name": "stdout",
     "output_type": "stream",
     "text": [
      "RNA_EIKCOROL_RS00715 feasible\n"
     ]
    }
   ],
   "source": [
    "restorelist = []\n",
    "for k in killable[::-1]:\n",
    "    restorelist.append(k)\n",
    "    restore(model,k,me_nlp)\n",
    "    f,_ = get_feasibility(me_nlp,basis=basis)\n",
    "    if f:\n",
    "        print(\"{} feasible\".format(k))\n",
    "        break\n",
    "    print(\"{} not feasible\".format(k))\n",
    "new_killable = [i for i in killable if i not in restorelist]"
   ]
  },
  {
   "cell_type": "code",
   "execution_count": 24,
   "metadata": {},
   "outputs": [
    {
     "name": "stdout",
     "output_type": "stream",
     "text": [
      "Read LP format model from file /tmp/tmp5kcgmhve.lp\n",
      "Reading time = 0.00 seconds\n",
      ": 0 rows, 0 columns, 0 nonzeros\n",
      "Read LP format model from file /tmp/tmpqvltu2s_.lp\n",
      "Reading time = 0.00 seconds\n",
      ": 980 rows, 2156 columns, 9364 nonzeros\n",
      "Read LP format model from file /tmp/tmpc2tyhefe.lp\n",
      "Reading time = 0.00 seconds\n",
      ": 1002 rows, 2154 columns, 9194 nonzeros\n"
     ]
    },
    {
     "data": {
      "text/plain": [
       "(True, array([0, 3, 3, ..., 0, 0, 3], dtype=int32))"
      ]
     },
     "execution_count": 24,
     "metadata": {},
     "output_type": "execute_result"
    }
   ],
   "source": [
    "model = coralme.io.pickle.load_pickle_me_model(\"./me-models/{}/MEModel-BIO-{}-ME-TS.pkl\".format(org,org))\n",
    "me_nlp = get_nlp(model)\n",
    "for k in new_killable:\n",
    "    knockout(model,k,me_nlp)\n",
    "get_feasibility(me_nlp,basis=basis)"
   ]
  },
  {
   "cell_type": "code",
   "execution_count": 26,
   "metadata": {},
   "outputs": [
    {
     "name": "stdout",
     "output_type": "stream",
     "text": [
      "Iteration\t Solution to check\tSolver Status\n",
      "---------\t------------------\t-------------\n",
      "        1\t0.0672669568929416\tNot feasible\n",
      "        2\t0.0336334784464708\tNot feasible\n",
      "        3\t0.0168167392232354\tNot feasible\n",
      "        4\t0.0084083696116177\tNot feasible\n",
      "        5\t0.0042041848058089\tNot feasible\n",
      "        6\t0.0021020924029044\tNot feasible\n",
      "        7\t0.0010510462014522\tNot feasible\n",
      "        8\t0.0005255231007261\tNot feasible\n",
      "        9\t0.0002627615503631\tNot feasible\n",
      "       10\t0.0001313807751815\tNot feasible\n",
      "       11\t0.0000656903875908\tNot feasible\n",
      "       12\t0.0000328451937954\tNot feasible\n",
      "       13\t0.0000164225968977\tNot feasible\n",
      "       14\t0.0000082112984488\tNot feasible\n",
      "       15\t0.0000041056492244\tNot feasible\n",
      "       16\t0.0000020528246122\tNot feasible\n",
      "       17\t0.0000010264123061\tNot feasible\n",
      "       18\t0.0000005132061531\tNot feasible\n"
     ]
    },
    {
     "data": {
      "text/plain": [
       "False"
      ]
     },
     "execution_count": 26,
     "metadata": {},
     "output_type": "execute_result"
    }
   ],
   "source": [
    "optimize(model,me_nlp,max_mu=model.solution.objective_value*2)"
   ]
  },
  {
   "cell_type": "code",
   "execution_count": 27,
   "metadata": {},
   "outputs": [
    {
     "data": {
      "text/plain": [
       "(True, array([0, 3, 3, ..., 0, 0, 3], dtype=int32))"
      ]
     },
     "execution_count": 27,
     "metadata": {},
     "output_type": "execute_result"
    }
   ],
   "source": [
    "get_feasibility(me_nlp)"
   ]
  },
  {
   "cell_type": "code",
   "execution_count": 108,
   "metadata": {},
   "outputs": [],
   "source": [
    "pandas.DataFrame(columns=new_killable).T.to_csv(\"./ibdmdb/integration/{}/{}_killable.txt\".format(condition,org),header=None)"
   ]
  },
  {
   "cell_type": "code",
   "execution_count": 109,
   "metadata": {},
   "outputs": [],
   "source": [
    "from overflow import get_overflow\n",
    "def run(org):\n",
    "    ListHandler.print_and_log(\"Loading {}\".format(org))\n",
    "    model = coralme.io.pickle.load_pickle_me_model(\"./me-models/{}/MEModel-BIO-{}-ME-TS.pkl\".format(org,org))\n",
    "    me_nlp = get_nlp(model)\n",
    "    # Run for all conditions\n",
    "    killable = pandas.read_csv(\"./ibdmdb/integration/{}/{}_killable.txt\".format(condition,org),header=None,index_col=0).index.to_list()\n",
    "    for k in killable:\n",
    "        knockout(model,k,me_nlp)\n",
    "    optimize(model,me_nlp,max_mu=model.solution.objective_value*2)\n",
    "    sol = model.solution.fluxes[\"biomass_dilution\"] if hasattr(model,\"solution\") else \"infeasible\"\n",
    "    ListHandler.print_and_log(\"Solution for {} : {}\".format(org, sol))\n",
    "    model.solution.to_frame().to_csv(\"cases/fluxes/{}/{}.csv\".format(condition,org))\n",
    "    get_overflow(model).to_csv(\"./cases/overflow/{}/{}.csv\".format(condition,org))"
   ]
  },
  {
   "cell_type": "code",
   "execution_count": 110,
   "metadata": {},
   "outputs": [
    {
     "name": "stdout",
     "output_type": "stream",
     "text": [
      "Loading Ruminococcus_torques_ATCC_27756\n",
      "Read LP format model from file /tmp/tmpjj0w_yy_.lp\n",
      "Reading time = 0.00 seconds\n",
      ": 0 rows, 0 columns, 0 nonzeros\n",
      "Read LP format model from file /tmp/tmpw04qxh7i.lp\n",
      "Reading time = 0.00 seconds\n",
      ": 901 rows, 1988 columns, 8424 nonzeros\n",
      "Read LP format model from file /tmp/tmpi6kty5eg.lp\n",
      "Reading time = 0.00 seconds\n",
      ": 924 rows, 1986 columns, 8304 nonzeros\n",
      "Iteration\t Solution to check\tSolver Status\n",
      "---------\t------------------\t-------------\n",
      "        1\t0.0029157076621025\tNot feasible\n",
      "        2\t0.0014578538310513\tNot feasible\n",
      "        3\t0.0007289269155256\tNot feasible\n",
      "        4\t0.0003644634577628\tOptimal\n",
      "        5\t0.0005466951866442\tOptimal\n",
      "        6\t0.0006378110510849\tOptimal\n",
      "        7\t0.0006833689833053\tOptimal\n",
      "        8\t0.0007061479494155\tOptimal\n",
      "        9\t0.0007175374324705\tOptimal\n",
      "       10\t0.0007232321739981\tOptimal\n",
      "       11\t0.0007260795447619\tOptimal\n",
      "       12\t0.0007275032301438\tOptimal\n",
      "       13\t0.0007282150728347\tOptimal\n",
      "Solution for Ruminococcus_torques_ATCC_27756 : 0.0007282150728346936\n"
     ]
    }
   ],
   "source": [
    "run(\"Ruminococcus_torques_ATCC_27756\")"
   ]
  },
  {
   "cell_type": "code",
   "execution_count": 7,
   "metadata": {},
   "outputs": [
    {
     "data": {
      "text/plain": [
       "2"
      ]
     },
     "execution_count": 7,
     "metadata": {},
     "output_type": "execute_result"
    }
   ],
   "source": [
    "survivors = set(pandas.read_csv(\"survivors.txt\",index_col=0,header=None).index.to_list())\n",
    "done = set(i.split(\".csv\")[0] for i in os.listdir(\"./cases/fluxes/{}/\".format(condition)) if \"csv\" in i)\n",
    "run_for = survivors - done\n",
    "len(run_for)"
   ]
  },
  {
   "cell_type": "code",
   "execution_count": 8,
   "metadata": {},
   "outputs": [
    {
     "data": {
      "text/plain": [
       "{'Listeria_monocytogenes_Finland_1988', 'Providencia_stuartii_ATCC_25827'}"
      ]
     },
     "execution_count": 8,
     "metadata": {},
     "output_type": "execute_result"
    }
   ],
   "source": [
    "run_for"
   ]
  },
  {
   "cell_type": "code",
   "execution_count": null,
   "metadata": {
    "scrolled": true
   },
   "outputs": [
    {
     "name": "stderr",
     "output_type": "stream",
     "text": [
      "Building (4 threads):   0%|                                                                                   | 0/4 [15:25<?, ?it/s]\n",
      "Building (4 threads):   0%|                                                                                 | 0/494 [00:00<?, ?it/s]"
     ]
    },
    {
     "name": "stdout",
     "output_type": "stream",
     "text": [
      "Loading Roseburia_intestinalis_L1_82Loading Staphylococcus_lugdunensis_HKU09_01Loading Bacteroides_sp_3_1_40ALoading Bifidobacterium_bifidum_PRL2010\n",
      "\n",
      "\n",
      "\n",
      "Read LP format model from file /tmp/tmpg0oaps28.lp\n",
      "Reading time = 0.00 seconds\n",
      ": 0 rows, 0 columns, 0 nonzeros\n",
      "Read LP format model from file /tmp/tmp5r4m9sh6.lp\n",
      "Reading time = 0.00 seconds\n",
      ": 0 rows, 0 columns, 0 nonzeros\n",
      "Read LP format model from file /tmp/tmp4pia0qi9.lp\n",
      "Reading time = 0.00 seconds\n",
      ": 0 rows, 0 columns, 0 nonzeros\n",
      "Read LP format model from file /tmp/tmpd35ixo4c.lp\n",
      "Reading time = 0.00 seconds\n",
      ": 0 rows, 0 columns, 0 nonzeros\n",
      "Read LP format model from file /tmp/tmpa2qtx9h0.lp\n",
      "Reading time = 0.00 seconds\n",
      ": 990 rows, 2256 columns, 9436 nonzeros\n",
      "Read LP format model from file /tmp/tmpc9swj8xr.lp\n",
      "Reading time = 0.00 seconds\n",
      ": 1170 rows, 2778 columns, 12172 nonzeros\n",
      "Read LP format model from file /tmp/tmpi18g09fc.lp\n",
      "Reading time = 0.00 seconds\n",
      ": 1033 rows, 2286 columns, 9826 nonzeros\n",
      "Read LP format model from file /tmp/tmp_9l87kzz.lp\n",
      "Reading time = 0.00 seconds\n",
      ": 1021 rows, 2270 columns, 9602 nonzeros\n",
      "Read LP format model from file /tmp/tmpjipv9r2x.lp\n",
      "Reading time = 0.00 seconds\n",
      ": 991 rows, 2254 columns, 9266 nonzeros\n",
      "Iteration\t Solution to check\tSolver Status\n",
      "---------\t------------------\t-------------\n",
      "Read LP format model from file /tmp/tmpdufu46r7.lp\n",
      "Reading time = 0.00 seconds\n",
      ": 1184 rows, 2776 columns, 11972 nonzeros\n",
      "Iteration\t Solution to check\tSolver Status\n",
      "---------\t------------------\t-------------\n",
      "Read LP format model from file /tmp/tmp6fn6xzx8.lp\n",
      "Reading time = 0.00 seconds\n",
      ": 1058 rows, 2284 columns, 9706 nonzeros\n",
      "Read LP format model from file /tmp/tmp1oq505kc.lp\n",
      "Reading time = 0.00 seconds\n",
      ": 1044 rows, 2268 columns, 9482 nonzeros\n",
      "Iteration\t Solution to check\tSolver Status\n",
      "---------\t------------------\t-------------\n",
      "Iteration\t Solution to check\tSolver Status\n",
      "---------\t------------------\t-------------\n",
      "        1\t0.0794858623022767\tNot feasible\n",
      "        2\t0.0397429311511384\tNot feasible\n",
      "        3\t0.0198714655755692\tNot feasible\n",
      "        1\t0.0761185951355195\tOptimal\n",
      "        2\t0.1141778927032792\tNot feasible\n",
      "        3\t0.0951482439193993\tOptimal\n",
      "        4\t0.0099357327877846\tNot feasible\n",
      "        1\t0.3316945750741470\tOptimal\n",
      "        4\t0.1046630683113393\tNot feasible\n",
      "        5\t0.0999056561153693\tNot feasible\n",
      "        2\t0.4975418626112205\tNot feasible\n",
      "        6\t0.0975269500173843\tNot feasible\n",
      "        3\t0.4146182188426838\tNot feasible\n",
      "        1\t0.3285148993930029\tNot feasible\n",
      "        7\t0.0963375969683918\tOptimal\n",
      "        8\t0.0969322734928881\tNot feasible\n",
      "        9\t0.0966349352306400\tNot feasible\n",
      "        4\t0.3731563969584154\tNot feasible\n",
      "       10\t0.0964862660995159\tOptimal\n",
      "       11\t0.0965606006650779\tOptimal\n",
      "       12\t0.0965977679478589\tOptimal\n",
      "        5\t0.0049678663938923\tNot feasible\n",
      "        5\t0.3524254860162812\tNot feasible\n",
      "       13\t0.0966163515892494\tNot feasible\n",
      "       14\t0.0966070597685542\tNot feasible\n",
      "       15\t0.0966024138582066\tOptimal\n",
      "       16\t0.0966047368133804\tOptimal\n",
      "       17\t0.0966058982909673\tNot feasible\n",
      "        6\t0.3420600305452141\tNot feasible\n",
      "       18\t0.0966053175521738\tNot feasible\n",
      "Solution for Bacteroides_sp_3_1_40A : 0.09660473681338037\n"
     ]
    },
    {
     "name": "stderr",
     "output_type": "stream",
     "text": [
      "Building (4 threads):   0%|▏                                                                    | 1/494 [03:11<26:14:04, 191.57s/it]"
     ]
    },
    {
     "name": "stdout",
     "output_type": "stream",
     "text": [
      "Loading Varibaculum_cambriense_DSM_15806\n",
      "Read LP format model from file /tmp/tmpr3xhtgwn.lp\n",
      "Reading time = 0.00 seconds\n",
      ": 0 rows, 0 columns, 0 nonzeros\n",
      "Read LP format model from file /tmp/tmp0lr56o54.lp\n",
      "Reading time = 0.00 seconds\n",
      ": 940 rows, 2026 columns, 8774 nonzeros\n",
      "Read LP format model from file /tmp/tmpwwvr7ez2.lp\n",
      "Reading time = 0.00 seconds\n",
      ": 941 rows, 2024 columns, 8604 nonzeros\n",
      "        7\t0.3368773028096805\tNot feasible\n",
      "        2\t0.1642574496965015\tNot feasible\n",
      "        8\t0.3342859389419138\tNot feasible\n",
      "        6\t0.0024839331969461\tOptimal\n",
      "Iteration\t Solution to check\tSolver Status\n",
      "---------\t------------------\t-------------\n",
      "        9\t0.3329902570080304\tNot feasible\n",
      "        7\t0.0037258997954192\tNot feasible\n",
      "       10\t0.3323424160410887\tNot feasible\n",
      "       11\t0.3320184955576179\tOptimal\n",
      "        8\t0.0031049164961827\tOptimal\n",
      "       12\t0.3321804557993533\tOptimal\n",
      "        9\t0.0034154081458010\tNot feasible\n",
      "       13\t0.3322614359202210\tOptimal\n",
      "       10\t0.0032601623209918\tOptimal\n",
      "       14\t0.3323019259806549\tNot feasible\n",
      "       15\t0.3322816809504380\tOptimal\n",
      "       11\t0.0033377852333964\tOptimal\n",
      "       16\t0.3322918034655464\tNot feasible\n",
      "       12\t0.0033765966895987\tOptimal\n",
      "       17\t0.3322867422079922\tNot feasible\n",
      "       13\t0.0033960024176998\tOptimal\n",
      "       18\t0.3322842115792151\tOptimal\n",
      "       14\t0.0034057052817504\tOptimal\n",
      "       19\t0.3322854768936037\tOptimal\n",
      "       20\t0.3322861095507980\tOptimal\n",
      "Solution for Roseburia_intestinalis_L1_82 : 0.33228610955079796\n"
     ]
    },
    {
     "name": "stderr",
     "output_type": "stream",
     "text": [
      "Building (4 threads):   0%|▎                                                                     | 2/494 [03:44<13:26:50, 98.39s/it]"
     ]
    },
    {
     "name": "stdout",
     "output_type": "stream",
     "text": [
      "       15\t0.0034105567137757\tOptimal\n",
      "Loading Campylobacter_upsaliensis_JV21\n",
      "Read LP format model from file /tmp/tmppw2tmd3c.lp\n",
      "Reading time = 0.00 seconds\n",
      ": 0 rows, 0 columns, 0 nonzeros\n",
      "        3\t0.0821287248482507\tNot feasible\n",
      "       16\t0.0034129824297883\tNot feasible\n",
      "       17\t0.0034117695717820\tNot feasible\n",
      "        1\t0.0370707574355372\tNot feasible\n",
      "       18\t0.0034111631427788\tNot feasible\n",
      "Solution for Bifidobacterium_bifidum_PRL2010 : 0.0034105567137756674\n"
     ]
    },
    {
     "name": "stderr",
     "output_type": "stream",
     "text": [
      "Building (4 threads):   1%|▍                                                                      | 3/494 [03:52<7:45:49, 56.92s/it]"
     ]
    },
    {
     "name": "stdout",
     "output_type": "stream",
     "text": [
      "Loading Ruminococcus_gnavus_ATCC_29149\n",
      "Read LP format model from file /tmp/tmpug2mxgb7.lp\n",
      "Reading time = 0.00 seconds\n",
      ": 0 rows, 0 columns, 0 nonzeros\n",
      "Read LP format model from file /tmp/tmpx9br8n0m.lp\n",
      "Reading time = 0.00 seconds\n",
      ": 1068 rows, 2404 columns, 10112 nonzeros\n",
      "Read LP format model from file /tmp/tmp3qkgkpoj.lp\n",
      "Reading time = 0.00 seconds\n",
      ": 1091 rows, 2402 columns, 9990 nonzeros\n",
      "        2\t0.0185353787177686\tNot feasible\n",
      "Iteration\t Solution to check\tSolver Status\n",
      "---------\t------------------\t-------------\n",
      "        4\t0.0410643624241254\tNot feasible\n",
      "        3\t0.0092676893588843\tNot feasible\n",
      "        4\t0.0046338446794422\tNot feasible\n",
      "Read LP format model from file /tmp/tmpws1e2z03.lp\n",
      "Reading time = 0.02 seconds\n",
      ": 863 rows, 1860 columns, 8016 nonzeros\n",
      "        1\t0.0027435254770933\tOptimal\n",
      "        2\t0.0041152882156399\tNot feasible\n",
      "        5\t0.0023169223397211\tNot feasible\n",
      "        3\t0.0034294068463666\tNot feasible\n",
      "        4\t0.0030864661617299\tNot feasible\n",
      "        5\t0.0029149958194116\tNot feasible\n",
      "        6\t0.0028292606482524\tNot feasible\n",
      "        7\t0.0027863930626729\tNot feasible\n",
      "        8\t0.0027649592698831\tNot feasible\n",
      "        9\t0.0027542423734882\tNot feasible\n",
      "       10\t0.0027488839252907\tNot feasible\n",
      "       11\t0.0027462047011920\tNot feasible\n",
      "       12\t0.0027448650891426\tNot feasible\n",
      "       13\t0.0027441952831180\tNot feasible\n",
      "Solution for Ruminococcus_gnavus_ATCC_29149 : 0.002743525477093274\n"
     ]
    },
    {
     "name": "stderr",
     "output_type": "stream",
     "text": [
      "Building (4 threads):   1%|▌                                                                      | 4/494 [04:44<7:29:24, 55.03s/it]"
     ]
    },
    {
     "name": "stdout",
     "output_type": "stream",
     "text": [
      "Loading Bifidobacterium_animalis_lactis_Bi_07\n",
      "        5\t0.0205321812120627\tNot feasible\n",
      "Read LP format model from file /tmp/tmpyi10pgfv.lp\n",
      "Reading time = 0.00 seconds\n",
      ": 0 rows, 0 columns, 0 nonzeros\n",
      "Read LP format model from file /tmp/tmp70bzg58_.lp\n",
      "Reading time = 0.00 seconds\n",
      ": 890 rows, 1858 columns, 7896 nonzeros\n",
      "        6\t0.0011584611698605\tNot feasible\n",
      "Iteration\t Solution to check\tSolver Status\n",
      "---------\t------------------\t-------------\n",
      "        7\t0.0005792305849303\tOptimal\n",
      "        8\t0.0008688458773954\tOptimal\n",
      "        9\t0.0010136535236280\tOptimal\n",
      "       10\t0.0010860573467443\tOptimal\n",
      "       11\t0.0011222592583024\tOptimal\n",
      "       12\t0.0011403602140815\tOptimal\n",
      "       13\t0.0011494106919710\tOptimal\n",
      "       14\t0.0011539359309158\tOptimal\n",
      "        6\t0.0102660906060313\tNot feasible\n",
      "       15\t0.0011561985503882\tOptimal\n",
      "       16\t0.0011573298601243\tOptimal\n",
      "       17\t0.0011578955149924\tOptimal\n",
      "Solution for Varibaculum_cambriense_DSM_15806 : 0.0011578955149924427\n"
     ]
    },
    {
     "name": "stderr",
     "output_type": "stream",
     "text": [
      "Building (4 threads):   1%|▋                                                                      | 5/494 [05:18<6:27:31, 47.55s/it]"
     ]
    },
    {
     "name": "stdout",
     "output_type": "stream",
     "text": [
      "Loading Escherichia_fergusonii_ATCC_35469\n",
      "Read LP format model from file /tmp/tmpqbkasg0g.lp\n",
      "Reading time = 0.00 seconds\n",
      ": 0 rows, 0 columns, 0 nonzeros\n",
      "        1\t0.0304454281454334\tNot feasible\n",
      "Read LP format model from file /tmp/tmp3y7mo9ri.lp\n",
      "Reading time = 0.02 seconds\n",
      ": 906 rows, 2016 columns, 8608 nonzeros\n",
      "        2\t0.0152227140727167\tNot feasible\n",
      "        3\t0.0076113570363583\tNot feasible\n",
      "        7\t0.0051330453030157\tNot feasible\n",
      "Read LP format model from file /tmp/tmpl8lo6hwf.lp\n",
      "Reading time = 0.00 seconds\n",
      ": 906 rows, 2014 columns, 8438 nonzeros\n",
      "        4\t0.0038056785181792\tNot feasible\n",
      "Iteration\t Solution to check\tSolver Status\n",
      "---------\t------------------\t-------------\n",
      "        5\t0.0019028392590896\tNot feasible\n",
      "        6\t0.0009514196295448\tNot feasible\n",
      "        8\t0.0025665226515078\tNot feasible\n",
      "        7\t0.0004757098147724\tOptimal\n",
      "        8\t0.0007135647221586\tOptimal\n",
      "        9\t0.0008324921758517\tNot feasible\n",
      "        1\t0.0547365156235703\tNot feasible\n",
      "       10\t0.0007730284490051\tNot feasible\n",
      "       11\t0.0007432965855819\tNot feasible\n",
      "       12\t0.0007284306538702\tNot feasible\n",
      "       13\t0.0007209976880144\tNot feasible\n",
      "       14\t0.0007172812050865\tNot feasible\n",
      "       15\t0.0007154229636225\tNot feasible\n",
      "       16\t0.0007144938428906\tNot feasible\n",
      "Solution for Campylobacter_upsaliensis_JV21 : 0.0007135647221585946\n"
     ]
    },
    {
     "name": "stderr",
     "output_type": "stream",
     "text": [
      "Building (4 threads):   1%|▊                                                                      | 6/494 [06:29<7:31:08, 55.47s/it]"
     ]
    },
    {
     "name": "stdout",
     "output_type": "stream",
     "text": [
      "Loading Clostridium_scindens_ATCC_35704\n",
      "Read LP format model from file /tmp/tmpwfjodru6.lp\n",
      "Reading time = 0.00 seconds\n",
      ": 0 rows, 0 columns, 0 nonzeros\n",
      "        2\t0.0273682578117852\tNot feasible\n",
      "        9\t0.0012832613257539\tOptimal\n",
      "       10\t0.0019248919886309\tNot feasible\n",
      "Read LP format model from file /tmp/tmpktxbdx_5.lp\n",
      "Reading time = 0.02 seconds\n",
      ": 1403 rows, 3574 columns, 15288 nonzeros\n",
      "       11\t0.0016040766571924\tNot feasible\n",
      "        3\t0.0136841289058926\tNot feasible\n",
      "       12\t0.0014436689914732\tNot feasible\n",
      "       13\t0.0013634651586135\tOptimal\n",
      "       14\t0.0014035670750433\tNot feasible\n",
      "        4\t0.0068420644529463\tNot feasible\n",
      "       15\t0.0013835161168284\tNot feasible\n",
      "       16\t0.0013734906377210\tOptimal\n",
      "       17\t0.0013785033772747\tNot feasible\n",
      "        5\t0.0034210322264731\tNot feasible\n",
      "       18\t0.0013759970074979\tOptimal\n",
      "       19\t0.0013772501923863\tOptimal\n",
      "Read LP format model from file /tmp/tmp4buj47ol.lp\n",
      "Reading time = 0.00 seconds\n",
      ": 1428 rows, 3572 columns, 15118 nonzeros\n",
      "       20\t0.0013778767848305\tOptimal\n",
      "Solution for Staphylococcus_lugdunensis_HKU09_01 : 0.0013778767848305006\n"
     ]
    },
    {
     "name": "stderr",
     "output_type": "stream",
     "text": [
      "Building (4 threads):   1%|█                                                                      | 7/494 [07:22<7:24:26, 54.76s/it]"
     ]
    },
    {
     "name": "stdout",
     "output_type": "stream",
     "text": [
      "Loading Coprobacillus_sp_29_1\n",
      "Read LP format model from file /tmp/tmpaapaw_mf.lp\n",
      "Reading time = 0.00 seconds\n",
      ": 0 rows, 0 columns, 0 nonzeros\n",
      "        6\t0.0017105161132366\tNot feasible\n",
      "Read LP format model from file /tmp/tmpy218tw56.lp\n",
      "Reading time = 0.02 seconds\n",
      ": 1000 rows, 2188 columns, 9460 nonzeros\n",
      "Iteration\t Solution to check\tSolver Status\n",
      "---------\t------------------\t-------------\n",
      "        7\t0.0008552580566183\tOptimal\n",
      "        8\t0.0012828870849274\tOptimal\n",
      "        9\t0.0014967015990820\tOptimal\n",
      "       10\t0.0016036088561593\tOptimal\n",
      "       11\t0.0016570624846979\tNot feasible\n",
      "       12\t0.0016303356704286\tOptimal\n",
      "       13\t0.0016436990775633\tOptimal\n",
      "       14\t0.0016503807811306\tOptimal\n",
      "       15\t0.0016537216329143\tOptimal\n",
      "       16\t0.0016553920588061\tNot feasible\n",
      "       17\t0.0016545568458602\tNot feasible\n",
      "Solution for Bifidobacterium_animalis_lactis_Bi_07 : 0.0016537216329142645\n"
     ]
    },
    {
     "name": "stderr",
     "output_type": "stream",
     "text": [
      "Building (4 threads):   2%|█▏                                                                     | 8/494 [07:49<6:11:35, 45.87s/it]"
     ]
    },
    {
     "name": "stdout",
     "output_type": "stream",
     "text": [
      "Loading Bacteroides_salyersiae_WAL_10018\n",
      "Read LP format model from file /tmp/tmp802q8gqy.lp\n",
      "Reading time = 0.00 seconds\n",
      ": 0 rows, 0 columns, 0 nonzeros\n",
      "Read LP format model from file /tmp/tmp8ouypsyx.lp\n",
      "Reading time = 0.00 seconds\n",
      ": 1023 rows, 2186 columns, 9338 nonzeros\n",
      "Iteration\t Solution to check\tSolver Status\n",
      "---------\t------------------\t-------------\n",
      "Read LP format model from file /tmp/tmped5i5ifa.lp\n",
      "Reading time = 0.02 seconds\n",
      ": 956 rows, 2110 columns, 8960 nonzeros\n",
      "        1\t0.1069914638803144\tNot feasible\n",
      "Read LP format model from file /tmp/tmp2ru92rl3.lp\n",
      "Reading time = 0.02 seconds\n",
      ": 1091 rows, 2502 columns, 10722 nonzeros\n",
      "Read LP format model from file /tmp/tmpcc6pn8lk.lp\n",
      "Reading time = 0.00 seconds\n",
      ": 978 rows, 2108 columns, 8840 nonzeros\n",
      "        2\t0.0534957319401572\tNot feasible\n",
      "Iteration\t Solution to check\tSolver Status\n",
      "---------\t------------------\t-------------\n",
      "        3\t0.0267478659700786\tNot feasible\n",
      "Read LP format model from file /tmp/tmp7u9cl1rp.lp\n",
      "Reading time = 0.00 seconds\n",
      ": 1111 rows, 2500 columns, 10552 nonzeros\n",
      "        4\t0.0133739329850393\tNot feasible\n",
      "        1\t0.6414087877911570\tNot feasible\n",
      "        1\t0.1270898816549960\tNot feasible\n",
      "Iteration\t Solution to check\tSolver Status\n",
      "---------\t------------------\t-------------\n",
      "        5\t0.0066869664925196\tNot feasible\n",
      "        2\t0.0635449408274980\tNot feasible\n",
      "        6\t0.0033434832462598\tOptimal\n",
      "        7\t0.0050152248693897\tOptimal\n",
      "        8\t0.0058510956809547\tOptimal\n",
      "        3\t0.0317724704137490\tNot feasible\n",
      "        1\t0.2652617303225927\tNot feasible\n",
      "        9\t0.0062690310867372\tNot feasible\n",
      "       10\t0.0060600633838459\tNot feasible\n",
      "       11\t0.0059555795324003\tOptimal\n",
      "       12\t0.0060078214581231\tNot feasible\n",
      "       13\t0.0059817004952617\tNot feasible\n",
      "       14\t0.0059686400138310\tNot feasible\n",
      "       15\t0.0059621097731157\tNot feasible\n",
      "       16\t0.0059588446527580\tNot feasible\n",
      "       17\t0.0059572120925792\tNot feasible\n",
      "       18\t0.0059563958124897\tNot feasible\n",
      "Solution for Clostridium_scindens_ATCC_35704 : 0.005955579532400314\n"
     ]
    },
    {
     "name": "stderr",
     "output_type": "stream",
     "text": [
      "Building (4 threads):   2%|█▎                                                                    | 9/494 [10:16<10:27:01, 77.57s/it]"
     ]
    },
    {
     "name": "stdout",
     "output_type": "stream",
     "text": [
      "Loading Bacteroides_sp_2_1_33B\n",
      "Read LP format model from file /tmp/tmp9k0xscfr.lp\n",
      "Reading time = 0.00 seconds\n",
      ": 0 rows, 0 columns, 0 nonzeros\n",
      "        2\t0.3207043938955785\tNot feasible\n",
      "        2\t0.1326308651612964\tOptimal\n",
      "        4\t0.0158862352068745\tNot feasible\n",
      "        3\t0.1989462977419445\tOptimal\n",
      "        4\t0.2321040140322686\tOptimal\n",
      "        5\t0.2486828721774307\tOptimal\n",
      "        6\t0.2569723012500117\tOptimal\n",
      "        7\t0.2611170157863022\tNot feasible\n",
      "        8\t0.2590446585181569\tOptimal\n",
      "        9\t0.2600808371522296\tOptimal\n",
      "       10\t0.2605989264692659\tNot feasible\n",
      "       11\t0.2603398818107477\tNot feasible\n",
      "        5\t0.0079431176034372\tNot feasible\n",
      "       12\t0.2602103594814886\tNot feasible\n",
      "       13\t0.2601455983168591\tNot feasible\n",
      "       14\t0.2601132177345443\tNot feasible\n",
      "       15\t0.2600970274433869\tNot feasible\n",
      "       16\t0.2600889322978083\tOptimal\n",
      "       17\t0.2600929798705976\tNot feasible\n",
      "Read LP format model from file /tmp/tmpymw6y49d.lp\n",
      "Reading time = 0.02 seconds\n",
      ": 1075 rows, 2460 columns, 10634 nonzeros\n",
      "       18\t0.2600909560842030\tNot feasible\n",
      "       19\t0.2600899441910056\tNot feasible\n",
      "       20\t0.2600894382444069\tOptimal\n",
      "Solution for Bacteroides_salyersiae_WAL_10018 : 0.26008943824440695\n"
     ]
    },
    {
     "name": "stderr",
     "output_type": "stream",
     "text": [
      "Building (4 threads):   2%|█▍                                                                    | 10/494 [11:02<9:06:27, 67.74s/it]"
     ]
    },
    {
     "name": "stdout",
     "output_type": "stream",
     "text": [
      "Loading Anaerobaculum_hydrogeniformans_OS1_ATCC_BAA_1850\n",
      "Read LP format model from file /tmp/tmplf3qj0xp.lp\n",
      "Reading time = 0.00 seconds\n",
      ": 0 rows, 0 columns, 0 nonzeros\n",
      "        6\t0.0039715588017186\tOptimal\n",
      "        7\t0.0059573382025779\tNot feasible\n",
      "        8\t0.0049644485021483\tNot feasible\n",
      "        9\t0.0044680036519335\tNot feasible\n",
      "       10\t0.0042197812268260\tNot feasible\n",
      "        3\t0.1603521969477892\tOptimal\n",
      "       11\t0.0040956700142723\tNot feasible\n",
      "       12\t0.0040336144079955\tNot feasible\n",
      "       13\t0.0040025866048571\tNot feasible\n",
      "       14\t0.0039870727032878\tNot feasible\n",
      "       15\t0.0039793157525032\tNot feasible\n",
      "       16\t0.0039754372771109\tNot feasible\n",
      "       17\t0.0039734980394148\tNot feasible\n",
      "        4\t0.2405282954216839\tOptimal\n",
      "Read LP format model from file /tmp/tmpfo7vmbjd.lp\n",
      "Reading time = 0.00 seconds\n",
      ": 1100 rows, 2458 columns, 10514 nonzeros\n",
      "Read LP format model from file /tmp/tmpqku1r_dy.lp\n",
      "Reading time = 0.02 seconds\n",
      ": 931 rows, 2060 columns, 8740 nonzeros\n",
      "       18\t0.0039725284205667\tNot feasible\n",
      "Solution for Coprobacillus_sp_29_1 : 0.003971558801718624\n"
     ]
    },
    {
     "name": "stderr",
     "output_type": "stream",
     "text": [
      "Building (4 threads):   2%|█▌                                                                    | 11/494 [11:48<8:10:20, 60.91s/it]"
     ]
    },
    {
     "name": "stdout",
     "output_type": "stream",
     "text": [
      "Loading Collinsella_intestinalis_DSM_13280\n",
      "Read LP format model from file /tmp/tmpusk9a8mr.lp\n",
      "Reading time = 0.00 seconds\n",
      ": 0 rows, 0 columns, 0 nonzeros\n",
      "Iteration\t Solution to check\tSolver Status\n",
      "---------\t------------------\t-------------\n",
      "        5\t0.2806163446586312\tNot feasible\n",
      "Read LP format model from file /tmp/tmp2e2mo4n2.lp\n",
      "Reading time = 0.00 seconds\n",
      ": 954 rows, 2058 columns, 8620 nonzeros\n",
      "        6\t0.2605723200401575\tOptimal\n",
      "Iteration\t Solution to check\tSolver Status\n",
      "---------\t------------------\t-------------\n",
      "        1\t0.0632290501651172\tOptimal\n",
      "        2\t0.0948435752476757\tNot feasible\n",
      "Read LP format model from file /tmp/tmp18buh9ap.lp\n",
      "Reading time = 0.02 seconds\n",
      ": 732 rows, 1512 columns, 6528 nonzeros\n",
      "Read LP format model from file /tmp/tmp6spv4mjn.lp\n",
      "Reading time = 0.00 seconds\n",
      ": 733 rows, 1510 columns, 6408 nonzeros\n",
      "        3\t0.0790363127063964\tOptimal\n",
      "        4\t0.0869399439770361\tOptimal\n",
      "        5\t0.0908917596123559\tOptimal\n",
      "        6\t0.0928676674300158\tNot feasible\n",
      "        7\t0.2705943323493943\tNot feasible\n",
      "Iteration\t Solution to check\tSolver Status\n",
      "---------\t------------------\t-------------\n",
      "        7\t0.0918797135211859\tNot feasible\n",
      "        8\t0.0913857365667709\tNot feasible\n",
      "        9\t0.0911387480895634\tNot feasible\n",
      "       10\t0.0910152538509597\tNot feasible\n",
      "       11\t0.0909535067316578\tOptimal\n",
      "       12\t0.0909843802913087\tNot feasible\n",
      "       13\t0.0909689435114832\tOptimal\n",
      "       14\t0.0909766619013960\tNot feasible\n",
      "       15\t0.0909728027064396\tNot feasible\n",
      "        1\t0.0740014912264561\tNot feasible\n",
      "       16\t0.0909708731089614\tNot feasible\n",
      "       17\t0.0909699083102223\tNot feasible\n",
      "Solution for Bacteroides_sp_2_1_33B : 0.09096894351148324\n"
     ]
    },
    {
     "name": "stderr",
     "output_type": "stream",
     "text": [
      "Building (4 threads):   2%|█▋                                                                    | 12/494 [12:54<8:21:29, 62.43s/it]"
     ]
    },
    {
     "name": "stdout",
     "output_type": "stream",
     "text": [
      "        8\t0.2655833261947759\tOptimal\n",
      "Loading Acinetobacter_johnsonii_SH046\n",
      "Read LP format model from file /tmp/tmpe34vh41u.lp\n",
      "Reading time = 0.00 seconds\n",
      ": 0 rows, 0 columns, 0 nonzeros\n",
      "Read LP format model from file /tmp/tmpfuz4pks8.lp\n",
      "Reading time = 0.00 seconds\n",
      ": 1208 rows, 2892 columns, 12564 nonzeros\n",
      "        2\t0.0370007456132280\tNot feasible\n",
      "Read LP format model from file /tmp/tmpdurihln0.lp\n",
      "Reading time = 0.00 seconds\n",
      ": 1224 rows, 2890 columns, 12394 nonzeros\n",
      "        1\t0.1378120749969742\tNot feasible\n",
      "        3\t0.0185003728066140\tNot feasible\n",
      "        9\t0.2680888292720851\tNot feasible\n",
      "Iteration\t Solution to check\tSolver Status\n",
      "---------\t------------------\t-------------\n",
      "        2\t0.0689060374984871\tNot feasible\n",
      "        4\t0.0092501864033070\tNot feasible\n",
      "       10\t0.2668360777334305\tOptimal\n",
      "        5\t0.0046250932016535\tNot feasible\n",
      "        3\t0.0344530187492435\tNot feasible\n",
      "        6\t0.0023125466008268\tNot feasible\n",
      "        7\t0.0011562733004134\tNot feasible\n",
      "        4\t0.0172265093746218\tNot feasible\n",
      "       11\t0.2674624535027578\tOptimal\n",
      "        8\t0.0005781366502067\tOptimal\n",
      "        9\t0.0008672049753100\tOptimal\n",
      "       10\t0.0010117391378617\tOptimal\n",
      "       11\t0.0010840062191375\tOptimal\n",
      "       12\t0.0011201397597755\tNot feasible\n",
      "       13\t0.0011020729894565\tNot feasible\n",
      "       14\t0.0010930396042970\tNot feasible\n",
      "       15\t0.0010885229117173\tNot feasible\n",
      "       16\t0.0010862645654274\tNot feasible\n",
      "       17\t0.0010851353922825\tNot feasible\n",
      "       18\t0.0010845708057100\tNot feasible\n",
      "Solution for Collinsella_intestinalis_DSM_13280 : 0.0010840062191375404\n"
     ]
    },
    {
     "name": "stderr",
     "output_type": "stream",
     "text": [
      "Building (4 threads):   3%|█▊                                                                    | 13/494 [13:53<8:13:16, 61.53s/it]"
     ]
    },
    {
     "name": "stdout",
     "output_type": "stream",
     "text": [
      "Loading Anaerofustis_stercorihominis_DSM_17244\n",
      "        5\t0.0086132546873109\tNot feasible\n",
      "Read LP format model from file /tmp/tmp7vvv7rur.lp\n",
      "Reading time = 0.00 seconds\n",
      ": 0 rows, 0 columns, 0 nonzeros\n",
      "Read LP format model from file /tmp/tmp6ipgee12.lp\n",
      "Reading time = 0.00 seconds\n",
      ": 922 rows, 1972 columns, 8604 nonzeros\n",
      "Read LP format model from file /tmp/tmpuv1f8s_2.lp\n",
      "Reading time = 0.00 seconds\n",
      ": 947 rows, 1970 columns, 8404 nonzeros\n",
      "       12\t0.2677756413874215\tNot feasible\n",
      "Iteration\t Solution to check\tSolver Status\n",
      "---------\t------------------\t-------------\n",
      "        6\t0.0043066273436554\tOptimal\n",
      "        1\t0.1323317237387024\tNot feasible\n",
      "        7\t0.0064599410154832\tOptimal\n",
      "       13\t0.2676190474450897\tNot feasible\n",
      "        8\t0.0075365978513970\tOptimal\n",
      "        9\t0.0080749262693540\tOptimal\n",
      "       10\t0.0083440904783324\tNot feasible\n",
      "       11\t0.0082095083738432\tNot feasible\n",
      "       12\t0.0081422173215986\tOptimal\n",
      "       13\t0.0081758628477209\tNot feasible\n",
      "       14\t0.0081590400846597\tOptimal\n",
      "       15\t0.0081674514661903\tNot feasible\n",
      "        1\t0.0627547116943523\tNot feasible\n",
      "       16\t0.0081632457754250\tOptimal\n",
      "       17\t0.0081653486208077\tNot feasible\n",
      "       18\t0.0081642971981163\tNot feasible\n",
      "       19\t0.0081637714867707\tNot feasible\n",
      "Solution for Anaerobaculum_hydrogeniformans_OS1_ATCC_BAA_1850 : 0.008163245775425012\n"
     ]
    },
    {
     "name": "stderr",
     "output_type": "stream",
     "text": [
      "Building (4 threads):   3%|█▉                                                                    | 14/494 [14:31<7:14:24, 54.30s/it]"
     ]
    },
    {
     "name": "stdout",
     "output_type": "stream",
     "text": [
      "       14\t0.2675407504739238\tOptimal\n",
      "Loading Lactococcus_garvieae_ATCC_49156\n",
      "Read LP format model from file /tmp/tmp4xhpw649.lp\n",
      "Reading time = 0.00 seconds\n",
      ": 0 rows, 0 columns, 0 nonzeros\n",
      "        2\t0.0661658618693512\tNot feasible\n",
      "        2\t0.0313773558471762\tNot feasible\n",
      "       15\t0.2675798989595067\tOptimal\n",
      "        3\t0.0330829309346756\tNot feasible\n",
      "        3\t0.0156886779235881\tOptimal\n",
      "        4\t0.0235330168853821\tNot feasible\n",
      "       16\t0.2675994732022982\tOptimal\n",
      "        5\t0.0196108474044851\tOptimal\n",
      "        6\t0.0215719321449336\tNot feasible\n",
      "        7\t0.0205913897747094\tOptimal\n",
      "        8\t0.0210816609598215\tNot feasible\n",
      "        9\t0.0208365253672654\tOptimal\n",
      "       10\t0.0209590931635435\tOptimal\n",
      "       11\t0.0210203770616825\tNot feasible\n",
      "       12\t0.0209897351126130\tNot feasible\n",
      "       13\t0.0209744141380782\tNot feasible\n",
      "       14\t0.0209667536508108\tNot feasible\n",
      "       15\t0.0209629234071771\tOptimal\n",
      "       16\t0.0209648385289940\tNot feasible\n",
      "       17\t0.0209638809680856\tNot feasible\n",
      "Solution for Anaerofustis_stercorihominis_DSM_17244 : 0.020962923407177144\n"
     ]
    },
    {
     "name": "stderr",
     "output_type": "stream",
     "text": [
      "Building (4 threads):   3%|██▏                                                                   | 15/494 [15:12<6:43:29, 50.54s/it]"
     ]
    },
    {
     "name": "stdout",
     "output_type": "stream",
     "text": [
      "Loading Butyrivibrio_fibrisolvens_16_4\n",
      "Read LP format model from file /tmp/tmpy77z9ec3.lp\n",
      "Reading time = 0.00 seconds\n",
      ": 0 rows, 0 columns, 0 nonzeros\n",
      "       17\t0.2676092603236939\tOptimal\n",
      "        4\t0.0165414654673378\tNot feasible\n",
      "       18\t0.2676141538843918\tOptimal\n",
      "Read LP format model from file /tmp/tmp88aqqkzj.lp\n",
      "Reading time = 0.02 seconds\n",
      ": 1027 rows, 2376 columns, 10264 nonzeros\n",
      "       19\t0.2676166006647407\tOptimal\n",
      "        5\t0.0082707327336689\tNot feasible\n",
      "Read LP format model from file /tmp/tmpkqaj42rp.lp\n",
      "Reading time = 0.00 seconds\n",
      ": 1028 rows, 2374 columns, 10064 nonzeros\n",
      "       20\t0.2676178240549152\tOptimal\n",
      "Iteration\t Solution to check\tSolver Status\n",
      "---------\t------------------\t-------------\n",
      "Read LP format model from file /tmp/tmpqivwvq2w.lp\n",
      "Reading time = 0.02 seconds\n",
      ": 1009 rows, 2266 columns, 9746 nonzeros\n",
      "       21\t0.2676184357500024\tNot feasible\n",
      "Solution for Escherichia_fergusonii_ATCC_35469 : 0.2676178240549152\n"
     ]
    },
    {
     "name": "stderr",
     "output_type": "stream",
     "text": [
      "Building (4 threads):   3%|██▎                                                                   | 16/494 [16:23<7:30:06, 56.50s/it]"
     ]
    },
    {
     "name": "stdout",
     "output_type": "stream",
     "text": [
      "Loading Bifidobacterium_bifidum_S17\n",
      "Read LP format model from file /tmp/tmpwe9mlfd5.lp\n",
      "Reading time = 0.00 seconds\n",
      ": 0 rows, 0 columns, 0 nonzeros\n",
      "        6\t0.0041353663668344\tNot feasible\n",
      "        1\t0.3531630806633965\tNot feasible\n",
      "Read LP format model from file /tmp/tmp963famk3.lp\n",
      "Reading time = 0.00 seconds\n",
      ": 1034 rows, 2264 columns, 9626 nonzeros\n",
      "        7\t0.0020676831834172\tNot feasible\n",
      "Iteration\t Solution to check\tSolver Status\n",
      "---------\t------------------\t-------------\n",
      "Read LP format model from file /tmp/tmphkc7l922.lp\n",
      "Reading time = 0.02 seconds\n",
      ": 941 rows, 2080 columns, 8748 nonzeros\n",
      "        2\t0.1765815403316983\tNot feasible\n",
      "        8\t0.0010338415917086\tOptimal\n",
      "        1\t0.1179374270658455\tNot feasible\n",
      "Read LP format model from file /tmp/tmpk9pbog_5.lp\n",
      "Reading time = 0.00 seconds\n",
      ": 942 rows, 2078 columns, 8578 nonzeros\n",
      "        3\t0.0882907701658491\tNot feasible\n",
      "        9\t0.0015507623875629\tNot feasible\n",
      "Iteration\t Solution to check\tSolver Status\n",
      "---------\t------------------\t-------------\n",
      "        4\t0.0441453850829246\tNot feasible\n",
      "       10\t0.0012923019896358\tNot feasible\n",
      "       11\t0.0011630717906722\tNot feasible\n",
      "        2\t0.0589687135329228\tNot feasible\n",
      "       12\t0.0010984566911904\tOptimal\n",
      "        5\t0.0220726925414623\tNot feasible\n",
      "       13\t0.0011307642409313\tNot feasible\n",
      "        1\t0.0249114793198435\tNot feasible\n",
      "       14\t0.0011146104660608\tNot feasible\n",
      "        3\t0.0294843567664614\tNot feasible\n",
      "       15\t0.0011065335786256\tOptimal\n",
      "        2\t0.0124557396599218\tNot feasible\n",
      "       16\t0.0011105720223432\tNot feasible\n",
      "        6\t0.0110363462707311\tNot feasible\n",
      "        4\t0.0147421783832307\tNot feasible\n",
      "        3\t0.0062278698299609\tNot feasible\n",
      "       17\t0.0011085528004844\tNot feasible\n",
      "       18\t0.0011075431895550\tNot feasible\n",
      "        4\t0.0031139349149804\tNot feasible\n",
      "        7\t0.0055181731353656\tNot feasible\n",
      "       19\t0.0011070383840903\tNot feasible\n",
      "Solution for Acinetobacter_johnsonii_SH046 : 0.0011065335786256242\n"
     ]
    },
    {
     "name": "stderr",
     "output_type": "stream",
     "text": [
      "Building (4 threads):   3%|██▎                                                                  | 17/494 [18:38<10:36:26, 80.06s/it]"
     ]
    },
    {
     "name": "stdout",
     "output_type": "stream",
     "text": [
      "Loading Desulfovibrio_sp_3_1_syn3\n",
      "Read LP format model from file /tmp/tmpqrabjxc8.lp\n",
      "Reading time = 0.00 seconds\n",
      ": 0 rows, 0 columns, 0 nonzeros\n",
      "        5\t0.0073710891916153\tNot feasible\n",
      "        5\t0.0015569674574902\tNot feasible\n",
      "        8\t0.0027590865676828\tOptimal\n",
      "        9\t0.0041386298515242\tNot feasible\n",
      "       10\t0.0034488582096035\tNot feasible\n",
      "        6\t0.0036855445958077\tOptimal\n",
      "       11\t0.0031039723886431\tNot feasible\n",
      "       12\t0.0029315294781630\tNot feasible\n",
      "        6\t0.0007784837287451\tOptimal\n",
      "       13\t0.0028453080229229\tNot feasible\n",
      "        7\t0.0055283168937115\tNot feasible\n",
      "       14\t0.0028021972953028\tNot feasible\n",
      "        7\t0.0011677255931177\tNot feasible\n",
      "       15\t0.0027806419314928\tNot feasible\n",
      "        8\t0.0009731046609314\tNot feasible\n",
      "       16\t0.0027698642495878\tNot feasible\n",
      "        9\t0.0008757941948382\tNot feasible\n",
      "       10\t0.0008271389617917\tNot feasible\n",
      "       17\t0.0027644754086353\tNot feasible\n",
      "        8\t0.0046069307447596\tNot feasible\n",
      "       11\t0.0008028113452684\tNot feasible\n",
      "       18\t0.0027617809881590\tNot feasible\n",
      "       12\t0.0007906475370068\tNot feasible\n",
      "        9\t0.0041462376702836\tNot feasible\n",
      "       13\t0.0007845656328759\tNot feasible\n",
      "       19\t0.0027604337779209\tNot feasible\n",
      "       10\t0.0039158911330457\tNot feasible\n",
      "       14\t0.0007815246808105\tNot feasible\n",
      "       15\t0.0007800042047778\tNot feasible\n",
      "       11\t0.0038007178644267\tNot feasible\n",
      "       20\t0.0027597601728018\tNot feasible\n",
      "Solution for Lactococcus_garvieae_ATCC_49156 : 0.0027590865676827853\n"
     ]
    },
    {
     "name": "stderr",
     "output_type": "stream",
     "text": [
      "Building (4 threads):   4%|██▌                                                                   | 18/494 [19:13<8:48:26, 66.61s/it]"
     ]
    },
    {
     "name": "stdout",
     "output_type": "stream",
     "text": [
      "       16\t0.0007792439667615\tNot feasible\n",
      "Solution for Bifidobacterium_bifidum_S17 : 0.0007784837287451099\n"
     ]
    },
    {
     "name": "stderr",
     "output_type": "stream",
     "text": [
      "Building (4 threads):   4%|██▋                                                                   | 19/494 [19:13<6:10:15, 46.77s/it]"
     ]
    },
    {
     "name": "stdout",
     "output_type": "stream",
     "text": [
      "       12\t0.0037431312301172\tNot feasible\n",
      "Loading Escherichia_coli_O157_H7_str_Sakai\n",
      "Loading Enterococcus_faecalis_TX1322\n",
      "       13\t0.0037143379129624\tNot feasible\n",
      "Read LP format model from file /tmp/tmpco04ll1j.lp\n",
      "Reading time = 0.00 seconds\n",
      ": 0 rows, 0 columns, 0 nonzeros\n",
      "Read LP format model from file /tmp/tmp5zgv1vr9.lp\n",
      "Reading time = 0.00 seconds\n",
      ": 0 rows, 0 columns, 0 nonzeros\n",
      "       14\t0.0036999412543850\tNot feasible\n",
      "       15\t0.0036927429250964\tNot feasible\n",
      "       16\t0.0036891437604520\tNot feasible\n",
      "       17\t0.0036873441781298\tNot feasible\n",
      "       18\t0.0036864443869688\tNot feasible\n",
      "Solution for Butyrivibrio_fibrisolvens_16_4 : 0.003685544595807672\n"
     ]
    },
    {
     "name": "stderr",
     "output_type": "stream",
     "text": [
      "Building (4 threads):   4%|██▊                                                                   | 20/494 [19:20<4:33:04, 34.57s/it]"
     ]
    },
    {
     "name": "stdout",
     "output_type": "stream",
     "text": [
      "Loading Stenotrophomonas_maltophilia_D457\n",
      "Read LP format model from file /tmp/tmpp8cl1b92.lp\n",
      "Reading time = 0.00 seconds\n",
      ": 0 rows, 0 columns, 0 nonzeros\n",
      "Read LP format model from file /tmp/tmptgis3pqv.lp\n",
      "Reading time = 0.02 seconds\n",
      ": 950 rows, 2130 columns, 9244 nonzeros\n",
      "Read LP format model from file /tmp/tmpdq03coo_.lp\n",
      "Reading time = 0.00 seconds\n",
      ": 977 rows, 2128 columns, 9124 nonzeros\n",
      "Iteration\t Solution to check\tSolver Status\n",
      "---------\t------------------\t-------------\n",
      "Read LP format model from file /tmp/tmpar4ts_h8.lp\n",
      "Reading time = 0.02 seconds\n",
      ": 993 rows, 2284 columns, 9586 nonzeros\n",
      "Read LP format model from file /tmp/tmpbwepnssb.lp\n",
      "Reading time = 0.02 seconds\n",
      ": 1326 rows, 3530 columns, 14990 nonzeros\n",
      "Read LP format model from file /tmp/tmpfy44qigx.lp\n",
      "Reading time = 0.02 seconds\n",
      ": 1190 rows, 2754 columns, 11850 nonzeros\n",
      "Read LP format model from file /tmp/tmpvfp86acz.lp\n",
      "Reading time = 0.00 seconds\n",
      ": 1016 rows, 2282 columns, 9466 nonzeros\n",
      "        1\t0.0589211456919280\tNot feasible\n",
      "Read LP format model from file /tmp/tmpmb9bqh96.lp\n",
      "Reading time = 0.00 seconds\n",
      ": 1215 rows, 2752 columns, 11680 nonzeros\n",
      "Iteration\t Solution to check\tSolver Status\n",
      "---------\t------------------\t-------------\n",
      "        2\t0.0294605728459640\tNot feasible\n",
      "Read LP format model from file /tmp/tmprdlxeq46.lp\n",
      "Reading time = 0.00 seconds\n",
      ": 1365 rows, 3528 columns, 14870 nonzeros\n",
      "        3\t0.0147302864229820\tNot feasible\n",
      "        4\t0.0073651432114910\tNot feasible\n",
      "Iteration\t Solution to check\tSolver Status\n",
      "---------\t------------------\t-------------\n",
      "        1\t0.2248598840782379\tNot feasible\n",
      "Iteration\t Solution to check\tSolver Status\n",
      "---------\t------------------\t-------------\n",
      "        2\t0.1124299420391190\tNot feasible\n",
      "        5\t0.0036825716057455\tNot feasible\n",
      "        3\t0.0562149710195595\tNot feasible\n",
      "        4\t0.0281074855097797\tNot feasible\n",
      "        6\t0.0018412858028727\tOptimal\n",
      "        7\t0.0027619287043091\tNot feasible\n",
      "        8\t0.0023016072535909\tNot feasible\n",
      "        9\t0.0020714465282318\tNot feasible\n",
      "        5\t0.0140537427548899\tNot feasible\n",
      "       10\t0.0019563661655523\tNot feasible\n",
      "       11\t0.0018988259842125\tNot feasible\n",
      "       12\t0.0018700558935426\tNot feasible\n",
      "       13\t0.0018556708482077\tNot feasible\n",
      "       14\t0.0018484783255402\tNot feasible\n",
      "       15\t0.0018448820642065\tNot feasible\n",
      "       16\t0.0018430839335396\tNot feasible\n",
      "       17\t0.0018421848682062\tNot feasible\n",
      "Solution for Desulfovibrio_sp_3_1_syn3 : 0.0018412858028727494\n"
     ]
    },
    {
     "name": "stderr",
     "output_type": "stream",
     "text": [
      "Building (4 threads):   4%|██▉                                                                  | 21/494 [22:45<11:16:23, 85.80s/it]"
     ]
    },
    {
     "name": "stdout",
     "output_type": "stream",
     "text": [
      "        6\t0.0070268713774449\tNot feasible\n",
      "Loading Bifidobacterium_dentium_ATCC_27678\n",
      "Read LP format model from file /tmp/tmp_x814ovd.lp\n",
      "Reading time = 0.00 seconds\n",
      ": 0 rows, 0 columns, 0 nonzeros\n",
      "Read LP format model from file /tmp/tmpqxcybm0l.lp\n",
      "Reading time = 0.00 seconds\n",
      ": 976 rows, 2192 columns, 9352 nonzeros\n",
      "        1\t0.4278466009339749\tNot feasible\n",
      "Read LP format model from file /tmp/tmpl7vxp5df.lp\n",
      "Reading time = 0.00 seconds\n",
      ": 976 rows, 2190 columns, 9182 nonzeros\n",
      "        1\t0.5044087159390515\tNot feasible\n",
      "Iteration\t Solution to check\tSolver Status\n",
      "---------\t------------------\t-------------\n",
      "        7\t0.0035134356887225\tNot feasible\n",
      "        2\t0.2139233004669874\tNot feasible\n",
      "        8\t0.0017567178443612\tNot feasible\n",
      "        1\t0.1222460015086262\tNot feasible\n",
      "        2\t0.2522043579695257\tNot feasible\n",
      "        9\t0.0008783589221806\tOptimal\n",
      "       10\t0.0013175383832709\tOptimal\n",
      "        2\t0.0611230007543131\tNot feasible\n",
      "       11\t0.0015371281138161\tOptimal\n",
      "       12\t0.0016469229790887\tNot feasible\n",
      "       13\t0.0015920255464524\tOptimal\n",
      "       14\t0.0016194742627705\tNot feasible\n",
      "       15\t0.0016057499046114\tNot feasible\n",
      "       16\t0.0015988877255319\tNot feasible\n",
      "       17\t0.0015954566359921\tNot feasible\n",
      "        3\t0.1261021789847629\tNot feasible\n",
      "       18\t0.0015937410912223\tOptimal\n",
      "        3\t0.0305615003771565\tNot feasible\n",
      "        3\t0.1069616502334937\tNot feasible\n",
      "       19\t0.0015945988636072\tOptimal\n",
      "Solution for Enterococcus_faecalis_TX1322 : 0.001594598863607194\n"
     ]
    },
    {
     "name": "stderr",
     "output_type": "stream",
     "text": [
      "Building (4 threads):   4%|███                                                                  | 22/494 [24:02<10:54:09, 83.16s/it]"
     ]
    },
    {
     "name": "stdout",
     "output_type": "stream",
     "text": [
      "Loading Lactobacillus_fermentum_ATCC_14931\n",
      "Read LP format model from file /tmp/tmp4e64t9kj.lp\n",
      "Reading time = 0.00 seconds\n",
      ": 0 rows, 0 columns, 0 nonzeros\n",
      "        4\t0.0152807501885783\tNot feasible\n",
      "        4\t0.0534808251167469\tNot feasible\n",
      "        5\t0.0076403750942891\tNot feasible\n",
      "        4\t0.0630510894923814\tNot feasible\n",
      "Read LP format model from file /tmp/tmpf876bph5.lp\n",
      "Reading time = 0.02 seconds\n",
      ": 916 rows, 1984 columns, 8488 nonzeros\n",
      "        6\t0.0038201875471446\tOptimal\n",
      "        7\t0.0057302813207169\tNot feasible\n",
      "        8\t0.0047752344339307\tOptimal\n",
      "        9\t0.0052527578773238\tOptimal\n",
      "        5\t0.0267404125583734\tNot feasible\n",
      "       10\t0.0054915195990203\tNot feasible\n",
      "       11\t0.0053721387381720\tOptimal\n",
      "       12\t0.0054318291685962\tOptimal\n",
      "        5\t0.0315255447461907\tNot feasible\n",
      "       13\t0.0054616743838082\tOptimal\n",
      "       14\t0.0054765969914143\tNot feasible\n",
      "Read LP format model from file /tmp/tmppush_n9g.lp\n",
      "Reading time = 0.00 seconds\n",
      ": 939 rows, 1982 columns, 8368 nonzeros\n",
      "       15\t0.0054691356876113\tNot feasible\n",
      "       16\t0.0054654050357098\tNot feasible\n",
      "       17\t0.0054635397097590\tNot feasible\n",
      "       18\t0.0054626070467836\tNot feasible\n",
      "Solution for Bifidobacterium_dentium_ATCC_27678 : 0.005461674383808249\n"
     ]
    },
    {
     "name": "stderr",
     "output_type": "stream",
     "text": [
      "Building (4 threads):   5%|███▏                                                                 | 23/494 [25:12<10:21:14, 79.14s/it]"
     ]
    },
    {
     "name": "stdout",
     "output_type": "stream",
     "text": [
      "Loading Bacillus_cereus_G9842\n",
      "Read LP format model from file /tmp/tmpak1m6ijc.lp\n",
      "Reading time = 0.00 seconds\n",
      ": 0 rows, 0 columns, 0 nonzeros\n",
      "Read LP format model from file /tmp/tmptt7i1l9g.lp\n",
      "Reading time = 0.00 seconds\n",
      ": 1263 rows, 3172 columns, 13638 nonzeros\n",
      "Read LP format model from file /tmp/tmpt4w3lrrh.lp\n",
      "Reading time = 0.00 seconds\n",
      ": 1288 rows, 3170 columns, 13438 nonzeros\n",
      "Iteration\t Solution to check\tSolver Status\n",
      "---------\t------------------\t-------------\n",
      "        6\t0.0157627723730954\tNot feasible\n",
      "        6\t0.0133702062791867\tNot feasible\n",
      "Iteration\t Solution to check\tSolver Status\n",
      "---------\t------------------\t-------------\n",
      "        1\t0.0940302321636242\tNot feasible\n",
      "        2\t0.0470151160818121\tNot feasible\n",
      "        7\t0.0078813861865477\tNot feasible\n",
      "        3\t0.0235075580409060\tNot feasible\n",
      "        7\t0.0066851031395934\tOptimal\n",
      "        8\t0.0100276547093900\tNot feasible\n",
      "        9\t0.0083563789244917\tNot feasible\n",
      "        4\t0.0117537790204530\tNot feasible\n",
      "       10\t0.0075207410320425\tOptimal\n",
      "        8\t0.0039406930932738\tNot feasible\n",
      "       11\t0.0079385599782671\tNot feasible\n",
      "       12\t0.0077296505051548\tOptimal\n",
      "       13\t0.0078341052417110\tOptimal\n",
      "       14\t0.0078863326099890\tOptimal\n",
      "       15\t0.0079124462941281\tOptimal\n",
      "        5\t0.0058768895102265\tNot feasible\n",
      "       16\t0.0079255031361976\tNot feasible\n",
      "       17\t0.0079189747151628\tOptimal\n",
      "       18\t0.0079222389256802\tNot feasible\n",
      "       19\t0.0079206068204215\tOptimal\n",
      "        6\t0.0029384447551133\tNot feasible\n",
      "       20\t0.0079214228730509\tOptimal\n",
      "Solution for Stenotrophomonas_maltophilia_D457 : 0.007921422873050869\n"
     ]
    },
    {
     "name": "stderr",
     "output_type": "stream",
     "text": [
      "Building (4 threads):   5%|███▎                                                                 | 24/494 [26:27<10:10:21, 77.92s/it]"
     ]
    },
    {
     "name": "stdout",
     "output_type": "stream",
     "text": [
      "Loading Staphylococcus_hominis_subsp_hominis_C80\n",
      "Read LP format model from file /tmp/tmp_mrx06of.lp\n",
      "Reading time = 0.00 seconds\n",
      ": 0 rows, 0 columns, 0 nonzeros\n",
      "        9\t0.0019703465466369\tNot feasible\n",
      "        7\t0.0014692223775566\tNot feasible\n",
      "        8\t0.0007346111887783\tOptimal\n",
      "        9\t0.0011019167831675\tNot feasible\n",
      "       10\t0.0009182639859729\tOptimal\n",
      "        1\t0.4490585081696892\tNot feasible\n",
      "       11\t0.0010100903845702\tOptimal\n",
      "       12\t0.0010560035838688\tNot feasible\n",
      "       13\t0.0010330469842195\tNot feasible\n",
      "       14\t0.0010215686843948\tNot feasible\n",
      "       15\t0.0010158295344825\tOptimal\n",
      "       10\t0.0009851732733185\tOptimal\n",
      "       16\t0.0010186991094387\tNot feasible\n",
      "       11\t0.0014777599099777\tNot feasible\n",
      "       17\t0.0010172643219606\tNot feasible\n",
      "       12\t0.0012314665916481\tOptimal\n",
      "       18\t0.0010165469282216\tOptimal\n",
      "Solution for Lactobacillus_fermentum_ATCC_14931 : 0.0010165469282215536\n"
     ]
    },
    {
     "name": "stderr",
     "output_type": "stream",
     "text": [
      "Building (4 threads):   5%|███▌                                                                  | 25/494 [27:11<8:50:30, 67.87s/it]"
     ]
    },
    {
     "name": "stdout",
     "output_type": "stream",
     "text": [
      "Loading Bacteroides_oleiciplenus_YIT_12058\n",
      "       13\t0.0013546132508129\tOptimal\n",
      "Read LP format model from file /tmp/tmp2vt06fy8.lp\n",
      "Reading time = 0.00 seconds\n",
      ": 0 rows, 0 columns, 0 nonzeros\n",
      "       14\t0.0014161865803953\tNot feasible\n",
      "       15\t0.0013853999156041\tOptimal\n",
      "       16\t0.0014007932479997\tOptimal\n",
      "       17\t0.0014084899141975\tOptimal\n",
      "       18\t0.0014123382472964\tOptimal\n",
      "       19\t0.0014142624138458\tOptimal\n",
      "       20\t0.0014152244971206\tNot feasible\n",
      "Solution for Escherichia_coli_O157_H7_str_Sakai : 0.001414262413845836\n"
     ]
    },
    {
     "name": "stderr",
     "output_type": "stream",
     "text": [
      "Building (4 threads):   5%|███▋                                                                  | 26/494 [27:23<6:37:55, 51.02s/it]"
     ]
    },
    {
     "name": "stdout",
     "output_type": "stream",
     "text": [
      "Loading Fusobacterium_nucleatum_subsp_animalis_D11\n",
      "Read LP format model from file /tmp/tmpadl68486.lp\n",
      "Reading time = 0.00 seconds\n",
      ": 0 rows, 0 columns, 0 nonzeros\n",
      "Read LP format model from file /tmp/tmpso3caw0l.lp\n",
      "Reading time = 0.02 seconds\n",
      ": 1167 rows, 2708 columns, 11882 nonzeros\n",
      "Read LP format model from file /tmp/tmpy2hkzv79.lp\n",
      "Reading time = 0.00 seconds\n",
      ": 1181 rows, 2706 columns, 11682 nonzeros\n",
      "        2\t0.2245292540848446\tNot feasible\n",
      "Read LP format model from file /tmp/tmp1_jv70ev.lp\n",
      "Reading time = 0.02 seconds\n",
      ": 917 rows, 1958 columns, 8346 nonzeros\n",
      "Iteration\t Solution to check\tSolver Status\n",
      "---------\t------------------\t-------------\n",
      "Read LP format model from file /tmp/tmpsqo226tq.lp\n",
      "Reading time = 0.02 seconds\n",
      ": 1113 rows, 2500 columns, 10940 nonzeros\n",
      "Read LP format model from file /tmp/tmpjih78vzk.lp\n",
      "Reading time = 0.00 seconds\n",
      ": 942 rows, 1956 columns, 8226 nonzeros\n",
      "Iteration\t Solution to check\tSolver Status\n",
      "---------\t------------------\t-------------\n",
      "Read LP format model from file /tmp/tmpfaeur1a_.lp\n",
      "Reading time = 0.00 seconds\n",
      ": 1133 rows, 2498 columns, 10770 nonzeros\n",
      "        1\t0.0872099417224008\tNot feasible\n",
      "        1\t0.3280445807397870\tNot feasible\n",
      "Iteration\t Solution to check\tSolver Status\n",
      "---------\t------------------\t-------------\n",
      "        2\t0.0436049708612004\tNot feasible\n",
      "        3\t0.1122646270424223\tNot feasible\n",
      "        2\t0.1640222903698935\tNot feasible\n",
      "        3\t0.0218024854306002\tNot feasible\n",
      "        4\t0.0109012427153001\tNot feasible\n",
      "        3\t0.0820111451849468\tNot feasible\n",
      "        5\t0.0054506213576501\tNot feasible\n",
      "        1\t0.1772893632050924\tNot feasible\n",
      "        6\t0.0027253106788250\tNot feasible\n",
      "        4\t0.0410055725924734\tNot feasible\n",
      "        4\t0.0561323135212111\tNot feasible\n",
      "        2\t0.0886446816025462\tNot feasible\n",
      "        7\t0.0013626553394125\tOptimal\n",
      "        8\t0.0020439830091188\tNot feasible\n",
      "        9\t0.0017033191742656\tOptimal\n",
      "       10\t0.0018736510916922\tNot feasible\n",
      "        5\t0.0205027862962367\tNot feasible\n",
      "       11\t0.0017884851329789\tOptimal\n",
      "        3\t0.0443223408012731\tNot feasible\n",
      "       12\t0.0018310681123356\tOptimal\n",
      "       13\t0.0018523596020139\tNot feasible\n",
      "       14\t0.0018417138571747\tNot feasible\n",
      "       15\t0.0018363909847551\tNot feasible\n",
      "       16\t0.0018337295485454\tNot feasible\n",
      "       17\t0.0018323988304405\tNot feasible\n",
      "        5\t0.0280661567606056\tNot feasible\n",
      "        4\t0.0221611704006366\tNot feasible\n",
      "       18\t0.0018317334713880\tNot feasible\n",
      "Solution for Fusobacterium_nucleatum_subsp_animalis_D11 : 0.0018310681123355648\n"
     ]
    },
    {
     "name": "stderr",
     "output_type": "stream",
     "text": [
      "Building (4 threads):   5%|███▊                                                                 | 27/494 [30:31<11:57:59, 92.25s/it]"
     ]
    },
    {
     "name": "stdout",
     "output_type": "stream",
     "text": [
      "        6\t0.0102513931481183\tNot feasible\n",
      "Loading Lactobacillus_casei_casei_BL23\n",
      "Read LP format model from file /tmp/tmpv10k63bh.lp\n",
      "Reading time = 0.00 seconds\n",
      ": 0 rows, 0 columns, 0 nonzeros\n",
      "        7\t0.0051256965740592\tNot feasible\n",
      "        5\t0.0110805852003183\tNot feasible\n",
      "        6\t0.0055402926001591\tNot feasible\n",
      "        6\t0.0140330783803028\tNot feasible\n",
      "        8\t0.0025628482870296\tNot feasible\n",
      "        7\t0.0027701463000796\tNot feasible\n",
      "Read LP format model from file /tmp/tmpxxzc1qzi.lp\n",
      "Reading time = 0.02 seconds\n",
      ": 963 rows, 2116 columns, 8958 nonzeros\n",
      "        8\t0.0013850731500398\tNot feasible\n",
      "        9\t0.0012814241435148\tNot feasible\n",
      "Read LP format model from file /tmp/tmp5zv0t0ej.lp\n",
      "Reading time = 0.00 seconds\n",
      ": 986 rows, 2114 columns, 8838 nonzeros\n",
      "Iteration\t Solution to check\tSolver Status\n",
      "---------\t------------------\t-------------\n",
      "        9\t0.0006925365750199\tOptimal\n",
      "       10\t0.0006407120717574\tOptimal\n",
      "        7\t0.0070165391901514\tNot feasible\n",
      "       10\t0.0010388048625298\tNot feasible\n",
      "       11\t0.0008656707187749\tOptimal\n",
      "       12\t0.0009522377906524\tOptimal\n",
      "       13\t0.0009955213265911\tOptimal\n",
      "       14\t0.0010171630945605\tNot feasible\n",
      "       15\t0.0010063422105758\tNot feasible\n",
      "       16\t0.0010009317685834\tOptimal\n",
      "       17\t0.0010036369895796\tOptimal\n",
      "       18\t0.0010049896000777\tNot feasible\n",
      "       11\t0.0009610681076361\tOptimal\n",
      "       19\t0.0010043132948287\tOptimal\n",
      "Solution for Bacteroides_oleiciplenus_YIT_12058 : 0.0010043132948286521\n"
     ]
    },
    {
     "name": "stderr",
     "output_type": "stream",
     "text": [
      "Building (4 threads):   6%|███▉                                                                 | 28/494 [32:27<12:51:08, 99.29s/it]"
     ]
    },
    {
     "name": "stdout",
     "output_type": "stream",
     "text": [
      "Loading Clostridium_saccharoperbutylacetonicum_N1_4_HMT\n",
      "Read LP format model from file /tmp/tmpwx9a_814.lp\n",
      "Reading time = 0.00 seconds\n",
      ": 0 rows, 0 columns, 0 nonzeros\n",
      "Read LP format model from file /tmp/tmpjw_gpf99.lp\n",
      "Reading time = 0.00 seconds\n",
      ": 1259 rows, 3018 columns, 13206 nonzeros\n",
      "Read LP format model from file /tmp/tmppvdbxnbk.lp\n",
      "Reading time = 0.00 seconds\n",
      ": 1282 rows, 3016 columns, 13006 nonzeros\n",
      "       12\t0.0011212461255754\tOptimal\n",
      "       13\t0.0012013351345451\tNot feasible\n",
      "        1\t0.1338666240727734\tNot feasible\n",
      "       14\t0.0011612906300603\tOptimal\n",
      "Iteration\t Solution to check\tSolver Status\n",
      "---------\t------------------\t-------------\n",
      "        2\t0.0669333120363867\tNot feasible\n",
      "       15\t0.0011813128823027\tOptimal\n",
      "       16\t0.0011913240084239\tNot feasible\n",
      "        3\t0.0334666560181933\tNot feasible\n",
      "       17\t0.0011863184453633\tOptimal\n",
      "        4\t0.0167333280090967\tNot feasible\n",
      "       18\t0.0011888212268936\tOptimal\n",
      "        5\t0.0083666640045483\tNot feasible\n",
      "       19\t0.0011900726176588\tNot feasible\n",
      "        6\t0.0041833320022742\tNot feasible\n",
      "        8\t0.0035082695950757\tNot feasible\n",
      "       20\t0.0011894469222762\tNot feasible\n",
      "Solution for Staphylococcus_hominis_subsp_hominis_C80 : 0.0011888212268936068\n"
     ]
    },
    {
     "name": "stderr",
     "output_type": "stream",
     "text": [
      "Building (4 threads):   6%|████                                                                 | 29/494 [33:41<11:51:27, 91.80s/it]"
     ]
    },
    {
     "name": "stdout",
     "output_type": "stream",
     "text": [
      "Loading Atopobium_minutum_10063974\n",
      "Read LP format model from file /tmp/tmpoi3h1_n5.lp\n",
      "Reading time = 0.00 seconds\n",
      ": 0 rows, 0 columns, 0 nonzeros\n",
      "        7\t0.0020916660011371\tNot feasible\n",
      "        8\t0.0010458330005685\tOptimal\n",
      "        9\t0.0015687495008528\tNot feasible\n",
      "       10\t0.0013072912507107\tNot feasible\n",
      "       11\t0.0011765621256396\tOptimal\n",
      "       12\t0.0012419266881751\tNot feasible\n",
      "Read LP format model from file /tmp/tmpoi3s0dbd.lp\n",
      "Reading time = 0.02 seconds\n",
      ": 931 rows, 2014 columns, 8566 nonzeros\n",
      "       13\t0.0012092444069074\tNot feasible\n",
      "       14\t0.0011929032662735\tOptimal\n",
      "       15\t0.0012010738365904\tOptimal\n",
      "        9\t0.0017541347975378\tNot feasible\n",
      "       16\t0.0012051591217489\tOptimal\n",
      "       17\t0.0012072017643281\tOptimal\n",
      "       18\t0.0012082230856178\tOptimal\n",
      "       19\t0.0012087337462626\tNot feasible\n",
      "Solution for Lactobacillus_casei_casei_BL23 : 0.001208223085617759\n"
     ]
    },
    {
     "name": "stderr",
     "output_type": "stream",
     "text": [
      "Building (4 threads):   6%|████▏                                                                | 30/494 [34:36<10:24:33, 80.76s/it]"
     ]
    },
    {
     "name": "stdout",
     "output_type": "stream",
     "text": [
      "Loading Streptococcus_mutans_ATCC_25175\n",
      "Read LP format model from file /tmp/tmps_bl27hs.lp\n",
      "Reading time = 0.00 seconds\n",
      ": 0 rows, 0 columns, 0 nonzeros\n",
      "        1\t0.5817801542106305\tNot feasible\n",
      "Read LP format model from file /tmp/tmptv7ainra.lp\n",
      "Reading time = 0.00 seconds\n",
      ": 934 rows, 2012 columns, 8366 nonzeros\n",
      "Iteration\t Solution to check\tSolver Status\n",
      "---------\t------------------\t-------------\n",
      "        1\t0.3397811080432596\tNot feasible\n",
      "Read LP format model from file /tmp/tmptzvljcte.lp\n",
      "Reading time = 0.02 seconds\n",
      ": 1070 rows, 2538 columns, 10864 nonzeros\n",
      "        2\t0.1698905540216298\tNot feasible\n",
      "        2\t0.2908900771053152\tNot feasible\n",
      "        3\t0.0849452770108149\tNot feasible\n",
      "        4\t0.0424726385054074\tNot feasible\n",
      "Read LP format model from file /tmp/tmp1m5kdbkk.lp\n",
      "Reading time = 0.00 seconds\n",
      ": 1087 rows, 2536 columns, 10664 nonzeros\n",
      "       10\t0.0008770673987689\tOptimal\n",
      "        5\t0.0212363192527037\tNot feasible\n",
      "       11\t0.0013156010981534\tNot feasible\n",
      "        6\t0.0106181596263519\tNot feasible\n",
      "       12\t0.0010963342484612\tOptimal\n",
      "       13\t0.0012059676733073\tNot feasible\n",
      "        7\t0.0053090798131759\tNot feasible\n",
      "       14\t0.0011511509608842\tOptimal\n",
      "        3\t0.1454450385526576\tNot feasible\n",
      "       15\t0.0011785593170957\tOptimal\n",
      "        8\t0.0026545399065880\tNot feasible\n",
      "       16\t0.0011922634952015\tOptimal\n",
      "Iteration\t Solution to check\tSolver Status\n",
      "---------\t------------------\t-------------\n",
      "       17\t0.0011991155842544\tOptimal\n",
      "        9\t0.0013272699532940\tOptimal\n",
      "       10\t0.0019909049299410\tNot feasible\n",
      "       18\t0.0012025416287808\tNot feasible\n",
      "       11\t0.0016590874416175\tNot feasible\n",
      "       12\t0.0014931786974557\tNot feasible\n",
      "       13\t0.0014102243253749\tNot feasible\n",
      "       14\t0.0013687471393344\tNot feasible\n",
      "       15\t0.0013480085463142\tNot feasible\n",
      "       16\t0.0013376392498041\tNot feasible\n",
      "       17\t0.0013324546015490\tNot feasible\n",
      "       18\t0.0013298622774215\tNot feasible\n",
      "       19\t0.0013285661153577\tNot feasible\n",
      "       19\t0.0012008286065176\tOptimal\n",
      "       20\t0.0013279180343259\tNot feasible\n",
      "Solution for Atopobium_minutum_10063974 : 0.0013272699532939827\n"
     ]
    },
    {
     "name": "stderr",
     "output_type": "stream",
     "text": [
      "Building (4 threads):   6%|████▎                                                                | 31/494 [36:31<11:40:40, 90.80s/it]"
     ]
    },
    {
     "name": "stdout",
     "output_type": "stream",
     "text": [
      "Loading Actinomyces_odontolyticus_ATCC_17982\n",
      "Read LP format model from file /tmp/tmpjhura53u.lp\n",
      "Reading time = 0.00 seconds\n",
      ": 0 rows, 0 columns, 0 nonzeros\n",
      "       20\t0.0012016851176492\tNot feasible\n",
      "Solution for Bacillus_cereus_G9842 : 0.001200828606517609\n"
     ]
    },
    {
     "name": "stderr",
     "output_type": "stream",
     "text": [
      "Building (4 threads):   6%|████▌                                                                 | 32/494 [36:36<8:21:01, 65.07s/it]"
     ]
    },
    {
     "name": "stdout",
     "output_type": "stream",
     "text": [
      "Loading Prevotella_timonensis_CRIS_5C_B1\n",
      "Read LP format model from file /tmp/tmpxyil5d7c.lp\n",
      "Reading time = 0.00 seconds\n",
      ": 0 rows, 0 columns, 0 nonzeros\n",
      "        1\t0.3144743466644453\tNot feasible\n",
      "        4\t0.0727225192763288\tNot feasible\n",
      "Read LP format model from file /tmp/tmpuc7qe21l.lp\n",
      "Reading time = 0.02 seconds\n",
      ": 793 rows, 1708 columns, 7238 nonzeros\n",
      "Read LP format model from file /tmp/tmp_ywjg3ql.lp\n",
      "Reading time = 0.02 seconds\n",
      ": 892 rows, 1910 columns, 8198 nonzeros\n",
      "        2\t0.1572371733322226\tNot feasible\n",
      "Read LP format model from file /tmp/tmppvxp5lu8.lp\n",
      "Reading time = 0.00 seconds\n",
      ": 794 rows, 1706 columns, 7118 nonzeros\n",
      "Read LP format model from file /tmp/tmp5el2ytw3.lp\n",
      "Reading time = 0.00 seconds\n",
      ": 917 rows, 1908 columns, 8028 nonzeros\n",
      "        3\t0.0786185866661113\tNot feasible\n",
      "Iteration\t Solution to check\tSolver Status\n",
      "---------\t------------------\t-------------\n",
      "Iteration\t Solution to check\tSolver Status\n",
      "---------\t------------------\t-------------\n",
      "        4\t0.0393092933330557\tNot feasible\n",
      "        5\t0.0363612596381644\tNot feasible\n",
      "        1\t0.0723727951495785\tNot feasible\n",
      "        1\t0.0655062768065433\tNot feasible\n",
      "        2\t0.0361863975747892\tNot feasible\n",
      "        5\t0.0196546466665278\tNot feasible\n",
      "        2\t0.0327531384032717\tNot feasible\n",
      "        3\t0.0180931987873946\tNot feasible\n",
      "        3\t0.0163765692016358\tNot feasible\n",
      "        4\t0.0090465993936973\tNot feasible\n",
      "        6\t0.0098273233332639\tNot feasible\n",
      "        5\t0.0045232996968487\tNot feasible\n",
      "        4\t0.0081882846008179\tNot feasible\n",
      "        6\t0.0181806298190822\tNot feasible\n",
      "        5\t0.0040941423004090\tNot feasible\n",
      "        6\t0.0022616498484243\tNot feasible\n",
      "        7\t0.0049136616666320\tNot feasible\n",
      "        6\t0.0020470711502045\tOptimal\n",
      "        7\t0.0030706067253067\tNot feasible\n",
      "        7\t0.0011308249242122\tOptimal\n",
      "        8\t0.0025588389377556\tOptimal\n",
      "        9\t0.0028147228315312\tOptimal\n",
      "       10\t0.0029426647784189\tNot feasible\n",
      "       11\t0.0028786938049750\tNot feasible\n",
      "       12\t0.0028467083182531\tOptimal\n",
      "        8\t0.0016962373863182\tNot feasible\n",
      "       13\t0.0028627010616141\tNot feasible\n",
      "       14\t0.0028547046899336\tOptimal\n",
      "       15\t0.0028587028757738\tNot feasible\n",
      "       16\t0.0028567037828537\tNot feasible\n",
      "       17\t0.0028557042363937\tNot feasible\n",
      "Solution for Prevotella_timonensis_CRIS_5C_B1 : 0.002854704689933589\n"
     ]
    },
    {
     "name": "stderr",
     "output_type": "stream",
     "text": [
      "Building (4 threads):   7%|████▌                                                                | 33/494 [39:10<11:45:27, 91.82s/it]"
     ]
    },
    {
     "name": "stdout",
     "output_type": "stream",
     "text": [
      "        9\t0.0014135311552652\tNot feasible\n",
      "Loading Bacteroides_sp_9_1_42FAA\n",
      "Read LP format model from file /tmp/tmpi3tto195.lp\n",
      "Reading time = 0.00 seconds\n",
      ": 0 rows, 0 columns, 0 nonzeros\n",
      "       10\t0.0012721780397387\tOptimal\n",
      "        8\t0.0024568308333160\tOptimal\n",
      "       11\t0.0013428545975019\tNot feasible\n",
      "        9\t0.0036852462499740\tNot feasible\n",
      "       10\t0.0030710385416450\tOptimal\n",
      "       12\t0.0013075163186203\tNot feasible\n",
      "       11\t0.0033781423958095\tNot feasible\n",
      "       12\t0.0032245904687272\tNot feasible\n",
      "       13\t0.0031478145051861\tNot feasible\n",
      "       13\t0.0012898471791795\tNot feasible\n",
      "       14\t0.0012810126094591\tNot feasible\n",
      "       14\t0.0031094265234155\tOptimal\n",
      "       15\t0.0012765953245989\tOptimal\n",
      "        7\t0.0090903149095411\tNot feasible\n",
      "       15\t0.0031286205143008\tOptimal\n",
      "       16\t0.0012788039670290\tNot feasible\n",
      "       16\t0.0031382175097435\tOptimal\n",
      "       17\t0.0012776996458139\tNot feasible\n",
      "       17\t0.0031430160074648\tNot feasible\n",
      "       18\t0.0012771474852064\tOptimal\n",
      "Solution for Actinomyces_odontolyticus_ATCC_17982 : 0.0012771474852064134\n"
     ]
    },
    {
     "name": "stderr",
     "output_type": "stream",
     "text": [
      "Building (4 threads):   7%|████▊                                                                 | 34/494 [39:36<9:13:27, 72.19s/it]"
     ]
    },
    {
     "name": "stdout",
     "output_type": "stream",
     "text": [
      "Loading Neisseria_mucosa_ATCC_25996\n",
      "       18\t0.0031406167586041\tNot feasible\n",
      "Read LP format model from file /tmp/tmpg_ee0t3l.lp\n",
      "Reading time = 0.00 seconds\n",
      ": 0 rows, 0 columns, 0 nonzeros\n",
      "       19\t0.0031394171341738\tNot feasible\n",
      "       20\t0.0031388173219586\tNot feasible\n",
      "Solution for Streptococcus_mutans_ATCC_25175 : 0.003138217509743457\n"
     ]
    },
    {
     "name": "stderr",
     "output_type": "stream",
     "text": [
      "Building (4 threads):   7%|████▉                                                                 | 35/494 [39:41<6:38:43, 52.12s/it]"
     ]
    },
    {
     "name": "stdout",
     "output_type": "stream",
     "text": [
      "Loading Acidaminococcus_intestini_RyC_MR95\n",
      "Read LP format model from file /tmp/tmpd50ojg99.lp\n",
      "Reading time = 0.00 seconds\n",
      ": 0 rows, 0 columns, 0 nonzeros\n",
      "        8\t0.0045451574547706\tNot feasible\n",
      "Read LP format model from file /tmp/tmp6x7rk4a8.lp\n",
      "Reading time = 0.02 seconds\n",
      ": 1069 rows, 2428 columns, 10312 nonzeros\n",
      "Read LP format model from file /tmp/tmp96qm0m2q.lp\n",
      "Reading time = 0.02 seconds\n",
      ": 919 rows, 2002 columns, 8560 nonzeros\n",
      "Read LP format model from file /tmp/tmpj1w1vjk7.lp\n",
      "Reading time = 0.00 seconds\n",
      ": 1094 rows, 2426 columns, 10190 nonzeros\n",
      "Read LP format model from file /tmp/tmp5iygf0ya.lp\n",
      "Reading time = 0.02 seconds\n",
      ": 1077 rows, 2526 columns, 10884 nonzeros\n",
      "Read LP format model from file /tmp/tmp7haw17rs.lp\n",
      "Reading time = 0.00 seconds\n",
      ": 941 rows, 2000 columns, 8390 nonzeros\n",
      "Iteration\t Solution to check\tSolver Status\n",
      "---------\t------------------\t-------------\n",
      "Iteration\t Solution to check\tSolver Status\n",
      "---------\t------------------\t-------------\n",
      "Read LP format model from file /tmp/tmpdctid0ya.lp\n",
      "Reading time = 0.00 seconds\n",
      ": 1100 rows, 2524 columns, 10714 nonzeros\n",
      "        9\t0.0022725787273853\tNot feasible\n",
      "        1\t0.0323293826366632\tNot feasible\n",
      "Iteration\t Solution to check\tSolver Status\n",
      "---------\t------------------\t-------------\n",
      "        1\t0.1839515408227274\tOptimal\n",
      "        2\t0.2759273112340911\tNot feasible\n",
      "        2\t0.0161646913183316\tNot feasible\n",
      "        3\t0.2299394260284092\tNot feasible\n",
      "        4\t0.2069454834255683\tOptimal\n",
      "        5\t0.2184424547269888\tOptimal\n",
      "        6\t0.2241909403776990\tOptimal\n",
      "        7\t0.2270651832030541\tNot feasible\n",
      "        8\t0.2256280617903766\tOptimal\n",
      "        9\t0.2263466224967154\tNot feasible\n",
      "       10\t0.2259873421435460\tOptimal\n",
      "        3\t0.0080823456591658\tNot feasible\n",
      "       11\t0.2261669823201307\tNot feasible\n",
      "       12\t0.2260771622318383\tOptimal\n",
      "       13\t0.2261220722759845\tOptimal\n",
      "       14\t0.2261445272980576\tNot feasible\n",
      "       15\t0.2261332997870210\tOptimal\n",
      "       16\t0.2261389135425393\tOptimal\n",
      "       17\t0.2261417204202984\tOptimal\n",
      "       18\t0.2261431238591780\tNot feasible\n",
      "       19\t0.2261424221397382\tNot feasible\n",
      "Solution for Bacteroides_sp_9_1_42FAA : 0.22614172042029843\n"
     ]
    },
    {
     "name": "stderr",
     "output_type": "stream",
     "text": [
      "Building (4 threads):   7%|█████                                                                 | 36/494 [41:55<9:43:39, 76.46s/it]"
     ]
    },
    {
     "name": "stdout",
     "output_type": "stream",
     "text": [
      "        4\t0.0040411728295829\tNot feasible\n",
      "Loading Providencia_rettgeri_DSM_1131\n",
      "        1\t0.0700660898461274\tNot feasible\n",
      "Read LP format model from file /tmp/tmp7860yp9f.lp\n",
      "Reading time = 0.00 seconds\n",
      ": 0 rows, 0 columns, 0 nonzeros\n",
      "        2\t0.0350330449230637\tNot feasible\n",
      "       10\t0.0011362893636926\tNot feasible\n",
      "        5\t0.0020205864147915\tOptimal\n",
      "        6\t0.0030308796221872\tNot feasible\n",
      "        7\t0.0025257330184893\tNot feasible\n",
      "        8\t0.0022731597166404\tNot feasible\n",
      "        9\t0.0021468730657159\tNot feasible\n",
      "       10\t0.0020837297402537\tNot feasible\n",
      "       11\t0.0020521580775226\tOptimal\n",
      "       12\t0.0020679439088881\tNot feasible\n",
      "       13\t0.0020600509932053\tNot feasible\n",
      "       14\t0.0020561045353640\tNot feasible\n",
      "       15\t0.0020541313064433\tOptimal\n",
      "       16\t0.0020551179209036\tNot feasible\n",
      "Solution for Acidaminococcus_intestini_RyC_MR95 : 0.002054131306443263\n"
     ]
    },
    {
     "name": "stderr",
     "output_type": "stream",
     "text": [
      "Building (4 threads):   7%|█████▏                                                                | 37/494 [42:24<7:55:12, 62.39s/it]"
     ]
    },
    {
     "name": "stdout",
     "output_type": "stream",
     "text": [
      "Loading Anaerostipes_sp_3_2_56FAA\n",
      "Read LP format model from file /tmp/tmp9s1t0lfr.lp\n",
      "Reading time = 0.00 seconds\n",
      ": 0 rows, 0 columns, 0 nonzeros\n",
      "Read LP format model from file /tmp/tmpszwche8x.lp\n",
      "Reading time = 0.00 seconds\n",
      ": 1048 rows, 2280 columns, 9724 nonzeros\n",
      "Read LP format model from file /tmp/tmpwgfu8ar8.lp\n",
      "Reading time = 0.00 seconds\n",
      ": 1071 rows, 2278 columns, 9604 nonzeros\n",
      "        3\t0.0175165224615318\tNot feasible\n",
      "Iteration\t Solution to check\tSolver Status\n",
      "---------\t------------------\t-------------\n",
      "        4\t0.0087582612307659\tNot feasible\n",
      "Read LP format model from file /tmp/tmp_6015ey3.lp\n",
      "Reading time = 0.02 seconds\n",
      ": 1264 rows, 3184 columns, 13512 nonzeros\n",
      "       11\t0.0005681446818463\tOptimal\n",
      "        5\t0.0043791306153830\tNot feasible\n",
      "       12\t0.0008522170227695\tOptimal\n",
      "       13\t0.0009942531932311\tOptimal\n",
      "        6\t0.0021895653076915\tNot feasible\n",
      "        1\t0.1532200356617339\tNot feasible\n",
      "        7\t0.0010947826538457\tNot feasible\n",
      "Read LP format model from file /tmp/tmp5el_ty2_.lp\n",
      "Reading time = 0.00 seconds\n",
      ": 1301 rows, 3182 columns, 13392 nonzeros\n",
      "        2\t0.0766100178308670\tNot feasible\n",
      "       14\t0.0010652712784618\tNot feasible\n",
      "       15\t0.0010297622358465\tNot feasible\n",
      "Iteration\t Solution to check\tSolver Status\n",
      "---------\t------------------\t-------------\n",
      "        8\t0.0005473913269229\tOptimal\n",
      "        3\t0.0383050089154335\tNot feasible\n",
      "        9\t0.0008210869903843\tOptimal\n",
      "       10\t0.0009579348221150\tOptimal\n",
      "       11\t0.0010263587379804\tOptimal\n",
      "       12\t0.0010605706959131\tOptimal\n",
      "       16\t0.0010120077145388\tNot feasible\n",
      "       13\t0.0010776766748794\tNot feasible\n",
      "       14\t0.0010691236853962\tNot feasible\n",
      "       15\t0.0010648471906546\tNot feasible\n",
      "       16\t0.0010627089432839\tNot feasible\n",
      "       17\t0.0010616398195985\tNot feasible\n",
      "       18\t0.0010611052577558\tOptimal\n",
      "Solution for Neisseria_mucosa_ATCC_25996 : 0.0010611052577557591\n"
     ]
    },
    {
     "name": "stderr",
     "output_type": "stream",
     "text": [
      "Building (4 threads):   8%|█████▎                                                               | 38/494 [44:33<10:26:06, 82.38s/it]"
     ]
    },
    {
     "name": "stdout",
     "output_type": "stream",
     "text": [
      "       17\t0.0010031304538849\tNot feasible\n",
      "Loading Acinetobacter_lwoffii_WJ10621\n",
      "Read LP format model from file /tmp/tmpa2xuf4hy.lp\n",
      "Reading time = 0.00 seconds\n",
      ": 0 rows, 0 columns, 0 nonzeros\n",
      "        4\t0.0191525044577167\tNot feasible\n",
      "       18\t0.0009986918235580\tNot feasible\n",
      "       19\t0.0009964725083945\tNot feasible\n",
      "       20\t0.0009953628508128\tNot feasible\n",
      "       21\t0.0009948080220219\tNot feasible\n",
      "Solution for Clostridium_saccharoperbutylacetonicum_N1_4_HMT : 0.000994253193231058\n"
     ]
    },
    {
     "name": "stderr",
     "output_type": "stream",
     "text": [
      "Building (4 threads):   8%|█████▌                                                                | 39/494 [45:18<8:59:09, 71.10s/it]"
     ]
    },
    {
     "name": "stdout",
     "output_type": "stream",
     "text": [
      "Loading Bacillus_pumilus_ATCC_7061\n",
      "Read LP format model from file /tmp/tmpku1r46dd.lp\n",
      "Reading time = 0.00 seconds\n",
      ": 0 rows, 0 columns, 0 nonzeros\n",
      "Read LP format model from file /tmp/tmpdiveuq1s.lp\n",
      "Reading time = 0.02 seconds\n",
      ": 1149 rows, 2712 columns, 11852 nonzeros\n",
      "        1\t0.3022273025322681\tNot feasible\n",
      "        5\t0.0095762522288584\tOptimal\n",
      "        6\t0.0143643783432876\tNot feasible\n",
      "        7\t0.0119703152860730\tNot feasible\n",
      "        8\t0.0107732837574657\tNot feasible\n",
      "        9\t0.0101747679931620\tNot feasible\n",
      "       10\t0.0098755101110102\tNot feasible\n",
      "       11\t0.0097258811699343\tNot feasible\n",
      "       12\t0.0096510666993963\tNot feasible\n",
      "       13\t0.0096136594641273\tNot feasible\n",
      "       14\t0.0095949558464929\tNot feasible\n",
      "       15\t0.0095856040376756\tNot feasible\n",
      "       16\t0.0095809281332670\tNot feasible\n",
      "       17\t0.0095785901810627\tNot feasible\n",
      "       18\t0.0095774212049605\tNot feasible\n",
      "       19\t0.0095768367169094\tNot feasible\n",
      "Solution for Anaerostipes_sp_3_2_56FAA : 0.00957625222885837\n"
     ]
    },
    {
     "name": "stderr",
     "output_type": "stream",
     "text": [
      "Building (4 threads):   8%|█████▋                                                                | 40/494 [46:06<8:05:21, 64.14s/it]"
     ]
    },
    {
     "name": "stdout",
     "output_type": "stream",
     "text": [
      "Loading Prevotella_copri_CB7_DSM_18205\n",
      "Read LP format model from file /tmp/tmpclpx3_a_.lp\n",
      "Reading time = 0.00 seconds\n",
      ": 0 rows, 0 columns, 0 nonzeros\n",
      "Read LP format model from file /tmp/tmpo9ur4a4m.lp\n",
      "Reading time = 0.02 seconds\n",
      ": 1265 rows, 3108 columns, 13590 nonzeros\n",
      "Read LP format model from file /tmp/tmpsnpgtqji.lp\n",
      "Reading time = 0.00 seconds\n",
      ": 1163 rows, 2710 columns, 11682 nonzeros\n",
      "Iteration\t Solution to check\tSolver Status\n",
      "---------\t------------------\t-------------\n",
      "        2\t0.1511136512661341\tNot feasible\n",
      "Read LP format model from file /tmp/tmpbtin1_5j.lp\n",
      "Reading time = 0.00 seconds\n",
      ": 1281 rows, 3106 columns, 13390 nonzeros\n",
      "Read LP format model from file /tmp/tmpzu7qaae9.lp\n",
      "Reading time = 0.02 seconds\n",
      ": 878 rows, 1920 columns, 8226 nonzeros\n",
      "Iteration\t Solution to check\tSolver Status\n",
      "---------\t------------------\t-------------\n",
      "        1\t0.0104622451404856\tNot feasible\n",
      "        3\t0.0755568256330670\tNot feasible\n",
      "        2\t0.0052311225702428\tNot feasible\n",
      "Read LP format model from file /tmp/tmpnh50q_sz.lp\n",
      "Reading time = 0.00 seconds\n",
      ": 903 rows, 1918 columns, 8106 nonzeros\n",
      "        1\t0.3770696055960264\tNot feasible\n",
      "Iteration\t Solution to check\tSolver Status\n",
      "---------\t------------------\t-------------\n",
      "        4\t0.0377784128165335\tNot feasible\n",
      "        3\t0.0026155612851214\tNot feasible\n",
      "        4\t0.0013077806425607\tNot feasible\n",
      "        1\t0.0506182125447688\tOptimal\n",
      "        2\t0.0759273188171531\tOptimal\n",
      "        3\t0.0885818719533453\tNot feasible\n",
      "        4\t0.0822545953852492\tNot feasible\n",
      "        5\t0.0188892064082668\tNot feasible\n",
      "        5\t0.0790909571012012\tOptimal\n",
      "        6\t0.0806727762432252\tNot feasible\n",
      "        7\t0.0798818666722132\tOptimal\n",
      "        8\t0.0802773214577192\tOptimal\n",
      "        9\t0.0804750488504722\tNot feasible\n",
      "       10\t0.0803761851540957\tOptimal\n",
      "       11\t0.0804256170022840\tOptimal\n",
      "       12\t0.0804503329263781\tNot feasible\n",
      "       13\t0.0804379749643310\tNot feasible\n",
      "        5\t0.0006538903212804\tOptimal\n",
      "       14\t0.0804317959833075\tOptimal\n",
      "       15\t0.0804348854738193\tNot feasible\n",
      "        6\t0.0009808354819205\tOptimal\n",
      "       16\t0.0804333407285634\tOptimal\n",
      "        2\t0.1885348027980132\tNot feasible\n",
      "        7\t0.0011443080622406\tNot feasible\n",
      "       17\t0.0804341131011913\tNot feasible\n",
      "Solution for Prevotella_copri_CB7_DSM_18205 : 0.08043334072856337\n"
     ]
    },
    {
     "name": "stderr",
     "output_type": "stream",
     "text": [
      "Building (4 threads):   8%|█████▋                                                              | 41/494 [50:01<14:32:08, 115.52s/it]"
     ]
    },
    {
     "name": "stdout",
     "output_type": "stream",
     "text": [
      "Loading Dialister_invisus_DSM_15470\n",
      "Read LP format model from file /tmp/tmp97nqysr3.lp\n",
      "Reading time = 0.00 seconds\n",
      ": 0 rows, 0 columns, 0 nonzeros\n",
      "        8\t0.0010625717720806\tOptimal\n",
      "        9\t0.0011034399171606\tOptimal\n",
      "       10\t0.0011238739897006\tNot feasible\n",
      "       11\t0.0011136569534306\tOptimal\n",
      "       12\t0.0011187654715656\tNot feasible\n",
      "        6\t0.0094446032041334\tOptimal\n",
      "       13\t0.0011162112124981\tNot feasible\n",
      "       14\t0.0011149340829643\tOptimal\n",
      "       15\t0.0011155726477312\tNot feasible\n",
      "Solution for Acinetobacter_lwoffii_WJ10621 : 0.0011149340829643476\n",
      "        7\t0.0141669048062001\tNot feasible\n"
     ]
    },
    {
     "name": "stderr",
     "output_type": "stream",
     "text": [
      "Building (4 threads):   9%|█████▊                                                               | 42/494 [50:20<10:51:33, 86.49s/it]"
     ]
    },
    {
     "name": "stdout",
     "output_type": "stream",
     "text": [
      "Loading Methylobacterium_mesophilicum_SR1_6_6\n",
      "        8\t0.0118057540051667\tNot feasible\n",
      "Read LP format model from file /tmp/tmpstfqaka8.lp\n",
      "Reading time = 0.00 seconds\n",
      ": 0 rows, 0 columns, 0 nonzeros\n",
      "        9\t0.0106251786046501\tNot feasible\n",
      "       10\t0.0100348909043917\tNot feasible\n",
      "       11\t0.0097397470542625\tNot feasible\n",
      "       12\t0.0095921751291980\tNot feasible\n",
      "       13\t0.0095183891666657\tNot feasible\n",
      "       14\t0.0094814961853995\tNot feasible\n",
      "       15\t0.0094630496947665\tNot feasible\n",
      "       16\t0.0094538264494499\tNot feasible\n",
      "       17\t0.0094492148267916\tNot feasible\n",
      "       18\t0.0094469090154625\tNot feasible\n",
      "       19\t0.0094457561097979\tNot feasible\n",
      "       20\t0.0094451796569657\tNot feasible\n",
      "Solution for Providencia_rettgeri_DSM_1131 : 0.00944460320413338\n"
     ]
    },
    {
     "name": "stderr",
     "output_type": "stream",
     "text": [
      "Building (4 threads):   9%|██████                                                                | 43/494 [50:37<8:13:27, 65.65s/it]"
     ]
    },
    {
     "name": "stdout",
     "output_type": "stream",
     "text": [
      "Loading Leuconostoc_argentinum_KCTC_3773\n",
      "Read LP format model from file /tmp/tmpdble_p9f.lp\n",
      "Reading time = 0.00 seconds\n",
      ": 0 rows, 0 columns, 0 nonzeros\n",
      "Read LP format model from file /tmp/tmpt88il5pp.lp\n",
      "Reading time = 0.02 seconds\n",
      ": 902 rows, 1928 columns, 8362 nonzeros\n",
      "        3\t0.0942674013990066\tNot feasible\n",
      "Read LP format model from file /tmp/tmp2pptzcj1.lp\n",
      "Reading time = 0.00 seconds\n",
      ": 923 rows, 1926 columns, 8192 nonzeros\n",
      "Iteration\t Solution to check\tSolver Status\n",
      "---------\t------------------\t-------------\n",
      "Read LP format model from file /tmp/tmpt9euhgpq.lp\n",
      "Reading time = 0.02 seconds\n",
      ": 1005 rows, 2272 columns, 9748 nonzeros\n",
      "        1\t0.0812224234833819\tNot feasible\n",
      "        4\t0.0471337006995033\tNot feasible\n",
      "        2\t0.0406112117416910\tNot feasible\n",
      "        3\t0.0203056058708455\tNot feasible\n",
      "Read LP format model from file /tmp/tmpc1gxcscg.lp\n",
      "Reading time = 0.02 seconds\n",
      ": 1358 rows, 3244 columns, 14094 nonzeros\n",
      "        4\t0.0101528029354227\tNot feasible\n",
      "        5\t0.0050764014677114\tNot feasible\n",
      "Read LP format model from file /tmp/tmpgjwff3ci.lp\n",
      "Reading time = 0.00 seconds\n",
      ": 1021 rows, 2270 columns, 9548 nonzeros\n",
      "        6\t0.0025382007338557\tNot feasible\n",
      "Iteration\t Solution to check\tSolver Status\n",
      "---------\t------------------\t-------------\n",
      "Read LP format model from file /tmp/tmp0eoq9543.lp\n",
      "Reading time = 0.00 seconds\n",
      ": 1370 rows, 3242 columns, 13924 nonzeros\n",
      "        7\t0.0012691003669278\tOptimal\n",
      "        8\t0.0019036505503918\tOptimal\n",
      "        9\t0.0022209256421237\tOptimal\n",
      "       10\t0.0023795631879897\tNot feasible\n",
      "       11\t0.0023002444150567\tNot feasible\n",
      "        5\t0.0235668503497517\tNot feasible\n",
      "       12\t0.0022605850285902\tNot feasible\n",
      "       13\t0.0022407553353570\tNot feasible\n",
      "       14\t0.0022308404887403\tOptimal\n",
      "       15\t0.0022357979120487\tOptimal\n",
      "       16\t0.0022382766237028\tOptimal\n",
      "       17\t0.0022395159795299\tNot feasible\n",
      "       18\t0.0022388963016164\tNot feasible\n",
      "Solution for Dialister_invisus_DSM_15470 : 0.002238276623702815\n"
     ]
    },
    {
     "name": "stderr",
     "output_type": "stream",
     "text": [
      "Building (4 threads):   9%|██████▏                                                              | 44/494 [52:38<10:16:41, 82.23s/it]"
     ]
    },
    {
     "name": "stdout",
     "output_type": "stream",
     "text": [
      "Loading Parabacteroides_distasonis_ATCC_8503\n",
      "Read LP format model from file /tmp/tmp8v72h_4t.lp\n",
      "Reading time = 0.00 seconds\n",
      ": 0 rows, 0 columns, 0 nonzeros\n",
      "Iteration\t Solution to check\tSolver Status\n",
      "---------\t------------------\t-------------\n",
      "        1\t0.1616382035786270\tNot feasible\n",
      "        2\t0.0808191017893135\tNot feasible\n",
      "        3\t0.0404095508946568\tNot feasible\n",
      "        4\t0.0202047754473284\tNot feasible\n",
      "        6\t0.0117834251748758\tNot feasible\n",
      "        5\t0.0101023877236642\tNot feasible\n",
      "        6\t0.0050511938618321\tNot feasible\n",
      "Read LP format model from file /tmp/tmpjmimj_sd.lp\n",
      "Reading time = 0.02 seconds\n",
      ": 1164 rows, 2740 columns, 11836 nonzeros\n",
      "        7\t0.0025255969309160\tNot feasible\n",
      "Read LP format model from file /tmp/tmpszqj7th3.lp\n",
      "Reading time = 0.00 seconds\n",
      ": 1189 rows, 2738 columns, 11666 nonzeros\n",
      "        8\t0.0012627984654580\tNot feasible\n",
      "Iteration\t Solution to check\tSolver Status\n",
      "---------\t------------------\t-------------\n",
      "        7\t0.0058917125874379\tNot feasible\n",
      "        9\t0.0006313992327290\tOptimal\n",
      "       10\t0.0009470988490935\tOptimal\n",
      "       11\t0.0011049486572758\tOptimal\n",
      "       12\t0.0011838735613669\tOptimal\n",
      "       13\t0.0012233360134125\tOptimal\n",
      "       14\t0.0012430672394352\tOptimal\n",
      "       15\t0.0012529328524466\tOptimal\n",
      "       16\t0.0012578656589523\tNot feasible\n",
      "       17\t0.0012553992556995\tOptimal\n",
      "       18\t0.0012566324573259\tOptimal\n",
      "       19\t0.0012572490581391\tOptimal\n",
      "Solution for Leuconostoc_argentinum_KCTC_3773 : 0.0012572490581391161\n"
     ]
    },
    {
     "name": "stderr",
     "output_type": "stream",
     "text": [
      "Building (4 threads):   9%|██████▎                                                              | 45/494 [54:40<11:43:27, 94.00s/it]"
     ]
    },
    {
     "name": "stdout",
     "output_type": "stream",
     "text": [
      "Loading Holdemania_filiformis_VPI_J1_31B_1_DSM_12042\n",
      "Read LP format model from file /tmp/tmppjcaijxi.lp\n",
      "Reading time = 0.00 seconds\n",
      ": 0 rows, 0 columns, 0 nonzeros\n",
      "        1\t0.3276513085895907\tOptimal\n",
      "        2\t0.4914769628843860\tNot feasible\n",
      "        3\t0.4095641357369884\tNot feasible\n",
      "        4\t0.3686077221632895\tOptimal\n",
      "        5\t0.3890859289501389\tOptimal\n",
      "        8\t0.0029458562937190\tNot feasible\n",
      "        6\t0.3993250323435636\tOptimal\n",
      "        7\t0.4044445840402760\tNot feasible\n",
      "        8\t0.4018848081919199\tOptimal\n",
      "Read LP format model from file /tmp/tmpnvd8hksy.lp\n",
      "Reading time = 0.02 seconds\n",
      ": 818 rows, 1722 columns, 7256 nonzeros\n",
      "        9\t0.4031646961160980\tNot feasible\n",
      "       10\t0.4025247521540089\tOptimal\n",
      "       11\t0.4028447241350535\tOptimal\n",
      "       12\t0.4030047101255757\tOptimal\n",
      "        1\t0.4656067570791407\tNot feasible\n",
      "       13\t0.4030847031208368\tNot feasible\n",
      "       14\t0.4030447066232062\tOptimal\n",
      "       15\t0.4030647048720215\tOptimal\n",
      "       16\t0.4030747039964292\tOptimal\n",
      "       17\t0.4030797035586330\tOptimal\n",
      "Read LP format model from file /tmp/tmppvlz9_fl.lp\n",
      "Reading time = 0.00 seconds\n",
      ": 820 rows, 1720 columns, 7136 nonzeros\n",
      "       18\t0.4030822033397349\tOptimal\n",
      "       19\t0.4030834532302858\tOptimal\n",
      "       20\t0.4030840781755614\tNot feasible\n",
      "Solution for Parabacteroides_distasonis_ATCC_8503 : 0.4030834532302858\n"
     ]
    },
    {
     "name": "stderr",
     "output_type": "stream",
     "text": [
      "Building (4 threads):   9%|██████▍                                                              | 46/494 [55:49<10:46:35, 86.60s/it]"
     ]
    },
    {
     "name": "stdout",
     "output_type": "stream",
     "text": [
      "Loading Enterococcus_dispar_ATCC_51266\n",
      "Read LP format model from file /tmp/tmpkko7x6y3.lp\n",
      "Reading time = 0.00 seconds\n",
      ": 0 rows, 0 columns, 0 nonzeros\n",
      "Iteration\t Solution to check\tSolver Status\n",
      "---------\t------------------\t-------------\n",
      "        1\t0.1856814023079179\tNot feasible\n",
      "        2\t0.2328033785395703\tNot feasible\n",
      "        2\t0.0928407011539589\tOptimal\n",
      "        9\t0.0014729281468595\tOptimal\n",
      "        3\t0.1392610517309384\tOptimal\n",
      "        4\t0.1624712270194281\tNot feasible\n",
      "       10\t0.0022093922202892\tNot feasible\n",
      "        5\t0.1508661393751833\tOptimal\n",
      "        6\t0.1566686831973057\tNot feasible\n",
      "        7\t0.1537674112862445\tOptimal\n",
      "       11\t0.0018411601835743\tNot feasible\n",
      "        8\t0.1552180472417751\tOptimal\n",
      "        9\t0.1559433652195404\tOptimal\n",
      "       10\t0.1563060242084230\tOptimal\n",
      "       12\t0.0016570441652169\tNot feasible\n",
      "       11\t0.1564873537028644\tOptimal\n",
      "       12\t0.1565780184500850\tNot feasible\n",
      "       13\t0.0015649861560382\tNot feasible\n",
      "       13\t0.1565326860764747\tOptimal\n",
      "       14\t0.1565553522632799\tOptimal\n",
      "       15\t0.1565666853566824\tNot feasible\n",
      "       14\t0.0015189571514488\tNot feasible\n",
      "       16\t0.1565610188099812\tNot feasible\n",
      "       17\t0.1565581855366305\tNot feasible\n",
      "       15\t0.0014959426491542\tNot feasible\n",
      "       18\t0.1565567688999552\tOptimal\n",
      "       19\t0.1565574772182929\tNot feasible\n",
      "Solution for Holdemania_filiformis_VPI_J1_31B_1_DSM_12042 : 0.1565567688999552\n"
     ]
    },
    {
     "name": "stderr",
     "output_type": "stream",
     "text": [
      "Building (4 threads):  10%|██████▋                                                               | 47/494 [56:51<9:50:45, 79.30s/it]"
     ]
    },
    {
     "name": "stdout",
     "output_type": "stream",
     "text": [
      "Read LP format model from file /tmp/tmp46gr0iwk.lp\n",
      ": 1089 rows, 2540 columns, 10956 nonzeros\n",
      "Reading time = 0.08 seconds\n",
      "Loading Bacteroides_coprocola_M16_DSM_17136\n",
      "       16\t0.0014844353980068\tNot feasible\n",
      "Read LP format model from file /tmp/tmp4gn9aq5w.lp\n",
      "Reading time = 0.00 seconds\n",
      ": 0 rows, 0 columns, 0 nonzeros\n",
      "       17\t0.0014786817724331\tNot feasible\n",
      "       18\t0.0014758049596463\tNot feasible\n",
      "       19\t0.0014743665532529\tNot feasible\n",
      "       20\t0.0014736473500562\tNot feasible\n",
      "Solution for Bacillus_pumilus_ATCC_7061 : 0.0014729281468594782\n"
     ]
    },
    {
     "name": "stderr",
     "output_type": "stream",
     "text": [
      "Building (4 threads):  10%|██████▊                                                               | 48/494 [57:05<7:23:27, 59.66s/it]"
     ]
    },
    {
     "name": "stdout",
     "output_type": "stream",
     "text": [
      "        3\t0.1164016892697852\tNot feasible\n",
      "Loading Lactobacillus_delbrueckii_subsp_bulgaricus_ATCC_BAA_365\n",
      "Read LP format model from file /tmp/tmp4j2fftpn.lp\n",
      "Reading time = 0.00 seconds\n",
      ": 0 rows, 0 columns, 0 nonzeros\n",
      "Read LP format model from file /tmp/tmp7vab49n3.lp\n",
      "Reading time = 0.00 seconds\n",
      ": 1102 rows, 2538 columns, 10756 nonzeros\n",
      "Iteration\t Solution to check\tSolver Status\n",
      "---------\t------------------\t-------------\n",
      "Read LP format model from file /tmp/tmpcaim428o.lp\n",
      "Reading time = 0.02 seconds\n",
      ": 983 rows, 2200 columns, 9340 nonzeros\n",
      "Read LP format model from file /tmp/tmpa0uq9v0b.lp\n",
      "Reading time = 0.02 seconds\n",
      ": 784 rows, 1646 columns, 7082 nonzeros\n",
      "        4\t0.0582008446348926\tNot feasible\n",
      "Read LP format model from file /tmp/tmpdhow3g9t.lp\n",
      "Reading time = 0.00 seconds\n",
      ": 1008 rows, 2198 columns, 9218 nonzeros\n",
      "Read LP format model from file /tmp/tmp3du65lae.lp\n",
      "Reading time = 0.00 seconds\n",
      ": 806 rows, 1644 columns, 6962 nonzeros\n",
      "Iteration\t Solution to check\tSolver Status\n",
      "---------\t------------------\t-------------\n",
      "        1\t0.3718458526912898\tNot feasible\n",
      "Iteration\t Solution to check\tSolver Status\n",
      "---------\t------------------\t-------------\n",
      "        1\t0.0252873322606614\tNot feasible\n",
      "        2\t0.1859229263456449\tNot feasible\n",
      "        1\t0.0569681843327761\tOptimal\n",
      "        2\t0.0126436661303307\tNot feasible\n",
      "        2\t0.0854522764991641\tNot feasible\n",
      "        3\t0.0712102304159701\tOptimal\n",
      "        4\t0.0783312534575671\tNot feasible\n",
      "        5\t0.0747707419367686\tNot feasible\n",
      "        6\t0.0729904861763694\tOptimal\n",
      "        7\t0.0738806140565690\tOptimal\n",
      "        3\t0.0063218330651654\tNot feasible\n",
      "        8\t0.0743256779966688\tNot feasible\n",
      "        9\t0.0741031460266189\tOptimal\n",
      "       10\t0.0742144120116439\tOptimal\n",
      "       11\t0.0742700450041563\tOptimal\n",
      "       12\t0.0742978615004126\tNot feasible\n",
      "       13\t0.0742839532522845\tNot feasible\n",
      "       14\t0.0742769991282204\tNot feasible\n",
      "       15\t0.0742735220661884\tOptimal\n",
      "       16\t0.0742752605972044\tNot feasible\n",
      "       17\t0.0742743913316964\tOptimal\n",
      "Solution for Bacteroides_coprocola_M16_DSM_17136 : 0.07427439133169639\n"
     ]
    },
    {
     "name": "stderr",
     "output_type": "stream",
     "text": [
      "Building (4 threads):  10%|██████▉                                                               | 49/494 [58:58<9:20:32, 75.58s/it]"
     ]
    },
    {
     "name": "stdout",
     "output_type": "stream",
     "text": [
      "        4\t0.0031609165325827\tNot feasible\n",
      "Loading Fusobacterium_sp_4_8\n",
      "Read LP format model from file /tmp/tmpnwszc91t.lp\n",
      "Reading time = 0.00 seconds\n",
      ": 0 rows, 0 columns, 0 nonzeros\n",
      "        3\t0.0929614631728224\tNot feasible\n",
      "        5\t0.0015804582662913\tNot feasible\n",
      "        5\t0.0291004223174463\tNot feasible\n",
      "        6\t0.0007902291331457\tOptimal\n",
      "        7\t0.0011853436997185\tOptimal\n",
      "        8\t0.0013829009830049\tNot feasible\n",
      "        9\t0.0012841223413617\tOptimal\n",
      "       10\t0.0013335116621833\tOptimal\n",
      "       11\t0.0013582063225941\tNot feasible\n",
      "       12\t0.0013458589923887\tNot feasible\n",
      "       13\t0.0013396853272860\tOptimal\n",
      "       14\t0.0013427721598374\tNot feasible\n",
      "       15\t0.0013412287435617\tOptimal\n",
      "       16\t0.0013420004516995\tNot feasible\n",
      "Solution for Lactobacillus_delbrueckii_subsp_bulgaricus_ATCC_BAA_365 : 0.001341228743561693\n"
     ]
    },
    {
     "name": "stderr",
     "output_type": "stream",
     "text": [
      "Building (4 threads):  10%|███████                                                               | 50/494 [59:26<7:35:19, 61.53s/it]"
     ]
    },
    {
     "name": "stdout",
     "output_type": "stream",
     "text": [
      "Loading Gemella_sanguinis_M325\n",
      "        4\t0.0464807315864112\tNot feasible\n",
      "Read LP format model from file /tmp/tmpry2bgz33.lp\n",
      "Reading time = 0.00 seconds\n",
      ": 0 rows, 0 columns, 0 nonzeros\n",
      "Read LP format model from file /tmp/tmpwj0d27jd.lp\n",
      "Reading time = 0.02 seconds\n",
      ": 921 rows, 2006 columns, 8554 nonzeros\n",
      "        6\t0.0145502111587231\tNot feasible\n",
      "        5\t0.0232403657932056\tNot feasible\n",
      "Read LP format model from file /tmp/tmpv_0zlc6u.lp\n",
      "Reading time = 0.00 seconds\n",
      ": 946 rows, 2004 columns, 8384 nonzeros\n",
      "Read LP format model from file /tmp/tmpv_ck0gi4.lp\n",
      "Reading time = 0.02 seconds\n",
      ": 871 rows, 1918 columns, 8184 nonzeros\n",
      "Iteration\t Solution to check\tSolver Status\n",
      "---------\t------------------\t-------------\n",
      "        6\t0.0116201828966028\tNot feasible\n",
      "Read LP format model from file /tmp/tmp2wbey5jv.lp\n",
      "Reading time = 0.00 seconds\n",
      ": 872 rows, 1916 columns, 7984 nonzeros\n",
      "        1\t0.0615420667337812\tNot feasible\n",
      "        7\t0.0072751055793616\tNot feasible\n",
      "Iteration\t Solution to check\tSolver Status\n",
      "---------\t------------------\t-------------\n",
      "        2\t0.0307710333668906\tNot feasible\n",
      "        3\t0.0153855166834453\tNot feasible\n",
      "        7\t0.0058100914483014\tNot feasible\n",
      "        1\t0.1989635494589250\tNot feasible\n",
      "        4\t0.0076927583417226\tNot feasible\n",
      "        2\t0.0994817747294625\tNot feasible\n",
      "        5\t0.0038463791708613\tNot feasible\n",
      "        3\t0.0497408873647313\tNot feasible\n",
      "        8\t0.0029050457241507\tOptimal\n",
      "        8\t0.0036375527896808\tNot feasible\n",
      "        6\t0.0019231895854307\tOptimal\n",
      "        7\t0.0028847843781460\tNot feasible\n",
      "        9\t0.0043575685862261\tOptimal\n",
      "        8\t0.0024039869817883\tNot feasible\n",
      "        9\t0.0021635882836095\tNot feasible\n",
      "        4\t0.0248704436823656\tOptimal\n",
      "       10\t0.0020433889345201\tOptimal\n",
      "        5\t0.0373056655235484\tNot feasible\n",
      "       11\t0.0021034886090648\tOptimal\n",
      "        6\t0.0310880546029570\tNot feasible\n",
      "       12\t0.0021335384463371\tOptimal\n",
      "       13\t0.0021485633649733\tOptimal\n",
      "       10\t0.0050838300172637\tNot feasible\n",
      "        7\t0.0279792491426613\tNot feasible\n",
      "       14\t0.0021560758242914\tOptimal\n",
      "        8\t0.0264248464125135\tOptimal\n",
      "       15\t0.0021598320539505\tOptimal\n",
      "       16\t0.0021617101687800\tOptimal\n",
      "        9\t0.0272020477775874\tNot feasible\n",
      "       17\t0.0021626492261947\tNot feasible\n",
      "Solution for Fusobacterium_sp_4_8 : 0.0021617101687799725\n"
     ]
    },
    {
     "name": "stderr",
     "output_type": "stream",
     "text": [
      "Building (4 threads):  10%|██████▉                                                            | 51/494 [1:01:40<10:13:08, 83.04s/it]"
     ]
    },
    {
     "name": "stdout",
     "output_type": "stream",
     "text": [
      "Loading Ruminococcus_sp_5_1_39BFAA\n",
      "       10\t0.0268134470950504\tNot feasible\n",
      "Read LP format model from file /tmp/tmpapb0c5ea.lp\n",
      "Reading time = 0.00 seconds\n",
      ": 0 rows, 0 columns, 0 nonzeros\n",
      "       11\t0.0266191467537820\tOptimal\n",
      "       11\t0.0047206993017449\tNot feasible\n",
      "       12\t0.0267162969244162\tOptimal\n",
      "       13\t0.0267648720097333\tOptimal\n",
      "       14\t0.0267891595523919\tNot feasible\n",
      "       12\t0.0045391339439855\tNot feasible\n",
      "       15\t0.0267770157810626\tOptimal\n",
      "       16\t0.0267830876667272\tOptimal\n",
      "       17\t0.0267861236095596\tOptimal\n",
      "       18\t0.0267876415809757\tNot feasible\n",
      "       19\t0.0267868825952676\tOptimal\n",
      "Solution for Gemella_sanguinis_M325 : 0.026786882595267646\n"
     ]
    },
    {
     "name": "stderr",
     "output_type": "stream",
     "text": [
      "Building (4 threads):  11%|███████▏                                                            | 52/494 [1:01:54<7:40:58, 62.58s/it]"
     ]
    },
    {
     "name": "stdout",
     "output_type": "stream",
     "text": [
      "Loading Bradyrhizobium_elkanii_USDA_76\n",
      "       13\t0.0044483512651058\tNot feasible\n",
      "Read LP format model from file /tmp/tmpynki27on.lp\n",
      "Reading time = 0.00 seconds\n",
      ": 0 rows, 0 columns, 0 nonzeros\n",
      "Read LP format model from file /tmp/tmp78l8_gf6.lp\n",
      "Reading time = 0.00 seconds\n",
      ": 1375 rows, 3242 columns, 14320 nonzeros\n",
      "Read LP format model from file /tmp/tmpgwbcs2i8.lp\n",
      "Reading time = 0.00 seconds\n",
      ": 1385 rows, 3240 columns, 14150 nonzeros\n",
      "       14\t0.0044029599256659\tNot feasible\n",
      "        9\t0.0018187763948404\tNot feasible\n",
      "       15\t0.0043802642559460\tNot feasible\n",
      "       16\t0.0043689164210860\tNot feasible\n",
      "Iteration\t Solution to check\tSolver Status\n",
      "---------\t------------------\t-------------\n",
      "       17\t0.0043632425036560\tNot feasible\n",
      "       18\t0.0043604055449410\tNot feasible\n",
      "       19\t0.0043589870655835\tNot feasible\n",
      "Read LP format model from file /tmp/tmpc40vllx3.lp\n",
      "Reading time = 0.02 seconds\n",
      ": 1005 rows, 2188 columns, 9468 nonzeros\n",
      "       20\t0.0043582778259048\tNot feasible\n",
      "Solution for Enterococcus_dispar_ATCC_51266 : 0.004357568586226052\n"
     ]
    },
    {
     "name": "stderr",
     "output_type": "stream",
     "text": [
      "Building (4 threads):  11%|███████▎                                                            | 53/494 [1:02:46<7:15:16, 59.22s/it]"
     ]
    },
    {
     "name": "stdout",
     "output_type": "stream",
     "text": [
      "Loading Erysipelotrichaceae_bacterium_sp_3_1_53\n",
      "Read LP format model from file /tmp/tmp15cuml58.lp\n",
      "Reading time = 0.00 seconds\n",
      ": 0 rows, 0 columns, 0 nonzeros\n",
      "       10\t0.0009093881974202\tOptimal\n",
      "       11\t0.0013640822961303\tNot feasible\n",
      "       12\t0.0011367352467752\tOptimal\n",
      "       13\t0.0012504087714528\tNot feasible\n",
      "Read LP format model from file /tmp/tmp_fkuoa2_.lp\n",
      "Reading time = 0.00 seconds\n",
      ": 1028 rows, 2186 columns, 9348 nonzeros\n",
      "       14\t0.0011935720091140\tNot feasible\n",
      "       15\t0.0011651536279446\tOptimal\n",
      "Iteration\t Solution to check\tSolver Status\n",
      "---------\t------------------\t-------------\n",
      "       16\t0.0011793628185293\tNot feasible\n",
      "       17\t0.0011722582232370\tOptimal\n",
      "       18\t0.0011758105208831\tOptimal\n",
      "       19\t0.0011775866697062\tNot feasible\n",
      "        1\t0.0438394602182169\tOptimal\n",
      "Read LP format model from file /tmp/tmpk55uhq7a.lp\n",
      "Reading time = 0.02 seconds\n",
      ": 975 rows, 2106 columns, 9016 nonzeros\n",
      "        2\t0.0657591903273254\tNot feasible\n",
      "        3\t0.0547993252727712\tNot feasible\n",
      "       20\t0.0011766985952947\tOptimal\n",
      "Solution for Methylobacterium_mesophilicum_SR1_6_6 : 0.001176698595294688\n"
     ]
    },
    {
     "name": "stderr",
     "output_type": "stream",
     "text": [
      "Building (4 threads):  11%|███████▍                                                            | 54/494 [1:03:54<7:34:39, 62.00s/it]"
     ]
    },
    {
     "name": "stdout",
     "output_type": "stream",
     "text": [
      "        4\t0.0493193927454941\tNot feasible\n",
      "Loading Yersinia_frederiksenii_ATCC_33641\n",
      "Read LP format model from file /tmp/tmp7pelhyam.lp\n",
      "Reading time = 0.00 seconds\n",
      ": 0 rows, 0 columns, 0 nonzeros\n",
      "        5\t0.0465794264818555\tOptimal\n",
      "        6\t0.0479494096136748\tOptimal\n",
      "        7\t0.0486344011795844\tNot feasible\n",
      "        8\t0.0482919053966296\tNot feasible\n",
      "        9\t0.0481206575051522\tOptimal\n",
      "       10\t0.0482062814508909\tNot feasible\n",
      "       11\t0.0481634694780216\tNot feasible\n",
      "       12\t0.0481420634915869\tOptimal\n",
      "       13\t0.0481527664848042\tOptimal\n",
      "       14\t0.0481581179814129\tNot feasible\n",
      "       15\t0.0481554422331086\tNot feasible\n",
      "       16\t0.0481541043589564\tOptimal\n",
      "       17\t0.0481547732960325\tNot feasible\n",
      "Solution for Ruminococcus_sp_5_1_39BFAA : 0.04815410435895638\n"
     ]
    },
    {
     "name": "stderr",
     "output_type": "stream",
     "text": [
      "Building (4 threads):  11%|███████▌                                                            | 55/494 [1:04:11<5:54:49, 48.50s/it]"
     ]
    },
    {
     "name": "stdout",
     "output_type": "stream",
     "text": [
      "Loading Enterococcus_casseliflavus_ATCC_12755\n",
      "Read LP format model from file /tmp/tmp8o835hzd.lp\n",
      "Reading time = 0.00 seconds\n",
      ": 0 rows, 0 columns, 0 nonzeros\n",
      "Read LP format model from file /tmp/tmp2ezbf7u_.lp\n",
      "Reading time = 0.00 seconds\n",
      ": 977 rows, 2104 columns, 8896 nonzeros\n",
      "Iteration\t Solution to check\tSolver Status\n",
      "---------\t------------------\t-------------\n",
      "        1\t0.0781867912644052\tNot feasible\n",
      "        2\t0.0390933956322026\tNot feasible\n",
      "Read LP format model from file /tmp/tmpt6626gu2.lp\n",
      "Reading time = 0.02 seconds\n",
      ": 1138 rows, 2634 columns, 11384 nonzeros\n",
      "Read LP format model from file /tmp/tmp4753s830.lp\n",
      "Reading time = 0.02 seconds\n",
      ": 1380 rows, 3496 columns, 15100 nonzeros\n",
      "        3\t0.0195466978161013\tNot feasible\n",
      "Read LP format model from file /tmp/tmpz05f3scw.lp\n",
      "Reading time = 0.00 seconds\n",
      ": 1152 rows, 2632 columns, 11184 nonzeros\n",
      "        4\t0.0097733489080506\tNot feasible\n",
      "Iteration\t Solution to check\tSolver Status\n",
      "---------\t------------------\t-------------\n",
      "Read LP format model from file /tmp/tmphivgms8_.lp\n",
      "Reading time = 0.00 seconds\n",
      ": 1405 rows, 3494 columns, 14930 nonzeros\n",
      "        5\t0.0048866744540253\tNot feasible\n",
      "Iteration\t Solution to check\tSolver Status\n",
      "---------\t------------------\t-------------\n",
      "        1\t0.2750875043511762\tNot feasible\n",
      "        6\t0.0024433372270127\tOptimal\n",
      "        7\t0.0036650058405190\tOptimal\n",
      "        8\t0.0042758401472722\tOptimal\n",
      "        9\t0.0045812573006487\tOptimal\n",
      "       10\t0.0047339658773370\tOptimal\n",
      "        2\t0.1375437521755881\tNot feasible\n",
      "        1\t0.2879448907811878\tNot feasible\n",
      "       11\t0.0048103201656812\tOptimal\n",
      "       12\t0.0048484973098533\tOptimal\n",
      "       13\t0.0048675858819393\tNot feasible\n",
      "       14\t0.0048580415958963\tNot feasible\n",
      "       15\t0.0048532694528748\tNot feasible\n",
      "        2\t0.1439724453905939\tNot feasible\n",
      "       16\t0.0048508833813640\tOptimal\n",
      "       17\t0.0048520764171194\tNot feasible\n",
      "       18\t0.0048514798992417\tNot feasible\n",
      "Solution for Erysipelotrichaceae_bacterium_sp_3_1_53 : 0.004850883381364007\n"
     ]
    },
    {
     "name": "stderr",
     "output_type": "stream",
     "text": [
      "Building (4 threads):  11%|███████▌                                                           | 56/494 [1:07:46<11:58:32, 98.43s/it]"
     ]
    },
    {
     "name": "stdout",
     "output_type": "stream",
     "text": [
      "Loading Actinomyces_turicensis_ACS_279_V_Col4\n",
      "Read LP format model from file /tmp/tmp3a7a18te.lp\n",
      "Reading time = 0.00 seconds\n",
      ": 0 rows, 0 columns, 0 nonzeros\n",
      "        3\t0.0719862226952969\tNot feasible\n",
      "        1\t0.5316597290723282\tNot feasible\n",
      "Read LP format model from file /tmp/tmp5hmcckft.lp\n",
      "Reading time = 0.02 seconds\n",
      ": 1005 rows, 2258 columns, 9706 nonzeros\n",
      "        4\t0.0359931113476485\tNot feasible\n",
      "Read LP format model from file /tmp/tmpu3r4ixnm.lp\n",
      "Reading time = 0.00 seconds\n",
      ": 1006 rows, 2256 columns, 9506 nonzeros\n",
      "        3\t0.0687718760877941\tNot feasible\n",
      "Iteration\t Solution to check\tSolver Status\n",
      "---------\t------------------\t-------------\n",
      "        5\t0.0179965556738242\tNot feasible\n",
      "        1\t0.2575517202638895\tNot feasible\n",
      "        2\t0.2658298645361641\tNot feasible\n",
      "        2\t0.1287758601319448\tNot feasible\n",
      "        6\t0.0089982778369121\tNot feasible\n",
      "        4\t0.0343859380438970\tNot feasible\n",
      "        3\t0.0643879300659724\tNot feasible\n",
      "        4\t0.0321939650329862\tNot feasible\n",
      "        5\t0.0160969825164931\tNot feasible\n",
      "        7\t0.0044991389184561\tNot feasible\n",
      "        6\t0.0080484912582465\tNot feasible\n",
      "        3\t0.1329149322680820\tNot feasible\n",
      "        7\t0.0040242456291233\tNot feasible\n",
      "        8\t0.0022495694592280\tNot feasible\n",
      "        8\t0.0020121228145616\tOptimal\n",
      "        9\t0.0030181842218425\tNot feasible\n",
      "        5\t0.0171929690219485\tNot feasible\n",
      "       10\t0.0025151535182020\tOptimal\n",
      "       11\t0.0027666688700223\tNot feasible\n",
      "       12\t0.0026409111941121\tNot feasible\n",
      "       13\t0.0025780323561571\tNot feasible\n",
      "       14\t0.0025465929371796\tNot feasible\n",
      "       15\t0.0025308732276908\tNot feasible\n",
      "       16\t0.0025230133729464\tNot feasible\n",
      "       17\t0.0025190834455742\tNot feasible\n",
      "       18\t0.0025171184818881\tNot feasible\n",
      "       19\t0.0025161360000451\tNot feasible\n",
      "Solution for Actinomyces_turicensis_ACS_279_V_Col4 : 0.002515153518202046\n"
     ]
    },
    {
     "name": "stderr",
     "output_type": "stream",
     "text": [
      "Building (4 threads):  12%|███████▌                                                          | 57/494 [1:11:20<16:09:26, 133.10s/it]"
     ]
    },
    {
     "name": "stdout",
     "output_type": "stream",
     "text": [
      "Loading Eikenella_corrodens_ATCC_23834\n",
      "Read LP format model from file /tmp/tmpx54n5n2g.lp\n",
      "Reading time = 0.00 seconds\n",
      ": 0 rows, 0 columns, 0 nonzeros\n",
      "        9\t0.0011247847296140\tOptimal\n",
      "       10\t0.0016871770944210\tNot feasible\n",
      "       11\t0.0014059809120175\tNot feasible\n",
      "        4\t0.0664574661340410\tNot feasible\n",
      "       12\t0.0012653828208158\tNot feasible\n",
      "Read LP format model from file /tmp/tmpfnxrx7ob.lp\n",
      "Reading time = 0.02 seconds\n",
      ": 980 rows, 2156 columns, 9364 nonzeros\n",
      "       13\t0.0011950837752149\tNot feasible\n",
      "        6\t0.0085964845109743\tNot feasible\n",
      "       14\t0.0011599342524145\tOptimal\n",
      "       15\t0.0011775090138147\tNot feasible\n",
      "Read LP format model from file /tmp/tmpwr8493gh.lp\n",
      "Reading time = 0.00 seconds\n",
      ": 1002 rows, 2154 columns, 9194 nonzeros\n",
      "Iteration\t Solution to check\tSolver Status\n",
      "---------\t------------------\t-------------\n",
      "       16\t0.0011687216331146\tOptimal\n",
      "       17\t0.0011731153234646\tOptimal\n",
      "        1\t0.0672669568929416\tNot feasible\n",
      "       18\t0.0011753121686396\tNot feasible\n",
      "       19\t0.0011742137460521\tNot feasible\n",
      "        5\t0.0332287330670205\tNot feasible\n",
      "       20\t0.0011736645347584\tNot feasible\n",
      "Solution for Enterococcus_casseliflavus_ATCC_12755 : 0.001173115323464617\n"
     ]
    },
    {
     "name": "stderr",
     "output_type": "stream",
     "text": [
      "Building (4 threads):  12%|███████▋                                                          | 58/494 [1:13:06<15:08:17, 124.99s/it]"
     ]
    },
    {
     "name": "stdout",
     "output_type": "stream",
     "text": [
      "Loading Bacteroides_faecis_MAJ27\n",
      "Read LP format model from file /tmp/tmpx0bwm_mu.lp\n",
      "Reading time = 0.00 seconds\n",
      ": 0 rows, 0 columns, 0 nonzeros\n",
      "        2\t0.0336334784464708\tNot feasible\n",
      "        7\t0.0042982422554871\tNot feasible\n",
      "        3\t0.0168167392232354\tNot feasible\n",
      "        4\t0.0084083696116177\tNot feasible\n"
     ]
    }
   ],
   "source": [
    "NP = min([4,len(run_for)])\n",
    "pool = mp.Pool(NP,maxtasksperchild=1)\n",
    "pbar = tqdm(total=len(run_for),position=0,leave=True)\n",
    "pbar.set_description('Building ({} threads)'.format(NP))\n",
    "def collect_result(result):\n",
    "    pbar.update(1)\n",
    "\n",
    "for org in run_for:\n",
    "    args = ([org])\n",
    "    pool.apply_async(run,args, callback=collect_result)\n",
    "pool.close()\n",
    "pool.join()"
   ]
  },
  {
   "cell_type": "code",
   "execution_count": null,
   "metadata": {},
   "outputs": [],
   "source": []
  }
 ],
 "metadata": {
  "kernelspec": {
   "display_name": "coralme",
   "language": "python",
   "name": "coralme"
  },
  "language_info": {
   "codemirror_mode": {
    "name": "ipython",
    "version": 3
   },
   "file_extension": ".py",
   "mimetype": "text/x-python",
   "name": "python",
   "nbconvert_exporter": "python",
   "pygments_lexer": "ipython3",
   "version": "3.10.12"
  }
 },
 "nbformat": 4,
 "nbformat_minor": 4
}
