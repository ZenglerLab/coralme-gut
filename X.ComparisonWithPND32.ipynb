{
 "cells": [
  {
   "cell_type": "code",
   "execution_count": 137,
   "metadata": {
    "ExecuteTime": {
     "end_time": "2023-01-23T02:32:11.189506Z",
     "start_time": "2023-01-23T02:32:10.314605Z"
    }
   },
   "outputs": [],
   "source": [
    "import glob\n",
    "import numpy\n",
    "import pandas\n",
    "import seaborn\n",
    "import matplotlib.pyplot as plt\n",
    "from tqdm import tqdm\n",
    "import multiprocessing as mp\n",
    "import os\n",
    "from build import build_model\n",
    "import coralme\n",
    "import re"
   ]
  },
  {
   "cell_type": "code",
   "execution_count": 138,
   "metadata": {
    "ExecuteTime": {
     "end_time": "2023-01-23T02:32:11.205572Z",
     "start_time": "2023-01-23T02:32:11.190971Z"
    }
   },
   "outputs": [
    {
     "data": {
      "text/html": [
       "<style>.container { width:95% !important; }</style>"
      ],
      "text/plain": [
       "<IPython.core.display.HTML object>"
      ]
     },
     "metadata": {},
     "output_type": "display_data"
    },
    {
     "name": "stdout",
     "output_type": "stream",
     "text": [
      "The autoreload extension is already loaded. To reload it, use:\n",
      "  %reload_ext autoreload\n"
     ]
    }
   ],
   "source": [
    "from IPython.display import display, HTML, Math, Markdown\n",
    "display(HTML(\"<style>.container { width:95% !important; }</style>\"))\n",
    "\n",
    "%load_ext autoreload\n",
    "%autoreload 2"
   ]
  },
  {
   "cell_type": "markdown",
   "metadata": {},
   "source": [
    "### Load data"
   ]
  },
  {
   "cell_type": "code",
   "execution_count": 160,
   "metadata": {
    "scrolled": true
   },
   "outputs": [],
   "source": [
    "data_exp = pandas.read_csv(\"./datasets/PND32_abundances.txt\",sep='\\t',index_col=0)\n",
    "data_pred = pandas.read_csv(\"./datasets/2.3.1.high_gamma_tail_scores.csv\",index_col=0)[[\"low_iron\"]]"
   ]
  },
  {
   "cell_type": "markdown",
   "metadata": {},
   "source": [
    "### Parse data"
   ]
  },
  {
   "cell_type": "code",
   "execution_count": 161,
   "metadata": {},
   "outputs": [],
   "source": [
    "def parse(x):\n",
    "    return float(re.findall(\"\\d\\.\\d{2,3}\",x)[0])\n",
    "data_exp = data_exp.applymap(lambda x:parse(x))"
   ]
  },
  {
   "cell_type": "code",
   "execution_count": 162,
   "metadata": {},
   "outputs": [],
   "source": [
    "high = (data_exp[\"ID\"] > data_exp[\"Control\"]) & (data_exp[\"pvalue\"] < 0.05)\n",
    "low = (data_exp[\"ID\"] < data_exp[\"Control\"]) & (data_exp[\"pvalue\"] < 0.05)"
   ]
  },
  {
   "cell_type": "markdown",
   "metadata": {},
   "source": [
    "### Make comparable"
   ]
  },
  {
   "cell_type": "code",
   "execution_count": 163,
   "metadata": {},
   "outputs": [],
   "source": [
    "dct = {}\n",
    "for i,row in data_exp.iterrows():\n",
    "    if high[i]:\n",
    "        dct[i] = 1\n",
    "    elif low[i]:\n",
    "        dct[i] = -1\n",
    "    else:\n",
    "        dct[i] = 0\n",
    "experimental = pandas.DataFrame.from_dict({\"experimental\":dct})\n",
    "# experimental = experimental[experimental[\"experimental\"] != 0]"
   ]
  },
  {
   "cell_type": "code",
   "execution_count": 164,
   "metadata": {},
   "outputs": [],
   "source": [
    "dct = {}\n",
    "for i,row in data_pred.iterrows():\n",
    "    if row[\"low_iron\"] > 0 :\n",
    "        dct[i] = 1\n",
    "    elif row[\"low_iron\"] < 0 :\n",
    "        dct[i] = -1\n",
    "    else:\n",
    "        dct[i] = 0\n",
    "predicted = pandas.DataFrame.from_dict({\"predicted\":dct})"
   ]
  },
  {
   "cell_type": "code",
   "execution_count": 165,
   "metadata": {},
   "outputs": [],
   "source": [
    "df = pandas.concat([predicted,experimental,data_exp,data_pred],axis=1).dropna()"
   ]
  },
  {
   "cell_type": "code",
   "execution_count": 166,
   "metadata": {},
   "outputs": [
    {
     "data": {
      "text/plain": [
       "(2, 4, 6, 16)"
      ]
     },
     "execution_count": 166,
     "metadata": {},
     "output_type": "execute_result"
    }
   ],
   "source": [
    "tp = df[(df[\"predicted\"] == 1.0) & (df[\"predicted\"] == df[\"experimental\"])].shape[0]\n",
    "tn = df[(df[\"predicted\"] == -1.0) & (df[\"predicted\"] == df[\"experimental\"])].shape[0]\n",
    "fp = df[(df[\"predicted\"] == 1.0) & (df[\"predicted\"] != df[\"experimental\"])].shape[0]\n",
    "fn = df[(df[\"predicted\"] == -1.0) & (df[\"predicted\"] != df[\"experimental\"])].shape[0]\n",
    "tp,tn,fp,fn"
   ]
  }
 ],
 "metadata": {
  "kernelspec": {
   "display_name": "coralme",
   "language": "python",
   "name": "coralme"
  },
  "language_info": {
   "codemirror_mode": {
    "name": "ipython",
    "version": 3
   },
   "file_extension": ".py",
   "mimetype": "text/x-python",
   "name": "python",
   "nbconvert_exporter": "python",
   "pygments_lexer": "ipython3",
   "version": "3.10.12"
  }
 },
 "nbformat": 4,
 "nbformat_minor": 4
}
