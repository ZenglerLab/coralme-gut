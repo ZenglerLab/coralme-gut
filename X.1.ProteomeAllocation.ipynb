{
 "cells": [
  {
   "cell_type": "code",
   "execution_count": null,
   "metadata": {
    "ExecuteTime": {
     "end_time": "2023-01-23T02:32:11.189506Z",
     "start_time": "2023-01-23T02:32:10.314605Z"
    }
   },
   "outputs": [],
   "source": [
    "import glob\n",
    "import numpy\n",
    "import pandas\n",
    "import seaborn\n",
    "import matplotlib.pyplot as plt\n",
    "from tqdm import tqdm\n",
    "import multiprocessing as mp\n",
    "import os\n",
    "from build import build_model\n",
    "import coralme"
   ]
  },
  {
   "cell_type": "code",
   "execution_count": null,
   "metadata": {
    "ExecuteTime": {
     "end_time": "2023-01-23T02:32:11.205572Z",
     "start_time": "2023-01-23T02:32:11.190971Z"
    }
   },
   "outputs": [],
   "source": [
    "from IPython.display import display, HTML, Math, Markdown\n",
    "display(HTML(\"<style>.container { width:95% !important; }</style>\"))\n",
    "\n",
    "%load_ext autoreload\n",
    "%autoreload 2"
   ]
  },
  {
   "cell_type": "code",
   "execution_count": null,
   "metadata": {},
   "outputs": [],
   "source": [
    "organisms = {i.split(\".gb\")[0] for i in os.listdir(\"./agora-models/genbank-mixed-ncbi-agora-sources/\")}\n",
    "len(organisms)"
   ]
  },
  {
   "cell_type": "code",
   "execution_count": null,
   "metadata": {},
   "outputs": [],
   "source": [
    "!bash report.sh\n",
    "step1 = set(pandas.read_csv(\"step1.txt\",index_col=0,header=None).index.to_list())\n",
    "step2 = set(pandas.read_csv(\"step2.txt\",index_col=0,header=None).index.to_list())\n",
    "try:\n",
    "    step3 = set(pandas.read_csv(\"step3.txt\",index_col=0,header=None).index.to_list())\n",
    "except:\n",
    "    step3 = set()\n",
    "no_overlap = set(pandas.read_csv(\"no_overlap.txt\",index_col=0,header=None).index.to_list())\n",
    "trna_issues = set(pandas.read_csv(\"trna_issues.txt\",index_col=0,header=None).index.to_list())\n",
    "trna_ts_issues = set(pandas.read_csv(\"trna_ts_issues.txt\",index_col=0,header=None).index.to_list())"
   ]
  },
  {
   "cell_type": "code",
   "execution_count": null,
   "metadata": {},
   "outputs": [],
   "source": [
    "model = models[\"Listeria_monocytogenes_SLCC_2540\"]"
   ]
  },
  {
   "cell_type": "code",
   "execution_count": null,
   "metadata": {},
   "outputs": [],
   "source": [
    "def get_partition(m):\n",
    "    df = flux_based_reactions(m._model,m.id)[\"met_flux\"]\n",
    "    df = df[df<0]\n",
    "    df = df/df.sum()\n",
    "    dct = df.to_dict()\n",
    "    return {model.get(r):flux for r,flux in dct.items()}"
   ]
  },
  {
   "cell_type": "code",
   "execution_count": null,
   "metadata": {},
   "outputs": [],
   "source": [
    "from allocation import get_allocation,get_subsystem,find_complexes"
   ]
  },
  {
   "cell_type": "code",
   "execution_count": null,
   "metadata": {
    "scrolled": true
   },
   "outputs": [],
   "source": [
    "dct = {}\n",
    "for m in tqdm(model.metabolites.query(\"^RNA_\")):\n",
    "    dct[m.id] = {i.id:j for i,j in find_complexes(m, seen = dict(),multiplier=1).items()}\n",
    "df = pandas.DataFrame.from_dict(dct).T"
   ]
  },
  {
   "cell_type": "code",
   "execution_count": null,
   "metadata": {},
   "outputs": [],
   "source": [
    "df.fillna(0)"
   ]
  }
 ],
 "metadata": {
  "kernelspec": {
   "display_name": "coralme",
   "language": "python",
   "name": "coralme"
  },
  "language_info": {
   "codemirror_mode": {
    "name": "ipython",
    "version": 3
   },
   "file_extension": ".py",
   "mimetype": "text/x-python",
   "name": "python",
   "nbconvert_exporter": "python",
   "pygments_lexer": "ipython3",
   "version": "3.10.12"
  }
 },
 "nbformat": 4,
 "nbformat_minor": 4
}
