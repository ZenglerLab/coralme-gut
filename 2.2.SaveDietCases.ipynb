{
 "cells": [
  {
   "cell_type": "code",
   "execution_count": 1,
   "metadata": {
    "ExecuteTime": {
     "end_time": "2023-01-23T02:32:11.189506Z",
     "start_time": "2023-01-23T02:32:10.314605Z"
    }
   },
   "outputs": [],
   "source": [
    "import glob\n",
    "import numpy\n",
    "import pandas\n",
    "import seaborn\n",
    "import matplotlib.pyplot as plt\n",
    "from tqdm import tqdm\n",
    "import multiprocessing as mp\n",
    "import os\n",
    "from build import build_model\n",
    "import coralme"
   ]
  },
  {
   "cell_type": "code",
   "execution_count": 2,
   "metadata": {
    "ExecuteTime": {
     "end_time": "2023-01-23T02:32:11.205572Z",
     "start_time": "2023-01-23T02:32:11.190971Z"
    }
   },
   "outputs": [
    {
     "data": {
      "text/html": [
       "<style>.container { width:95% !important; }</style>"
      ],
      "text/plain": [
       "<IPython.core.display.HTML object>"
      ]
     },
     "metadata": {},
     "output_type": "display_data"
    }
   ],
   "source": [
    "from IPython.display import display, HTML, Math, Markdown\n",
    "display(HTML(\"<style>.container { width:95% !important; }</style>\"))\n",
    "\n",
    "%load_ext autoreload\n",
    "%autoreload 2"
   ]
  },
  {
   "cell_type": "code",
   "execution_count": 3,
   "metadata": {
    "scrolled": true
   },
   "outputs": [],
   "source": [
    "# !bash report.sh\n",
    "organisms = set(pandas.read_csv(\"biomass_constrained.txt\",index_col=0,header=None).index.to_list())\n",
    "done = {i.split(\".csv\")[0] for i in os.listdir(\"./cases/fluxes/low_zinc/\")}"
   ]
  },
  {
   "cell_type": "code",
   "execution_count": 4,
   "metadata": {},
   "outputs": [
    {
     "data": {
      "text/plain": [
       "495"
      ]
     },
     "execution_count": 4,
     "metadata": {},
     "output_type": "execute_result"
    }
   ],
   "source": [
    "len(organisms)"
   ]
  },
  {
   "cell_type": "markdown",
   "metadata": {},
   "source": [
    "### Load"
   ]
  },
  {
   "cell_type": "code",
   "execution_count": 5,
   "metadata": {},
   "outputs": [],
   "source": [
    "def load_data(path):\n",
    "    try:\n",
    "        df = pandas.read_csv(path,index_col=0)[[\"fluxes\"]]\n",
    "    except:\n",
    "        df = pandas.DataFrame(columns=[\"fluxes\"])\n",
    "    df.columns = [org]\n",
    "    return df"
   ]
  },
  {
   "cell_type": "code",
   "execution_count": 6,
   "metadata": {},
   "outputs": [],
   "source": [
    "from tqdm import tqdm\n",
    "conditions = [\"base\",\"low_iron\",\"low_zinc\",\"mid_zinc\",\"high_FA\",\"high_carbs\",\"high_prot\",\"micro_oxygen\"]"
   ]
  },
  {
   "cell_type": "code",
   "execution_count": 7,
   "metadata": {},
   "outputs": [],
   "source": [
    "overflow = {i:pandas.DataFrame() for i in conditions}\n",
    "growth = {i:{} for i in conditions}"
   ]
  },
  {
   "cell_type": "code",
   "execution_count": 8,
   "metadata": {},
   "outputs": [
    {
     "name": "stderr",
     "output_type": "stream",
     "text": [
      "100%|████████████████████████████████████████| 497/497 [00:03<00:00, 136.65it/s]\n"
     ]
    }
   ],
   "source": [
    "for org in tqdm(organisms):\n",
    "    for c in conditions:\n",
    "        tmp = load_data(\"./cases/overflow/{}/{}.csv\".format(c,org))\n",
    "        overflow[c] = pandas.concat([overflow[c],tmp], axis=1).fillna(0)"
   ]
  },
  {
   "cell_type": "code",
   "execution_count": 8,
   "metadata": {},
   "outputs": [
    {
     "name": "stderr",
     "output_type": "stream",
     "text": [
      "100%|█████████████████████████████████████████████████████████████████████████████████████████████████████████████████████████████████████████████████████████████████████| 497/497 [01:33<00:00,  5.34it/s]\n"
     ]
    }
   ],
   "source": [
    "for org in tqdm(organisms):\n",
    "    for c in conditions:\n",
    "        tmp = load_data(\"./cases/fluxes/{}/{}.csv\".format(c,org))\n",
    "        if tmp.empty:\n",
    "            val = None\n",
    "        else:\n",
    "            val = tmp[org][\"biomass_dilution\"]\n",
    "        growth[c][org] = val\n",
    "growth = pandas.DataFrame.from_dict(growth)"
   ]
  },
  {
   "cell_type": "markdown",
   "metadata": {},
   "source": [
    "### Save"
   ]
  },
  {
   "cell_type": "code",
   "execution_count": 9,
   "metadata": {},
   "outputs": [],
   "source": [
    "growth.sort_index().to_csv(\"datasets/all_growth_rates.csv\")"
   ]
  },
  {
   "cell_type": "code",
   "execution_count": 11,
   "metadata": {},
   "outputs": [],
   "source": [
    "for c,df in overflow.items():\n",
    "    df.to_csv(\"datasets/2.3.2.{}_overflow.csv\".format(c))"
   ]
  },
  {
   "cell_type": "code",
   "execution_count": null,
   "metadata": {},
   "outputs": [],
   "source": []
  }
 ],
 "metadata": {
  "kernelspec": {
   "display_name": "coralme",
   "language": "python",
   "name": "coralme"
  },
  "language_info": {
   "codemirror_mode": {
    "name": "ipython",
    "version": 3
   },
   "file_extension": ".py",
   "mimetype": "text/x-python",
   "name": "python",
   "nbconvert_exporter": "python",
   "pygments_lexer": "ipython3",
   "version": "3.10.12"
  }
 },
 "nbformat": 4,
 "nbformat_minor": 4
}
