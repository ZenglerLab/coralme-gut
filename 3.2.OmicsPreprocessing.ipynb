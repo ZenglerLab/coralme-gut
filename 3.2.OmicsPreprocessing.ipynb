{
 "cells": [
  {
   "cell_type": "code",
   "execution_count": 1,
   "metadata": {
    "ExecuteTime": {
     "end_time": "2023-01-23T02:32:11.189506Z",
     "start_time": "2023-01-23T02:32:10.314605Z"
    }
   },
   "outputs": [],
   "source": [
    "import glob\n",
    "import numpy\n",
    "import pandas\n",
    "import seaborn\n",
    "import matplotlib.pyplot as plt\n",
    "from tqdm import tqdm\n",
    "import multiprocessing as mp\n",
    "import os\n",
    "from build import build_model"
   ]
  },
  {
   "cell_type": "markdown",
   "metadata": {},
   "source": [
    "## Experiment Metadata"
   ]
  },
  {
   "cell_type": "code",
   "execution_count": 2,
   "metadata": {
    "ExecuteTime": {
     "end_time": "2023-01-23T02:32:11.205572Z",
     "start_time": "2023-01-23T02:32:11.190971Z"
    }
   },
   "outputs": [],
   "source": [
    "%load_ext autoreload\n",
    "%autoreload 2"
   ]
  },
  {
   "cell_type": "code",
   "execution_count": 3,
   "metadata": {},
   "outputs": [
    {
     "name": "stderr",
     "output_type": "stream",
     "text": [
      "/tmp/ipykernel_3364552/893637399.py:2: DtypeWarning: Columns (12,13,14,40,46,55,65,66,67,68,177,294,298,299,300,301,304,305,306,307,308,309,310,318,320,328,330,346,348,350,352,354,359,361,363,366,373,377,381,383,418,419,432,433,434,435,436,438,439,440,441,442,444,445,446,447,448,450,451,452,453,454) have mixed types. Specify dtype option on import or set low_memory=False.\n",
      "  metadata = pandas.read_csv(\"./ibdmdb/hmp2_metadata_2018-08-20.csv\").set_index(\"site_sub_coll\")\n"
     ]
    }
   ],
   "source": [
    "run_data = pandas.read_csv(\"./ibdmdb/SraRunTable.csv\").set_index(\"host_subject_id\")\n",
    "metadata = pandas.read_csv(\"./ibdmdb/hmp2_metadata_2018-08-20.csv\").set_index(\"site_sub_coll\")"
   ]
  },
  {
   "cell_type": "code",
   "execution_count": 4,
   "metadata": {},
   "outputs": [],
   "source": [
    "metaT_runs = run_data[run_data[\"LibrarySource\"] == \"METATRANSCRIPTOMIC\"][\"Run\"]\n",
    "metaG_runs = run_data[run_data[\"LibrarySource\"] == \"METAGENOMIC\"][\"Run\"]\n",
    "samples = [i.split(\"_MTX\")[0] for i in metaT_runs.index]\n",
    "subjects = metadata.loc[samples]\n",
    "diagnosis = metadata.loc[samples][[\"diagnosis\",\"Participant ID\"]].drop_duplicates().set_index(\"Participant ID\")[\"diagnosis\"].sort_values()\n",
    "# diagnosis = metadata.loc[samples][[\"diagnosis\"]].reset_index().drop_duplicates().set_index(\"site_sub_coll\")[\"diagnosis\"]"
   ]
  },
  {
   "cell_type": "code",
   "execution_count": 5,
   "metadata": {},
   "outputs": [
    {
     "data": {
      "text/html": [
       "<div>\n",
       "<style scoped>\n",
       "    .dataframe tbody tr th:only-of-type {\n",
       "        vertical-align: middle;\n",
       "    }\n",
       "\n",
       "    .dataframe tbody tr th {\n",
       "        vertical-align: top;\n",
       "    }\n",
       "\n",
       "    .dataframe thead th {\n",
       "        text-align: right;\n",
       "    }\n",
       "</style>\n",
       "<table border=\"1\" class=\"dataframe\">\n",
       "  <thead>\n",
       "    <tr style=\"text-align: right;\">\n",
       "      <th></th>\n",
       "      <th>diagnosis</th>\n",
       "      <th>Participant ID</th>\n",
       "      <th>metaT_run</th>\n",
       "      <th>metaG_run</th>\n",
       "    </tr>\n",
       "    <tr>\n",
       "      <th>site_sub_coll</th>\n",
       "      <th></th>\n",
       "      <th></th>\n",
       "      <th></th>\n",
       "      <th></th>\n",
       "    </tr>\n",
       "  </thead>\n",
       "  <tbody>\n",
       "    <tr>\n",
       "      <th>H4009C2</th>\n",
       "      <td>nonIBD</td>\n",
       "      <td>H4009</td>\n",
       "      <td>SRR5947895</td>\n",
       "      <td>SRR5947845</td>\n",
       "    </tr>\n",
       "    <tr>\n",
       "      <th>H4009C2</th>\n",
       "      <td>nonIBD</td>\n",
       "      <td>H4009</td>\n",
       "      <td>SRR5947895</td>\n",
       "      <td>SRR5947845</td>\n",
       "    </tr>\n",
       "    <tr>\n",
       "      <th>H4009C2</th>\n",
       "      <td>nonIBD</td>\n",
       "      <td>H4009</td>\n",
       "      <td>SRR5947895</td>\n",
       "      <td>SRR5947845</td>\n",
       "    </tr>\n",
       "    <tr>\n",
       "      <th>H4010C1</th>\n",
       "      <td>UC</td>\n",
       "      <td>H4010</td>\n",
       "      <td>SRR5947896</td>\n",
       "      <td>SRR5947846</td>\n",
       "    </tr>\n",
       "    <tr>\n",
       "      <th>H4010C1</th>\n",
       "      <td>UC</td>\n",
       "      <td>H4010</td>\n",
       "      <td>SRR5947896</td>\n",
       "      <td>SRR5947846</td>\n",
       "    </tr>\n",
       "  </tbody>\n",
       "</table>\n",
       "</div>"
      ],
      "text/plain": [
       "              diagnosis Participant ID   metaT_run   metaG_run\n",
       "site_sub_coll                                                 \n",
       "H4009C2          nonIBD          H4009  SRR5947895  SRR5947845\n",
       "H4009C2          nonIBD          H4009  SRR5947895  SRR5947845\n",
       "H4009C2          nonIBD          H4009  SRR5947895  SRR5947845\n",
       "H4010C1              UC          H4010  SRR5947896  SRR5947846\n",
       "H4010C1              UC          H4010  SRR5947896  SRR5947846"
      ]
     },
     "execution_count": 5,
     "metadata": {},
     "output_type": "execute_result"
    }
   ],
   "source": [
    "ProcessedMetadata = metadata.loc[samples][[\"diagnosis\",\"Participant ID\"]]\n",
    "ProcessedMetadata[\"metaT_run\"] = [metaT_runs[i+\"_MTX\"] for i in ProcessedMetadata.index]\n",
    "ProcessedMetadata[\"metaG_run\"] = [metaG_runs[i+\"_MGX\"] for i in ProcessedMetadata.index]\n",
    "ProcessedMetadata.head()"
   ]
  },
  {
   "cell_type": "code",
   "execution_count": 12,
   "metadata": {},
   "outputs": [
    {
     "data": {
      "text/plain": [
       "28"
      ]
     },
     "execution_count": 12,
     "metadata": {},
     "output_type": "execute_result"
    }
   ],
   "source": [
    "len(ProcessedMetadata[\"Participant ID\"].unique())"
   ]
  },
  {
   "cell_type": "code",
   "execution_count": 23,
   "metadata": {},
   "outputs": [
    {
     "data": {
      "text/plain": [
       "[CD]        46\n",
       "[UC]        21\n",
       "[nonIBD]    11\n",
       "Name: diagnosis, dtype: int64"
      ]
     },
     "execution_count": 23,
     "metadata": {},
     "output_type": "execute_result"
    }
   ],
   "source": [
    "ProcessedMetadata.reset_index().groupby(\"site_sub_coll\")[\"diagnosis\"].unique().value_counts()"
   ]
  },
  {
   "cell_type": "code",
   "execution_count": 10,
   "metadata": {},
   "outputs": [],
   "source": [
    "ProcessedMetadata.to_csv(\"ibdmdb/processed_metadata.csv\")"
   ]
  },
  {
   "cell_type": "markdown",
   "metadata": {},
   "source": [
    "## metaG"
   ]
  },
  {
   "cell_type": "code",
   "execution_count": 8,
   "metadata": {},
   "outputs": [],
   "source": [
    "id_to_name = pandas.read_csv(\"taxonomy.txt\",index_col=1,sep=\"\\t\")[\"MicrobeID\"]"
   ]
  },
  {
   "cell_type": "code",
   "execution_count": 21,
   "metadata": {},
   "outputs": [],
   "source": [
    "metaG = pandas.read_csv(\"./ibdmdb/metaG_aligned/samfiles/Custom_index_counts.tsv\", sep ='\\t',index_col=0)\n",
    "metaG.columns = [i.split(\"_\")[0] for i in metaG.columns]\n",
    "metaG.index = [id_to_name[i] for i in metaG.index]"
   ]
  },
  {
   "cell_type": "code",
   "execution_count": 22,
   "metadata": {},
   "outputs": [],
   "source": [
    "RelativeAbundances = metaG.div(metaG.sum())"
   ]
  },
  {
   "cell_type": "code",
   "execution_count": 23,
   "metadata": {},
   "outputs": [
    {
     "data": {
      "text/html": [
       "<div>\n",
       "<style scoped>\n",
       "    .dataframe tbody tr th:only-of-type {\n",
       "        vertical-align: middle;\n",
       "    }\n",
       "\n",
       "    .dataframe tbody tr th {\n",
       "        vertical-align: top;\n",
       "    }\n",
       "\n",
       "    .dataframe thead th {\n",
       "        text-align: right;\n",
       "    }\n",
       "</style>\n",
       "<table border=\"1\" class=\"dataframe\">\n",
       "  <thead>\n",
       "    <tr style=\"text-align: right;\">\n",
       "      <th></th>\n",
       "      <th>nonIBD</th>\n",
       "      <th>UC</th>\n",
       "      <th>CD</th>\n",
       "      <th>IBD</th>\n",
       "    </tr>\n",
       "  </thead>\n",
       "  <tbody>\n",
       "    <tr>\n",
       "      <th>Bacteroides_vulgatus_ATCC_8482</th>\n",
       "      <td>0.099031</td>\n",
       "      <td>0.086618</td>\n",
       "      <td>0.072900</td>\n",
       "      <td>0.077134</td>\n",
       "    </tr>\n",
       "    <tr>\n",
       "      <th>Prevotella_copri_CB7_DSM_18205</th>\n",
       "      <td>0.084706</td>\n",
       "      <td>0.000448</td>\n",
       "      <td>0.129253</td>\n",
       "      <td>0.089498</td>\n",
       "    </tr>\n",
       "    <tr>\n",
       "      <th>Faecalibacterium_cf_prausnitzii_KLE1255</th>\n",
       "      <td>0.083950</td>\n",
       "      <td>0.027540</td>\n",
       "      <td>0.042626</td>\n",
       "      <td>0.037970</td>\n",
       "    </tr>\n",
       "    <tr>\n",
       "      <th>Bacteroides_sp_3_1_40A</th>\n",
       "      <td>0.076654</td>\n",
       "      <td>0.063514</td>\n",
       "      <td>0.058648</td>\n",
       "      <td>0.060150</td>\n",
       "    </tr>\n",
       "    <tr>\n",
       "      <th>Bacteroides_sp_4_3_47FAA</th>\n",
       "      <td>0.074558</td>\n",
       "      <td>0.062121</td>\n",
       "      <td>0.057815</td>\n",
       "      <td>0.059144</td>\n",
       "    </tr>\n",
       "  </tbody>\n",
       "</table>\n",
       "</div>"
      ],
      "text/plain": [
       "                                           nonIBD        UC        CD  \\\n",
       "Bacteroides_vulgatus_ATCC_8482           0.099031  0.086618  0.072900   \n",
       "Prevotella_copri_CB7_DSM_18205           0.084706  0.000448  0.129253   \n",
       "Faecalibacterium_cf_prausnitzii_KLE1255  0.083950  0.027540  0.042626   \n",
       "Bacteroides_sp_3_1_40A                   0.076654  0.063514  0.058648   \n",
       "Bacteroides_sp_4_3_47FAA                 0.074558  0.062121  0.057815   \n",
       "\n",
       "                                              IBD  \n",
       "Bacteroides_vulgatus_ATCC_8482           0.077134  \n",
       "Prevotella_copri_CB7_DSM_18205           0.089498  \n",
       "Faecalibacterium_cf_prausnitzii_KLE1255  0.037970  \n",
       "Bacteroides_sp_3_1_40A                   0.060150  \n",
       "Bacteroides_sp_4_3_47FAA                 0.059144  "
      ]
     },
     "execution_count": 23,
     "metadata": {},
     "output_type": "execute_result"
    }
   ],
   "source": [
    "MeanAbundances = pandas.DataFrame()\n",
    "SDevAbundances = pandas.DataFrame()\n",
    "for d in ProcessedMetadata[\"diagnosis\"].unique():\n",
    "    tmp = RelativeAbundances[ProcessedMetadata[ProcessedMetadata[\"diagnosis\"]==d][\"metaG_run\"].values]\n",
    "    MeanAbundances[d] = tmp.mean(axis=1).sort_values(ascending=False)\n",
    "    SDevAbundances[d] = tmp.std(axis=1).sort_values(ascending=False)\n",
    "tmp = RelativeAbundances[ProcessedMetadata[ProcessedMetadata[\"diagnosis\"]!=\"nonIBD\"][\"metaG_run\"].values]\n",
    "MeanAbundances[\"IBD\"] = tmp.mean(axis=1).sort_values(ascending=False)\n",
    "SDevAbundances[\"IBD\"] = tmp.std(axis=1).sort_values(ascending=False)\n",
    "MeanAbundances.head()"
   ]
  },
  {
   "cell_type": "code",
   "execution_count": 24,
   "metadata": {},
   "outputs": [
    {
     "data": {
      "text/plain": [
       "<Axes: ylabel='Frequency'>"
      ]
     },
     "execution_count": 24,
     "metadata": {},
     "output_type": "execute_result"
    },
    {
     "data": {
      "image/png": "[encoded data removed]",
      "text/plain": [
       "<Figure size 640x480 with 1 Axes>"
      ]
     },
     "metadata": {},
     "output_type": "display_data"
    }
   ],
   "source": [
    "numpy.log10(MeanAbundances).plot.hist(bins = 50,alpha=0.5)"
   ]
  },
  {
   "cell_type": "code",
   "execution_count": 25,
   "metadata": {},
   "outputs": [],
   "source": [
    "MeanAbundances.to_csv(\"ibdmdb/metaG_per_diagnosis.csv\")"
   ]
  },
  {
   "cell_type": "code",
   "execution_count": 26,
   "metadata": {},
   "outputs": [
    {
     "data": {
      "text/plain": [
       "<ErrorbarContainer object of 3 artists>"
      ]
     },
     "execution_count": 26,
     "metadata": {},
     "output_type": "execute_result"
    },
    {
     "data": {
      "image/png": "[encoded data removed]",
      "text/plain": [
       "<Figure size 640x480 with 1 Axes>"
      ]
     },
     "metadata": {},
     "output_type": "display_data"
    }
   ],
   "source": [
    "org = \"Bacteroides_sp_3_1_40A\"\n",
    "fig,ax = plt.subplots(1,1)\n",
    "MeanAbundances.loc[org].plot.bar(ax=ax)\n",
    "ax.errorbar(x=MeanAbundances.columns,y=MeanAbundances.loc[org],color=\"black\",yerr=SDevAbundances.loc[org])"
   ]
  },
  {
   "cell_type": "markdown",
   "metadata": {},
   "source": [
    "## metaT"
   ]
  },
  {
   "cell_type": "code",
   "execution_count": 20,
   "metadata": {},
   "outputs": [],
   "source": [
    "metaT = pandas.read_csv(\"./ibdmdb/metaT_aligned/samfiles/Custom_index_counts.tsv\", sep ='\\t',index_col=0)\n",
    "metaT.columns = [i.split(\"_\")[0] for i in metaT.columns]"
   ]
  },
  {
   "cell_type": "code",
   "execution_count": 24,
   "metadata": {},
   "outputs": [
    {
     "data": {
      "text/html": [
       "<div>\n",
       "<style scoped>\n",
       "    .dataframe tbody tr th:only-of-type {\n",
       "        vertical-align: middle;\n",
       "    }\n",
       "\n",
       "    .dataframe tbody tr th {\n",
       "        vertical-align: top;\n",
       "    }\n",
       "\n",
       "    .dataframe thead th {\n",
       "        text-align: right;\n",
       "    }\n",
       "</style>\n",
       "<table border=\"1\" class=\"dataframe\">\n",
       "  <thead>\n",
       "    <tr style=\"text-align: right;\">\n",
       "      <th></th>\n",
       "      <th>nonIBD</th>\n",
       "      <th>UC</th>\n",
       "      <th>CD</th>\n",
       "      <th>IBD</th>\n",
       "    </tr>\n",
       "    <tr>\n",
       "      <th>#FeatureID</th>\n",
       "      <th></th>\n",
       "      <th></th>\n",
       "      <th></th>\n",
       "      <th></th>\n",
       "    </tr>\n",
       "  </thead>\n",
       "  <tbody>\n",
       "    <tr>\n",
       "      <th>HMPREF9436_RS14285</th>\n",
       "      <td>540596.974359</td>\n",
       "      <td>274939.333333</td>\n",
       "      <td>346588.291667</td>\n",
       "      <td>346588.291667</td>\n",
       "    </tr>\n",
       "    <tr>\n",
       "      <th>HMPREF9436_RS14685</th>\n",
       "      <td>162813.974359</td>\n",
       "      <td>61457.386667</td>\n",
       "      <td>124344.470238</td>\n",
       "      <td>124344.470238</td>\n",
       "    </tr>\n",
       "    <tr>\n",
       "      <th>BILO145876EF_RS04385</th>\n",
       "      <td>154947.128205</td>\n",
       "      <td>24252.120000</td>\n",
       "      <td>52853.702381</td>\n",
       "      <td>52853.702381</td>\n",
       "    </tr>\n",
       "    <tr>\n",
       "      <th>FAEPRAM212_RS14865</th>\n",
       "      <td>118711.871795</td>\n",
       "      <td>163130.413333</td>\n",
       "      <td>282523.220238</td>\n",
       "      <td>282523.220238</td>\n",
       "    </tr>\n",
       "    <tr>\n",
       "      <th>BSFG_RS23450</th>\n",
       "      <td>73381.256410</td>\n",
       "      <td>81992.613333</td>\n",
       "      <td>94516.827381</td>\n",
       "      <td>94516.827381</td>\n",
       "    </tr>\n",
       "  </tbody>\n",
       "</table>\n",
       "</div>"
      ],
      "text/plain": [
       "                             nonIBD             UC             CD  \\\n",
       "#FeatureID                                                          \n",
       "HMPREF9436_RS14285    540596.974359  274939.333333  346588.291667   \n",
       "HMPREF9436_RS14685    162813.974359   61457.386667  124344.470238   \n",
       "BILO145876EF_RS04385  154947.128205   24252.120000   52853.702381   \n",
       "FAEPRAM212_RS14865    118711.871795  163130.413333  282523.220238   \n",
       "BSFG_RS23450           73381.256410   81992.613333   94516.827381   \n",
       "\n",
       "                                IBD  \n",
       "#FeatureID                           \n",
       "HMPREF9436_RS14285    346588.291667  \n",
       "HMPREF9436_RS14685    124344.470238  \n",
       "BILO145876EF_RS04385   52853.702381  \n",
       "FAEPRAM212_RS14865    282523.220238  \n",
       "BSFG_RS23450           94516.827381  "
      ]
     },
     "execution_count": 24,
     "metadata": {},
     "output_type": "execute_result"
    }
   ],
   "source": [
    "MeanTCounts = pandas.DataFrame()\n",
    "for d in ProcessedMetadata[\"diagnosis\"].unique():\n",
    "    tmp = metaT[ProcessedMetadata[ProcessedMetadata[\"diagnosis\"]==d][\"metaT_run\"].values]\n",
    "    MeanTCounts[d] = tmp.mean(axis=1).sort_values(ascending=False)\n",
    "tmp = metaT[ProcessedMetadata[ProcessedMetadata[\"diagnosis\"]==d][\"metaT_run\"].values]\n",
    "MeanTCounts[\"IBD\"] = tmp.mean(axis=1).sort_values(ascending=False)\n",
    "MeanTCounts.head()"
   ]
  },
  {
   "cell_type": "code",
   "execution_count": 25,
   "metadata": {},
   "outputs": [],
   "source": [
    "MeanTCounts.to_csv(\"ibdmdb/metaT_per_diagnosis.csv\")"
   ]
  },
  {
   "cell_type": "code",
   "execution_count": 26,
   "metadata": {},
   "outputs": [],
   "source": [
    "NormalizedTCounts = MeanTCounts.div(MeanTCounts.sum()) + 1e-10"
   ]
  },
  {
   "cell_type": "code",
   "execution_count": 27,
   "metadata": {},
   "outputs": [
    {
     "data": {
      "text/plain": [
       "<Axes: ylabel='Frequency'>"
      ]
     },
     "execution_count": 27,
     "metadata": {},
     "output_type": "execute_result"
    },
    {
     "data": {
      "image/png": "[encoded data removed]",
      "text/plain": [
       "<Figure size 640x480 with 1 Axes>"
      ]
     },
     "metadata": {},
     "output_type": "display_data"
    }
   ],
   "source": [
    "numpy.log10(NormalizedTCounts).plot.hist(bins = 50,alpha=0.5)"
   ]
  },
  {
   "cell_type": "code",
   "execution_count": null,
   "metadata": {},
   "outputs": [],
   "source": []
  }
 ],
 "metadata": {
  "kernelspec": {
   "display_name": "coralme",
   "language": "python",
   "name": "coralme"
  },
  "language_info": {
   "codemirror_mode": {
    "name": "ipython",
    "version": 3
   },
   "file_extension": ".py",
   "mimetype": "text/x-python",
   "name": "python",
   "nbconvert_exporter": "python",
   "pygments_lexer": "ipython3",
   "version": "3.10.12"
  }
 },
 "nbformat": 4,
 "nbformat_minor": 4
}
