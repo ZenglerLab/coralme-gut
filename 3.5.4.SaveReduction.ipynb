{
 "cells": [
  {
   "cell_type": "code",
   "execution_count": 1,
   "metadata": {
    "ExecuteTime": {
     "end_time": "2023-01-23T02:32:11.189506Z",
     "start_time": "2023-01-23T02:32:10.314605Z"
    }
   },
   "outputs": [],
   "source": [
    "import glob\n",
    "import numpy\n",
    "import pandas\n",
    "import seaborn\n",
    "import matplotlib.pyplot as plt\n",
    "from tqdm import tqdm\n",
    "import multiprocessing as mp\n",
    "import os\n",
    "from build import build_model\n",
    "import coralme"
   ]
  },
  {
   "cell_type": "code",
   "execution_count": 2,
   "metadata": {
    "ExecuteTime": {
     "end_time": "2023-01-23T02:32:11.205572Z",
     "start_time": "2023-01-23T02:32:11.190971Z"
    }
   },
   "outputs": [
    {
     "data": {
      "text/html": [
       "<style>.container { width:95% !important; }</style>"
      ],
      "text/plain": [
       "<IPython.core.display.HTML object>"
      ]
     },
     "metadata": {},
     "output_type": "display_data"
    }
   ],
   "source": [
    "from IPython.display import display, HTML, Math, Markdown\n",
    "display(HTML(\"<style>.container { width:95% !important; }</style>\"))\n",
    "\n",
    "%load_ext autoreload\n",
    "%autoreload 2"
   ]
  },
  {
   "cell_type": "code",
   "execution_count": 3,
   "metadata": {
    "scrolled": true
   },
   "outputs": [],
   "source": [
    "# !bash report.sh\n",
    "organisms = set(pandas.read_csv(\"biomass_constrained.txt\",index_col=0,header=None).index.to_list())\n",
    "done = set(i.split(\".csv\")[0] for i in os.listdir(\"./cases/fluxes/nonIBD/\") if \"csv\" in i)"
   ]
  },
  {
   "cell_type": "code",
   "execution_count": 4,
   "metadata": {},
   "outputs": [
    {
     "data": {
      "text/plain": [
       "495"
      ]
     },
     "execution_count": 4,
     "metadata": {},
     "output_type": "execute_result"
    }
   ],
   "source": [
    "len(organisms)"
   ]
  },
  {
   "cell_type": "markdown",
   "metadata": {},
   "source": [
    "### Load"
   ]
  },
  {
   "cell_type": "code",
   "execution_count": 5,
   "metadata": {},
   "outputs": [],
   "source": [
    "def load_data(path):\n",
    "    try:\n",
    "        df = pandas.read_csv(path,index_col=0)[[\"fluxes\"]]\n",
    "    except:\n",
    "        df = pandas.DataFrame(columns=[\"fluxes\"])\n",
    "    df.columns = [org]\n",
    "    return df"
   ]
  },
  {
   "cell_type": "code",
   "execution_count": 6,
   "metadata": {},
   "outputs": [],
   "source": [
    "from tqdm import tqdm\n",
    "conditions = [\"nonIBD\", \"IBD\"]"
   ]
  },
  {
   "cell_type": "code",
   "execution_count": 7,
   "metadata": {},
   "outputs": [],
   "source": [
    "# overflow = {i:pandas.DataFrame() for i in conditions}\n",
    "growth = {i:{} for i in conditions}"
   ]
  },
  {
   "cell_type": "code",
   "execution_count": 8,
   "metadata": {},
   "outputs": [],
   "source": [
    "# for org in tqdm(organisms):\n",
    "#     for c in conditions:\n",
    "#         tmp = load_data(\"./cases/overflow/{}/{}.csv\".format(c,org))\n",
    "#         overflow[c] = pandas.concat([overflow[c],tmp], axis=1).fillna(0)"
   ]
  },
  {
   "cell_type": "code",
   "execution_count": 9,
   "metadata": {},
   "outputs": [
    {
     "name": "stderr",
     "output_type": "stream",
     "text": [
      "100%|██████████| 495/495 [00:03<00:00, 134.66it/s]\n"
     ]
    }
   ],
   "source": [
    "for org in tqdm(organisms):\n",
    "    for c in conditions:\n",
    "        tmp = load_data(\"./cases/fluxes/{}red/{}.csv\".format(c,org))\n",
    "        if tmp.empty:\n",
    "            val = None\n",
    "        else:\n",
    "            val = tmp[org][\"biomass_dilution\"]\n",
    "        growth[c][org] = val\n",
    "growth = pandas.DataFrame.from_dict(growth)"
   ]
  },
  {
   "cell_type": "code",
   "execution_count": 10,
   "metadata": {},
   "outputs": [
    {
     "data": {
      "text/html": [
       "<div>\n",
       "<style scoped>\n",
       "    .dataframe tbody tr th:only-of-type {\n",
       "        vertical-align: middle;\n",
       "    }\n",
       "\n",
       "    .dataframe tbody tr th {\n",
       "        vertical-align: top;\n",
       "    }\n",
       "\n",
       "    .dataframe thead th {\n",
       "        text-align: right;\n",
       "    }\n",
       "</style>\n",
       "<table border=\"1\" class=\"dataframe\">\n",
       "  <thead>\n",
       "    <tr style=\"text-align: right;\">\n",
       "      <th></th>\n",
       "      <th>nonIBD</th>\n",
       "      <th>IBD</th>\n",
       "    </tr>\n",
       "  </thead>\n",
       "  <tbody>\n",
       "    <tr>\n",
       "      <th>Collinsella_intestinalis_DSM_13280</th>\n",
       "      <td>0.001125</td>\n",
       "      <td>0.001125</td>\n",
       "    </tr>\n",
       "    <tr>\n",
       "      <th>Campylobacter_lari_RM2100</th>\n",
       "      <td>0.001161</td>\n",
       "      <td>0.001452</td>\n",
       "    </tr>\n",
       "    <tr>\n",
       "      <th>Faecalibacterium_cf_prausnitzii_KLE1255</th>\n",
       "      <td>0.089407</td>\n",
       "      <td>0.089407</td>\n",
       "    </tr>\n",
       "    <tr>\n",
       "      <th>Bacteroides_sp_D1</th>\n",
       "      <td>0.001217</td>\n",
       "      <td>0.097225</td>\n",
       "    </tr>\n",
       "    <tr>\n",
       "      <th>Acidaminococcus_fermentans_DSM_20731</th>\n",
       "      <td>0.001000</td>\n",
       "      <td>0.001001</td>\n",
       "    </tr>\n",
       "    <tr>\n",
       "      <th>...</th>\n",
       "      <td>...</td>\n",
       "      <td>...</td>\n",
       "    </tr>\n",
       "    <tr>\n",
       "      <th>Brevibacillus_borstelensis_AK1</th>\n",
       "      <td>0.001002</td>\n",
       "      <td>0.001000</td>\n",
       "    </tr>\n",
       "    <tr>\n",
       "      <th>Eubacterium_siraeum_DSM_15702</th>\n",
       "      <td>0.001074</td>\n",
       "      <td>0.043164</td>\n",
       "    </tr>\n",
       "    <tr>\n",
       "      <th>Paraprevotella_xylaniphila_YIT_11841</th>\n",
       "      <td>0.001136</td>\n",
       "      <td>0.001751</td>\n",
       "    </tr>\n",
       "    <tr>\n",
       "      <th>Aeromonas_veronii_B565</th>\n",
       "      <td>0.001019</td>\n",
       "      <td>0.001023</td>\n",
       "    </tr>\n",
       "    <tr>\n",
       "      <th>Rhodococcus_equi_ATCC_33707</th>\n",
       "      <td>0.001009</td>\n",
       "      <td>0.001004</td>\n",
       "    </tr>\n",
       "  </tbody>\n",
       "</table>\n",
       "<p>489 rows × 2 columns</p>\n",
       "</div>"
      ],
      "text/plain": [
       "                                           nonIBD       IBD\n",
       "Collinsella_intestinalis_DSM_13280       0.001125  0.001125\n",
       "Campylobacter_lari_RM2100                0.001161  0.001452\n",
       "Faecalibacterium_cf_prausnitzii_KLE1255  0.089407  0.089407\n",
       "Bacteroides_sp_D1                        0.001217  0.097225\n",
       "Acidaminococcus_fermentans_DSM_20731     0.001000  0.001001\n",
       "...                                           ...       ...\n",
       "Brevibacillus_borstelensis_AK1           0.001002  0.001000\n",
       "Eubacterium_siraeum_DSM_15702            0.001074  0.043164\n",
       "Paraprevotella_xylaniphila_YIT_11841     0.001136  0.001751\n",
       "Aeromonas_veronii_B565                   0.001019  0.001023\n",
       "Rhodococcus_equi_ATCC_33707              0.001009  0.001004\n",
       "\n",
       "[489 rows x 2 columns]"
      ]
     },
     "execution_count": 10,
     "metadata": {},
     "output_type": "execute_result"
    }
   ],
   "source": [
    "growth.dropna()"
   ]
  },
  {
   "cell_type": "markdown",
   "metadata": {},
   "source": [
    "### Save"
   ]
  },
  {
   "cell_type": "code",
   "execution_count": 11,
   "metadata": {},
   "outputs": [],
   "source": [
    "growth.sort_index().to_csv(\"datasets/3.5.IBDred_growth_rates.csv\")"
   ]
  },
  {
   "cell_type": "code",
   "execution_count": null,
   "metadata": {},
   "outputs": [],
   "source": []
  }
 ],
 "metadata": {
  "kernelspec": {
   "display_name": "coralme",
   "language": "python",
   "name": "coralme"
  },
  "language_info": {
   "codemirror_mode": {
    "name": "ipython",
    "version": 3
   },
   "file_extension": ".py",
   "mimetype": "text/x-python",
   "name": "python",
   "nbconvert_exporter": "python",
   "pygments_lexer": "ipython3",
   "version": "3.10.12"
  }
 },
 "nbformat": 4,
 "nbformat_minor": 4
}
