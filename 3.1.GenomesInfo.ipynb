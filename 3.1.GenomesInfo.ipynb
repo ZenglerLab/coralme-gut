{
 "cells": [
  {
   "cell_type": "code",
   "execution_count": 2,
   "metadata": {
    "ExecuteTime": {
     "end_time": "2023-01-23T02:32:11.189506Z",
     "start_time": "2023-01-23T02:32:10.314605Z"
    }
   },
   "outputs": [],
   "source": [
    "import glob\n",
    "import numpy\n",
    "import pandas\n",
    "import seaborn\n",
    "import matplotlib.pyplot as plt\n",
    "from tqdm import tqdm\n",
    "import multiprocessing as mp\n",
    "import os\n",
    "from build import build_model\n",
    "import re"
   ]
  },
  {
   "cell_type": "code",
   "execution_count": 3,
   "metadata": {
    "ExecuteTime": {
     "end_time": "2023-01-23T02:32:11.205572Z",
     "start_time": "2023-01-23T02:32:11.190971Z"
    }
   },
   "outputs": [
    {
     "data": {
      "text/html": [
       "<style>.container { width:95% !important; }</style>"
      ],
      "text/plain": [
       "<IPython.core.display.HTML object>"
      ]
     },
     "metadata": {},
     "output_type": "display_data"
    }
   ],
   "source": [
    "from IPython.display import display, HTML, Math, Markdown\n",
    "display(HTML(\"<style>.container { width:95% !important; }</style>\"))\n",
    "\n",
    "%load_ext autoreload\n",
    "%autoreload 2"
   ]
  },
  {
   "cell_type": "code",
   "execution_count": 4,
   "metadata": {},
   "outputs": [],
   "source": [
    "import Bio\n",
    "from Bio.SeqIO import parse,SeqRecord\n",
    "from Bio.Seq import Seq\n",
    "def load_genbank(org):\n",
    "    return [i for i in parse(directory+org+\".gb\",\"gb\")]\n",
    "\n",
    "def extract_genes(genbank_records, output_fasta,org):\n",
    "    # Open the FASTA file for writing\n",
    "    with open(output_fasta, \"w\") as fasta_file:\n",
    "        # Iterate through GenBank records\n",
    "        for record in genbank_records:\n",
    "            # Iterate through features in the record\n",
    "            for feature in record.features:\n",
    "                # Check if the feature is a gene\n",
    "                if feature.type == \"source\":\n",
    "                    continue\n",
    "                if \"locus_tag\" not in feature.qualifiers:\n",
    "                    continue\n",
    "                # Extract the nucleotide sequence\n",
    "                gene_sequence = feature.extract(record.seq)\n",
    "                # Write the gene to the FASTA file\n",
    "                fasta_file.write(f\">{feature.qualifiers['locus_tag'][0]}\\n{gene_sequence}\\n\")\n",
    "                gene_to_genome[feature.qualifiers['locus_tag'][0]] = org\n",
    "\n",
    "# Replace 'input.genbank' and 'output.fasta' with your file paths\n",
    "# extract_genes('input.genbank', 'output.fasta')"
   ]
  },
  {
   "cell_type": "code",
   "execution_count": 5,
   "metadata": {},
   "outputs": [],
   "source": [
    "taxonomy = pandas.read_csv(\"taxonomy.txt\",index_col=0, sep = '\\t')"
   ]
  },
  {
   "cell_type": "code",
   "execution_count": 6,
   "metadata": {},
   "outputs": [],
   "source": [
    "survivors = set(pandas.read_csv(\"survivors.txt\",index_col=0,header=None).index.to_list())"
   ]
  },
  {
   "cell_type": "code",
   "execution_count": 11,
   "metadata": {
    "scrolled": true
   },
   "outputs": [
    {
     "name": "stderr",
     "output_type": "stream",
     "text": [
      "100%|█████████████████████████████████████████████████████████████████████████████████████████████████████████████████████████████████████████████████████████████████████| 757/757 [03:43<00:00,  3.39it/s]\n"
     ]
    }
   ],
   "source": [
    "directory = \"./agora-models/genbank-mixed-ncbi-agora-sources/\"\n",
    "\n",
    "lengths = {}\n",
    "gene_to_genome = {}\n",
    "for i in tqdm(os.listdir(directory)):\n",
    "    if \".gb\" not in i:\n",
    "        continue\n",
    "    # print(directory+i)\n",
    "    org = i.split(\".gb\")[0]\n",
    "    if org not in survivors:\n",
    "        continue\n",
    "    if org not in taxonomy.index:\n",
    "        continue\n",
    "    gbfile = load_genbank(org)\n",
    "    id = str(taxonomy.loc[org][\"NCBI Taxonomy ID\"])\n",
    "    extract_genes(gbfile, \"./ibdmdb/annotated_genomes/\" + id + \".fna\",org)\n",
    "    \n",
    "    seq = \"\".join([str(i.seq) for i in gbfile])\n",
    "    lengths[id] = len(seq)\n",
    "    fasta = [SeqRecord(seq=Seq(seq),id=id,description=id)]\n",
    "    with open(\"./ibdmdb/whole_genomes/\" + id + \".fna\", 'w') as outfile:\n",
    "        for contig in fasta:\n",
    "            Bio.SeqIO.write(contig, outfile, 'fasta')\n",
    "    for i in gbfile:\n",
    "        i.id = \"{}|{}\".format(org,i.id)"
   ]
  },
  {
   "cell_type": "code",
   "execution_count": 12,
   "metadata": {},
   "outputs": [],
   "source": [
    "pandas.DataFrame.from_dict({\"genome\":gene_to_genome}).to_csv(\"ibdmdb/gene_to_genome.csv\")"
   ]
  },
  {
   "cell_type": "code",
   "execution_count": 69,
   "metadata": {},
   "outputs": [],
   "source": [
    "metadata = taxonomy.copy().reset_index()\n",
    "metadata[\"#genome\"] = metadata[\"NCBI Taxonomy ID\"]\n",
    "metadata[\"unique_name\"] = metadata[\"MicrobeID\"]\n",
    "metadata[\"total_length\"] = [lengths[str(i)] for i in metadata[\"#genome\"]]"
   ]
  },
  {
   "cell_type": "code",
   "execution_count": 70,
   "metadata": {},
   "outputs": [],
   "source": [
    "metadata.to_csv(\"ibdmdb/custom_metadata.tsv\",sep='\\t')"
   ]
  }
 ],
 "metadata": {
  "kernelspec": {
   "display_name": "coralme",
   "language": "python",
   "name": "coralme"
  },
  "language_info": {
   "codemirror_mode": {
    "name": "ipython",
    "version": 3
   },
   "file_extension": ".py",
   "mimetype": "text/x-python",
   "name": "python",
   "nbconvert_exporter": "python",
   "pygments_lexer": "ipython3",
   "version": "3.10.12"
  }
 },
 "nbformat": 4,
 "nbformat_minor": 4
}
