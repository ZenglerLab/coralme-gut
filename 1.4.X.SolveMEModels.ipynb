{
 "cells": [
  {
   "cell_type": "code",
   "execution_count": 1,
   "metadata": {
    "ExecuteTime": {
     "end_time": "2023-01-23T02:32:11.189506Z",
     "start_time": "2023-01-23T02:32:10.314605Z"
    }
   },
   "outputs": [],
   "source": [
    "import glob\n",
    "import numpy\n",
    "import pandas\n",
    "import seaborn\n",
    "import matplotlib.pyplot as plt\n",
    "from tqdm import tqdm\n",
    "import multiprocessing as mp\n",
    "import os\n",
    "from build import build_model\n",
    "from diets import load_model\n",
    "import coralme\n",
    "pandas.set_option('display.max_colwidth', None)"
   ]
  },
  {
   "cell_type": "code",
   "execution_count": 2,
   "metadata": {
    "ExecuteTime": {
     "end_time": "2023-01-23T02:32:11.205572Z",
     "start_time": "2023-01-23T02:32:11.190971Z"
    },
    "scrolled": true
   },
   "outputs": [
    {
     "data": {
      "text/html": [
       "<style>.container { width:95% !important; }</style>"
      ],
      "text/plain": [
       "<IPython.core.display.HTML object>"
      ]
     },
     "metadata": {},
     "output_type": "display_data"
    }
   ],
   "source": [
    "from IPython.display import display, HTML, Math, Markdown\n",
    "display(HTML(\"<style>.container { width:95% !important; }</style>\"))\n",
    "\n",
    "%load_ext autoreload\n",
    "%autoreload 2"
   ]
  },
  {
   "cell_type": "markdown",
   "metadata": {},
   "source": [
    "### Set organisms"
   ]
  },
  {
   "cell_type": "code",
   "execution_count": 3,
   "metadata": {},
   "outputs": [],
   "source": [
    "# !bash report.sh\n",
    "survivors = set(pandas.read_csv(\"survivors.txt\",index_col=0,header=None).index.to_list())"
   ]
  },
  {
   "cell_type": "code",
   "execution_count": 4,
   "metadata": {},
   "outputs": [
    {
     "data": {
      "text/plain": [
       "1"
      ]
     },
     "execution_count": 4,
     "metadata": {},
     "output_type": "execute_result"
    }
   ],
   "source": [
    "run_for = [\"Methylobacterium_populi_BJ001\"]\n",
    "len(run_for)"
   ]
  },
  {
   "cell_type": "code",
   "execution_count": 5,
   "metadata": {},
   "outputs": [],
   "source": [
    "# pandas.DataFrame(columns=run_for).T.to_csv(\"rna_polymerase_issues.txt\",header=None)"
   ]
  },
  {
   "cell_type": "markdown",
   "metadata": {},
   "source": [
    "### Run"
   ]
  },
  {
   "cell_type": "code",
   "execution_count": 6,
   "metadata": {},
   "outputs": [],
   "source": [
    "mfluxdir = \"./fluxes_reconstruction/m\"\n",
    "mefluxdir = \"./fluxes_reconstruction/me\"\n",
    "if not os.path.isdir(mfluxdir):\n",
    "    os.makedirs(mfluxdir)\n",
    "    os.makedirs(mefluxdir)\n",
    "\n",
    "def run(org):\n",
    "    me_model = coralme.io.pickle.load_pickle_me_model('./me-models/{:s}/MEModel-BIO-{:s}-ME-TS.pkl'.format(org, org))\n",
    "    me_model.optimize()\n",
    "    me_model.solution.to_frame().to_csv(\"./fluxes_reconstruction/me/{}.csv\".format(org))\n",
    "    coralme.io.pickle.save_pickle_me_model('./me-models/{:s}/MEModel-BIO-{:s}-ME-TS.pkl'.format(org, org))"
   ]
  },
  {
   "cell_type": "code",
   "execution_count": 7,
   "metadata": {
    "scrolled": true
   },
   "outputs": [
    {
     "name": "stderr",
     "output_type": "stream",
     "text": [
      "Building (1 threads):   0%|                               | 0/1 [00:00<?, ?it/s]"
     ]
    },
    {
     "name": "stdout",
     "output_type": "stream",
     "text": [
      "Set parameter Username\n",
      "Academic license - for non-commercial use only - expires 2024-08-16\n",
      "Read LP format model from file /tmp/tmpebnvl5z_.lp\n",
      "Reading time = 0.00 seconds\n",
      ": 0 rows, 0 columns, 0 nonzeros\n",
      "Read LP format model from file /tmp/tmpspons929.lp\n",
      "Reading time = 0.00 seconds\n",
      ": 1343 rows, 3202 columns, 13882 nonzeros\n",
      "Read LP format model from file /tmp/tmpoiv0t8i7.lp\n",
      "Reading time = 0.00 seconds\n",
      ": 1355 rows, 3200 columns, 13712 nonzeros\n",
      "Iteration\t Solution to check\tSolver Status\n",
      "---------\t------------------\t-------------\n",
      "        1\t1.4050280687025918\tNot feasible\n",
      "        2\t0.7025140343512959\tNot feasible\n",
      "        3\t0.3512570171756479\tNot feasible\n",
      "        4\t0.1756285085878240\tNot feasible\n",
      "        5\t0.0878142542939120\tNot feasible\n",
      "        6\t0.0439071271469560\tNot feasible\n",
      "        7\t0.0219535635734780\tNot feasible\n",
      "        8\t0.0109767817867390\tNot feasible\n",
      "        9\t0.0054883908933695\tNot feasible\n",
      "       10\t0.0027441954466847\tOptimal\n",
      "       11\t0.0041162931700271\tOptimal\n",
      "       12\t0.0048023420316983\tOptimal\n",
      "       13\t0.0051453664625339\tOptimal\n",
      "       14\t0.0053168786779517\tOptimal\n",
      "       15\t0.0054026347856606\tOptimal\n",
      "       16\t0.0054455128395150\tOptimal\n",
      "       17\t0.0054669518664423\tOptimal\n",
      "       18\t0.0054776713799059\tOptimal\n",
      "       19\t0.0054830311366377\tOptimal\n",
      "       20\t0.0054857110150036\tOptimal\n",
      "       21\t0.0054870509541865\tOptimal\n",
      "       22\t0.0054877209237780\tOptimal\n"
     ]
    }
   ],
   "source": [
    "NP = min([10,len(run_for)])\n",
    "pool = mp.Pool(NP,maxtasksperchild=1)\n",
    "pbar = tqdm(total=len(run_for),position=0,leave=True)\n",
    "pbar.set_description('Building ({} threads)'.format(NP))\n",
    "def collect_result(result):\n",
    "    pbar.update(1)\n",
    "for org in run_for:\n",
    "    args = ([org])\n",
    "    pool.apply_async(run,args, callback=collect_result)\n",
    "pool.close()\n",
    "pool.join()"
   ]
  }
 ],
 "metadata": {
  "kernelspec": {
   "display_name": "coralme",
   "language": "python",
   "name": "coralme"
  },
  "language_info": {
   "codemirror_mode": {
    "name": "ipython",
    "version": 3
   },
   "file_extension": ".py",
   "mimetype": "text/x-python",
   "name": "python",
   "nbconvert_exporter": "python",
   "pygments_lexer": "ipython3",
   "version": "3.10.12"
  }
 },
 "nbformat": 4,
 "nbformat_minor": 4
}
