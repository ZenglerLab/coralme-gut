{
 "cells": [
  {
   "cell_type": "code",
   "execution_count": 4,
   "metadata": {
    "ExecuteTime": {
     "end_time": "2023-01-23T02:32:11.189506Z",
     "start_time": "2023-01-23T02:32:10.314605Z"
    }
   },
   "outputs": [],
   "source": [
    "from knockouts import *"
   ]
  },
  {
   "cell_type": "code",
   "execution_count": 5,
   "metadata": {},
   "outputs": [
    {
     "data": {
      "text/html": [
       "<style>.container { width:95% !important; }</style>"
      ],
      "text/plain": [
       "<IPython.core.display.HTML object>"
      ]
     },
     "metadata": {},
     "output_type": "display_data"
    },
    {
     "name": "stdout",
     "output_type": "stream",
     "text": [
      "The autoreload extension is already loaded. To reload it, use:\n",
      "  %reload_ext autoreload\n"
     ]
    }
   ],
   "source": [
    "from IPython.display import display, HTML, Math, Markdown\n",
    "display(HTML(\"<style>.container { width:95% !important; }</style>\"))\n",
    "\n",
    "%load_ext autoreload\n",
    "%autoreload 2"
   ]
  },
  {
   "cell_type": "code",
   "execution_count": 6,
   "metadata": {},
   "outputs": [],
   "source": [
    "# condition = \"nonIBD\"\n",
    "condition = \"IBD\"\n",
    "# condition = \"UC\"\n",
    "# condition = \"CD\"\n",
    "fluxdir = \"./cases/fluxes/{}\".format(condition)\n",
    "overflowdir = \"./cases/overflow/{}\".format(condition)\n",
    "if not os.path.isdir(fluxdir):\n",
    "    os.makedirs(fluxdir)\n",
    "if not os.path.isdir(overflowdir):\n",
    "    os.makedirs(overflowdir)"
   ]
  },
  {
   "cell_type": "code",
   "execution_count": null,
   "metadata": {},
   "outputs": [],
   "source": [
    "log_format = '%(asctime)s %(message)s' #%(clientip)-15s %(user)-8s\n",
    "import logging\n",
    "from coralme.builder.main import ListHandler\n",
    "log = logging.getLogger()\n",
    "logging.basicConfig(filename = \"./ibdmdb/integration/solving_{}.log\".format(condition), filemode = 'w', level = logging.WARNING, format = log_format)\n",
    "logging.captureWarnings(True)"
   ]
  },
  {
   "cell_type": "code",
   "execution_count": null,
   "metadata": {},
   "outputs": [],
   "source": [
    "from overflow import get_overflow\n",
    "def run(org):\n",
    "    ListHandler.print_and_log(\"Loading {}\".format(org))\n",
    "    model = coralme.io.pickle.load_pickle_me_model(\"./me-models/{}/MEModel-BIO-{}-ME-TS.pkl\".format(org,org))\n",
    "    index_dct = {r.id : model.reactions.index(r) for r in model.reactions}\n",
    "    met_index_dct = {m.id : model.metabolites.index(m) for m in model.metabolites}\n",
    "    me_nlp = get_nlp(model)\n",
    "    max_mu = model.solution.objective_value*2\n",
    "    \n",
    "    del model\n",
    "    # Run for all conditions\n",
    "    killable = pandas.read_csv(\"./ibdmdb/integration/{}/{}_killable.txt\".format(condition,org),header=None,index_col=0).index.to_list()\n",
    "    for k in killable:\n",
    "        knockout(index_dct,k,me_nlp,limit=lambda x:0)\n",
    "    sol = optimize(index_dct,met_index_dct,me_nlp,max_mu=max_mu)\n",
    "    # sol = model.solution.fluxes[\"biomass_dilution\"] if hasattr(model,\"solution\") else \"infeasible\"\n",
    "    ListHandler.print_and_log(\"Solution for {} : {}\".format(org, sol))\n",
    "    sol.to_frame().to_csv(\"cases/fluxes/{}/{}.csv\".format(condition,org))\n",
    "    # get_overflow(model).to_csv(\"./cases/overflow/{}/{}.csv\".format(condition,org))"
   ]
  },
  {
   "cell_type": "code",
   "execution_count": null,
   "metadata": {},
   "outputs": [],
   "source": [
    "survivors = set(pandas.read_csv(\"survivors.txt\",index_col=0,header=None).index.to_list())\n",
    "processed = set(i.split(\"_killable\")[0] for i in os.listdir(\"./ibdmdb/integration/{}\".format(condition)) if \"txt\" in i)\n",
    "done = set(i.split(\".csv\")[0] for i in os.listdir(\"./cases/fluxes/{}/\".format(condition)) if \"csv\" in i)\n",
    "run_for = processed - done\n",
    "len(run_for)"
   ]
  },
  {
   "cell_type": "code",
   "execution_count": null,
   "metadata": {
    "scrolled": true
   },
   "outputs": [],
   "source": [
    "NP = min([10,len(run_for)])\n",
    "pool = mp.Pool(NP,maxtasksperchild=1)\n",
    "pbar = tqdm(total=len(run_for),position=0,leave=True)\n",
    "pbar.set_description('Building ({} threads)'.format(NP))\n",
    "def collect_result(result):\n",
    "    pbar.update(1)\n",
    "        \n",
    "for org in run_for:\n",
    "    args = ([org])\n",
    "    pool.apply_async(run,args, callback=collect_result)\n",
    "pool.close()\n",
    "pool.join()"
   ]
  },
  {
   "cell_type": "code",
   "execution_count": null,
   "metadata": {},
   "outputs": [],
   "source": []
  }
 ],
 "metadata": {
  "kernelspec": {
   "display_name": "coralme",
   "language": "python",
   "name": "coralme"
  },
  "language_info": {
   "codemirror_mode": {
    "name": "ipython",
    "version": 3
   },
   "file_extension": ".py",
   "mimetype": "text/x-python",
   "name": "python",
   "nbconvert_exporter": "python",
   "pygments_lexer": "ipython3",
   "version": "3.10.12"
  }
 },
 "nbformat": 4,
 "nbformat_minor": 4
}
