{
 "cells": [
  {
   "cell_type": "code",
   "execution_count": 3,
   "metadata": {
    "ExecuteTime": {
     "end_time": "2023-01-23T02:32:11.189506Z",
     "start_time": "2023-01-23T02:32:10.314605Z"
    }
   },
   "outputs": [],
   "source": [
    "import glob\n",
    "import numpy\n",
    "import pandas\n",
    "import seaborn\n",
    "import matplotlib.pyplot as plt\n",
    "from tqdm import tqdm\n",
    "import multiprocessing as mp\n",
    "import os\n",
    "from build import build_model\n",
    "import coralme"
   ]
  },
  {
   "cell_type": "code",
   "execution_count": 4,
   "metadata": {
    "ExecuteTime": {
     "end_time": "2023-01-23T02:32:11.205572Z",
     "start_time": "2023-01-23T02:32:11.190971Z"
    }
   },
   "outputs": [
    {
     "data": {
      "text/html": [
       "<style>.container { width:95% !important; }</style>"
      ],
      "text/plain": [
       "<IPython.core.display.HTML object>"
      ]
     },
     "metadata": {},
     "output_type": "display_data"
    }
   ],
   "source": [
    "from IPython.display import display, HTML, Math, Markdown\n",
    "display(HTML(\"<style>.container { width:95% !important; }</style>\"))\n",
    "\n",
    "%load_ext autoreload\n",
    "%autoreload 2"
   ]
  },
  {
   "cell_type": "code",
   "execution_count": 5,
   "metadata": {
    "scrolled": true
   },
   "outputs": [],
   "source": [
    "# !bash report.sh\n",
    "organisms = set(pandas.read_csv(\"biomass_constrained.txt\",index_col=0,header=None).index.to_list())\n",
    "done = set(i.split(\".csv\")[0] for i in os.listdir(\"./cases/fluxes/nonIBD/\") if \"csv\" in i)"
   ]
  },
  {
   "cell_type": "code",
   "execution_count": 6,
   "metadata": {},
   "outputs": [
    {
     "data": {
      "text/plain": [
       "495"
      ]
     },
     "execution_count": 6,
     "metadata": {},
     "output_type": "execute_result"
    }
   ],
   "source": [
    "len(organisms)"
   ]
  },
  {
   "cell_type": "markdown",
   "metadata": {},
   "source": [
    "### Load"
   ]
  },
  {
   "cell_type": "code",
   "execution_count": 21,
   "metadata": {},
   "outputs": [],
   "source": [
    "def load_data(path):\n",
    "    try:\n",
    "        df = pandas.read_csv(path,index_col=0)[[\"fluxes\"]]\n",
    "    except:\n",
    "        df = pandas.DataFrame(columns=[\"fluxes\"])\n",
    "    df.columns = [org]\n",
    "    return df"
   ]
  },
  {
   "cell_type": "code",
   "execution_count": 22,
   "metadata": {},
   "outputs": [],
   "source": [
    "from tqdm import tqdm\n",
    "conditions = [\"nonIBD\", \"IBD\"]"
   ]
  },
  {
   "cell_type": "code",
   "execution_count": 30,
   "metadata": {},
   "outputs": [],
   "source": [
    "overflow = {i:pandas.DataFrame() for i in conditions}\n",
    "growth = {i:{} for i in conditions}"
   ]
  },
  {
   "cell_type": "code",
   "execution_count": 24,
   "metadata": {},
   "outputs": [
    {
     "name": "stderr",
     "output_type": "stream",
     "text": [
      "100%|████████████████████████████████████████████████████████████████████████████████████████████| 495/495 [00:01<00:00, 297.83it/s]\n"
     ]
    }
   ],
   "source": [
    "for org in tqdm(organisms):\n",
    "    for c in conditions:\n",
    "        tmp = load_data(\"./cases/overflow/{}/{}.csv\".format(c,org))\n",
    "        overflow[c] = pandas.concat([overflow[c],tmp], axis=1).fillna(0)"
   ]
  },
  {
   "cell_type": "code",
   "execution_count": 25,
   "metadata": {},
   "outputs": [
    {
     "name": "stderr",
     "output_type": "stream",
     "text": [
      "100%|█████████████████████████████████████████████████████████████████████████████████████████████| 495/495 [00:26<00:00, 18.95it/s]\n"
     ]
    }
   ],
   "source": [
    "for org in tqdm(organisms):\n",
    "    for c in conditions:\n",
    "        tmp = load_data(\"./cases/fluxes/{}/{}.csv\".format(c,org))\n",
    "        if tmp.empty:\n",
    "            val = None\n",
    "        else:\n",
    "            val = tmp[org][\"biomass_dilution\"]\n",
    "        growth[c][org] = val\n",
    "growth = pandas.DataFrame.from_dict(growth)"
   ]
  },
  {
   "cell_type": "code",
   "execution_count": 26,
   "metadata": {},
   "outputs": [
    {
     "data": {
      "text/html": [
       "<div>\n",
       "<style scoped>\n",
       "    .dataframe tbody tr th:only-of-type {\n",
       "        vertical-align: middle;\n",
       "    }\n",
       "\n",
       "    .dataframe tbody tr th {\n",
       "        vertical-align: top;\n",
       "    }\n",
       "\n",
       "    .dataframe thead th {\n",
       "        text-align: right;\n",
       "    }\n",
       "</style>\n",
       "<table border=\"1\" class=\"dataframe\">\n",
       "  <thead>\n",
       "    <tr style=\"text-align: right;\">\n",
       "      <th></th>\n",
       "      <th>nonIBD</th>\n",
       "      <th>IBD</th>\n",
       "    </tr>\n",
       "  </thead>\n",
       "  <tbody>\n",
       "    <tr>\n",
       "      <th>Capnocytophaga_sputigena_ATCC_33612</th>\n",
       "      <td>0.003977</td>\n",
       "      <td>0.006603</td>\n",
       "    </tr>\n",
       "    <tr>\n",
       "      <th>Brachyspira_pilosicoli_B2904</th>\n",
       "      <td>0.001114</td>\n",
       "      <td>0.001134</td>\n",
       "    </tr>\n",
       "    <tr>\n",
       "      <th>Listeria_monocytogenes_SLCC_2378</th>\n",
       "      <td>0.001697</td>\n",
       "      <td>0.001697</td>\n",
       "    </tr>\n",
       "    <tr>\n",
       "      <th>Providencia_rustigianii_DSM_4541</th>\n",
       "      <td>0.001154</td>\n",
       "      <td>0.001298</td>\n",
       "    </tr>\n",
       "    <tr>\n",
       "      <th>Bacteroides_xylanisolvens_SD_CC_1b</th>\n",
       "      <td>0.012298</td>\n",
       "      <td>0.130969</td>\n",
       "    </tr>\n",
       "    <tr>\n",
       "      <th>...</th>\n",
       "      <td>...</td>\n",
       "      <td>...</td>\n",
       "    </tr>\n",
       "    <tr>\n",
       "      <th>Lactobacillus_helveticus_DPC_4571</th>\n",
       "      <td>0.001009</td>\n",
       "      <td>0.001070</td>\n",
       "    </tr>\n",
       "    <tr>\n",
       "      <th>Lactobacillus_delbrueckii_subsp_bulgaricus_ATCC_BAA_365</th>\n",
       "      <td>0.001341</td>\n",
       "      <td>0.001341</td>\n",
       "    </tr>\n",
       "    <tr>\n",
       "      <th>Bacteroides_sp_2_1_7</th>\n",
       "      <td>0.093961</td>\n",
       "      <td>0.102222</td>\n",
       "    </tr>\n",
       "    <tr>\n",
       "      <th>Edwardsiella_tarda_FL6_60</th>\n",
       "      <td>0.001102</td>\n",
       "      <td>0.001349</td>\n",
       "    </tr>\n",
       "    <tr>\n",
       "      <th>Brevibacillus_borstelensis_AK1</th>\n",
       "      <td>0.002363</td>\n",
       "      <td>0.002475</td>\n",
       "    </tr>\n",
       "  </tbody>\n",
       "</table>\n",
       "<p>485 rows × 2 columns</p>\n",
       "</div>"
      ],
      "text/plain": [
       "                                                      nonIBD       IBD\n",
       "Capnocytophaga_sputigena_ATCC_33612                 0.003977  0.006603\n",
       "Brachyspira_pilosicoli_B2904                        0.001114  0.001134\n",
       "Listeria_monocytogenes_SLCC_2378                    0.001697  0.001697\n",
       "Providencia_rustigianii_DSM_4541                    0.001154  0.001298\n",
       "Bacteroides_xylanisolvens_SD_CC_1b                  0.012298  0.130969\n",
       "...                                                      ...       ...\n",
       "Lactobacillus_helveticus_DPC_4571                   0.001009  0.001070\n",
       "Lactobacillus_delbrueckii_subsp_bulgaricus_ATCC...  0.001341  0.001341\n",
       "Bacteroides_sp_2_1_7                                0.093961  0.102222\n",
       "Edwardsiella_tarda_FL6_60                           0.001102  0.001349\n",
       "Brevibacillus_borstelensis_AK1                      0.002363  0.002475\n",
       "\n",
       "[485 rows x 2 columns]"
      ]
     },
     "execution_count": 26,
     "metadata": {},
     "output_type": "execute_result"
    }
   ],
   "source": [
    "growth.dropna()"
   ]
  },
  {
   "cell_type": "markdown",
   "metadata": {},
   "source": [
    "### Save"
   ]
  },
  {
   "cell_type": "code",
   "execution_count": 27,
   "metadata": {},
   "outputs": [],
   "source": [
    "growth.sort_index().to_csv(\"datasets/3.5.IBD_growth_rates.csv\")"
   ]
  },
  {
   "cell_type": "code",
   "execution_count": 28,
   "metadata": {},
   "outputs": [],
   "source": [
    "for c,df in overflow.items():\n",
    "    df.to_csv(\"datasets/3.5.{}_overflow.csv\".format(c))"
   ]
  },
  {
   "cell_type": "code",
   "execution_count": 7,
   "metadata": {},
   "outputs": [
    {
     "data": {
      "text/html": [
       "<div>\n",
       "<style scoped>\n",
       "    .dataframe tbody tr th:only-of-type {\n",
       "        vertical-align: middle;\n",
       "    }\n",
       "\n",
       "    .dataframe tbody tr th {\n",
       "        vertical-align: top;\n",
       "    }\n",
       "\n",
       "    .dataframe thead th {\n",
       "        text-align: right;\n",
       "    }\n",
       "</style>\n",
       "<table border=\"1\" class=\"dataframe\">\n",
       "  <thead>\n",
       "    <tr style=\"text-align: right;\">\n",
       "      <th></th>\n",
       "      <th>nonIBD</th>\n",
       "      <th>IBD</th>\n",
       "    </tr>\n",
       "  </thead>\n",
       "  <tbody>\n",
       "    <tr>\n",
       "      <th>Abiotrophia_defectiva_ATCC_49176</th>\n",
       "      <td>0.001993</td>\n",
       "      <td>NaN</td>\n",
       "    </tr>\n",
       "    <tr>\n",
       "      <th>Acidaminococcus_fermentans_DSM_20731</th>\n",
       "      <td>0.001525</td>\n",
       "      <td>0.001937</td>\n",
       "    </tr>\n",
       "    <tr>\n",
       "      <th>Acidaminococcus_intestini_RyC_MR95</th>\n",
       "      <td>0.001026</td>\n",
       "      <td>0.002054</td>\n",
       "    </tr>\n",
       "    <tr>\n",
       "      <th>Acidaminococcus_sp_D21</th>\n",
       "      <td>0.002297</td>\n",
       "      <td>0.055847</td>\n",
       "    </tr>\n",
       "    <tr>\n",
       "      <th>Acinetobacter_calcoaceticus_PHEA_2</th>\n",
       "      <td>0.001129</td>\n",
       "      <td>0.000918</td>\n",
       "    </tr>\n",
       "    <tr>\n",
       "      <th>...</th>\n",
       "      <td>...</td>\n",
       "      <td>...</td>\n",
       "    </tr>\n",
       "    <tr>\n",
       "      <th>Yersinia_enterocolitica_subsp_enterocolitica_8081</th>\n",
       "      <td>0.002792</td>\n",
       "      <td>0.001391</td>\n",
       "    </tr>\n",
       "    <tr>\n",
       "      <th>Yersinia_frederiksenii_ATCC_33641</th>\n",
       "      <td>0.004153</td>\n",
       "      <td>0.003634</td>\n",
       "    </tr>\n",
       "    <tr>\n",
       "      <th>Yersinia_kristensenii_ATCC_33638</th>\n",
       "      <td>0.000870</td>\n",
       "      <td>0.001085</td>\n",
       "    </tr>\n",
       "    <tr>\n",
       "      <th>Yersinia_pseudotuberculosis_YPIII</th>\n",
       "      <td>0.007851</td>\n",
       "      <td>0.001409</td>\n",
       "    </tr>\n",
       "    <tr>\n",
       "      <th>Yersinia_rohdei_ATCC_43380</th>\n",
       "      <td>0.000848</td>\n",
       "      <td>0.002542</td>\n",
       "    </tr>\n",
       "  </tbody>\n",
       "</table>\n",
       "<p>495 rows × 2 columns</p>\n",
       "</div>"
      ],
      "text/plain": [
       "                                                     nonIBD       IBD\n",
       "Abiotrophia_defectiva_ATCC_49176                   0.001993       NaN\n",
       "Acidaminococcus_fermentans_DSM_20731               0.001525  0.001937\n",
       "Acidaminococcus_intestini_RyC_MR95                 0.001026  0.002054\n",
       "Acidaminococcus_sp_D21                             0.002297  0.055847\n",
       "Acinetobacter_calcoaceticus_PHEA_2                 0.001129  0.000918\n",
       "...                                                     ...       ...\n",
       "Yersinia_enterocolitica_subsp_enterocolitica_8081  0.002792  0.001391\n",
       "Yersinia_frederiksenii_ATCC_33641                  0.004153  0.003634\n",
       "Yersinia_kristensenii_ATCC_33638                   0.000870  0.001085\n",
       "Yersinia_pseudotuberculosis_YPIII                  0.007851  0.001409\n",
       "Yersinia_rohdei_ATCC_43380                         0.000848  0.002542\n",
       "\n",
       "[495 rows x 2 columns]"
      ]
     },
     "execution_count": 7,
     "metadata": {},
     "output_type": "execute_result"
    }
   ],
   "source": [
    "growth = pandas.read_csv(\"datasets/3.5.IBD_growth_rates.csv\",index_col=0)"
   ]
  }
 ],
 "metadata": {
  "kernelspec": {
   "display_name": "coralme",
   "language": "python",
   "name": "coralme"
  },
  "language_info": {
   "codemirror_mode": {
    "name": "ipython",
    "version": 3
   },
   "file_extension": ".py",
   "mimetype": "text/x-python",
   "name": "python",
   "nbconvert_exporter": "python",
   "pygments_lexer": "ipython3",
   "version": "3.10.12"
  }
 },
 "nbformat": 4,
 "nbformat_minor": 4
}
